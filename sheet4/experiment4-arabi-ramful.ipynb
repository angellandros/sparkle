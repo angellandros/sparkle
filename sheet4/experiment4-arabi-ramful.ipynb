{
 "cells": [
  {
   "cell_type": "code",
   "execution_count": 2,
   "metadata": {},
   "outputs": [],
   "source": [
    "#Import packages.\n",
    "from pyspark.sql import SparkSession\n",
    "from pyspark.sql import functions as Func\n",
    "from pyspark.sql.types import *\n",
    "from pyspark.sql.window import Window\n",
    "from pyspark.ml.feature import RegexTokenizer, StopWordsRemover, IDF\n",
    "from pyspark.ml.linalg import SparseVector, DenseVector, VectorUDT, Vectors, Vector\n",
    "from pyspark.ml.clustering import KMeans, LDA\n",
    "from nltk.stem import PorterStemmer\n",
    "import math\n",
    "import numpy as np\n",
    "import itertools\n",
    "#import string\n",
    "\n",
    "#Create a spark session.\n",
    "sparkSession = SparkSession.builder.appName(\"Experiment4\").getOrCreate()\n",
    "#Get default configurations\n",
    "sparkSession.sparkContext._conf.getAll()\n",
    "#Update default configurations\n",
    "conf = sparkSession.sparkContext._conf.setAll([('spark.executor.memory', '16g')\\\n",
    "                                        , ('spark.app.name', 'Spark Updated Conf')\\\n",
    "                                        , ('spark.executor.cores', '8')\\\n",
    "                                        , ('spark.cores.max', '8')\\\n",
    "                                        , ('spark.driver.memory','16g')\\\n",
    "                                        ,('spark.driver.maxResultSize','16g')])\n",
    "#Stop the current Spark Session\n",
    "sparkSession.sparkContext.stop()\n",
    "#Create a Spark Session\n",
    "sparkSession = SparkSession.builder.config(conf=conf).getOrCreate()"
   ]
  },
  {
   "cell_type": "code",
   "execution_count": 3,
   "metadata": {},
   "outputs": [
    {
     "name": "stdout",
     "output_type": "stream",
     "text": [
      "+---------+\n",
      "|stop_word|\n",
      "+---------+\n",
      "|        a|\n",
      "|     able|\n",
      "|    about|\n",
      "|    above|\n",
      "|according|\n",
      "+---------+\n",
      "only showing top 5 rows\n",
      "\n"
     ]
    }
   ],
   "source": [
    "#Loading stopwords_en.txt data into a dataframe.\n",
    "stopWordsDF = sparkSession.read\\\n",
    "                .load(\"/home/jovyan/work/stopwords_en.txt\", format=\"text\", sep=\" \", inferSchema=\"true\", header=\"false\")\\\n",
    "                .toDF('stop_word')\n",
    "stopWordsDF.show(5, truncate=True)"
   ]
  },
  {
   "cell_type": "code",
   "execution_count": 104,
   "metadata": {},
   "outputs": [
    {
     "name": "stdout",
     "output_type": "stream",
     "text": [
      "+--------------------+--------------------+\n",
      "|        user_hash_id|        user_library|\n",
      "+--------------------+--------------------+\n",
      "|28d3f81251d94b097...|3929762,503574,58...|\n",
      "|d0c9aaa788153daea...|2080631,6343346,5...|\n",
      "|f05bcffe7951de9e5...|1158654,478707,12...|\n",
      "|ca4f1ba4094011d9a...|              278019|\n",
      "|d1d41a15201915503...|6610569,6493797,6...|\n",
      "+--------------------+--------------------+\n",
      "only showing top 5 rows\n",
      "\n"
     ]
    }
   ],
   "source": [
    "#Loading users_libraries.txt data into a dataframe.\n",
    "#Defining the column names.\n",
    "user_columns = ['raw_data']\n",
    "rawUsersDF = sparkSession.read\\\n",
    "            .load(\"/home/jovyan/work/mod_users_libraries3.txt\", format=\"text\", sep=\";\",\\\n",
    "                  inferSchema=\"true\", quote='\"', header=\"false\")\\\n",
    "            .toDF(*user_columns)\n",
    "\n",
    "usersDF = rawUsersDF.select(Func.split(rawUsersDF.raw_data, \";\").getItem(0).alias(\"user_hash_id\"),\\\n",
    "                           Func.split(rawUsersDF.raw_data, \";\").getItem(1).alias(\"user_library\"))\n",
    "usersDF.show(5)"
   ]
  },
  {
   "cell_type": "code",
   "execution_count": 105,
   "metadata": {},
   "outputs": [
    {
     "name": "stdout",
     "output_type": "stream",
     "text": [
      "+--------+-------+--------------------+----------+------+---------+-----+------+------+----+-----+-------------------+-------+--------------------+--------------------+\n",
      "|paper_id|   type|             journal|book_title|series|publisher|pages|volume|number|year|month|          postedate|address|               title|            abstract|\n",
      "+--------+-------+--------------------+----------+------+---------+-----+------+------+----+-----+-------------------+-------+--------------------+--------------------+\n",
      "|   80546|article|biology and philo...|      null|  null|     null|   17|    19|     2|2004|  mar|2005-01-26 21:35:21|   null|the arbitrariness...|the genetic code ...|\n",
      "| 5842862|article|      molecular cell|      null|  null| elsevier|    2|    35|     6|2009|  sep|2009-09-30 17:11:23|   null|how to choose a g...|choosing good pro...|\n",
      "+--------+-------+--------------------+----------+------+---------+-----+------+------+----+-----+-------------------+-------+--------------------+--------------------+\n",
      "only showing top 2 rows\n",
      "\n"
     ]
    }
   ],
   "source": [
    "#Loading papers.csv data into a dataframe.\n",
    "#Defining the column names.\n",
    "paper_columns = ['paper_id', 'type', 'journal', 'book_title', \\\n",
    "           'series', 'publisher', 'pages', 'volume', \\\n",
    "           'number', 'year', 'month', 'postedate',\\\n",
    "           'address', 'title', 'abstract']\n",
    "\n",
    "papersDF = sparkSession.read\\\n",
    "            .load(\"/home/jovyan/work/papers.csv\", format=\"csv\", sep=\",\", inferSchema=\"true\", quote='\"', header=\"false\")\\\n",
    "            .toDF(*paper_columns)\n",
    "papersDF.show(2, truncate=True)"
   ]
  },
  {
   "cell_type": "code",
   "execution_count": 109,
   "metadata": {},
   "outputs": [],
   "source": [
    "#touserpaper = explodUsersDF.select(\"paper_id\").distinct()\n",
    "#papersDF = touserpaper.join(papersDF, \"paper_id\")\n",
    "#papersDF.show(2)"
   ]
  },
  {
   "cell_type": "code",
   "execution_count": 124,
   "metadata": {},
   "outputs": [],
   "source": [
    "#papersDF.count()\n",
    "#filteredDF.count()"
   ]
  },
  {
   "cell_type": "code",
   "execution_count": 108,
   "metadata": {},
   "outputs": [
    {
     "name": "stdout",
     "output_type": "stream",
     "text": [
      "+--------+--------------------+\n",
      "|paper_id|                text|\n",
      "+--------+--------------------+\n",
      "|   80546|the arbitrariness...|\n",
      "| 5842862|how to choose a g...|\n",
      "| 1242600|how to write cons...|\n",
      "|  305755|the structure of ...|\n",
      "| 6603134|how to build a mo...|\n",
      "+--------+--------------------+\n",
      "only showing top 5 rows\n",
      "\n"
     ]
    }
   ],
   "source": [
    "#Concatenate the title and abstract fields of papers together.\n",
    "textDF = papersDF.select(papersDF.paper_id, Func.concat_ws(\" \", papersDF.title, papersDF.abstract).alias(\"text\"))\n",
    "textDF.show(5)"
   ]
  },
  {
   "cell_type": "code",
   "execution_count": 110,
   "metadata": {},
   "outputs": [
    {
     "data": {
      "text/plain": [
       "Row(paper_id='80546', text=\"the arbitrariness of the genetic code the genetic code has been regarded as arbitrary in the sense that the codon-amino acid assignments could be different than they actually are. this general idea has been spelled out differently by previous, often rather implicit accounts of arbitrariness. they have drawn on the frozen accident theory, on evolutionary contingency, on alternative causal pathways, and on the absence of direct stereochemical interactions between codons and amino acids. it has also been suggested that the arbitrariness of the genetic code justifies attributing semantic information to macromolecules, notably to {dna}. i argue that these accounts of arbitrariness are unsatisfactory. i propose that the code is arbitrary in the sense of jacques monod's concept of chemical arbitrariness: the genetic code is arbitrary in that any codon requires certain chemical and structural properties to specify a particular amino acid, but these properties are not required in virtue of a principle of chemistry. this notion of arbitrariness is compatible with several recent hypotheses about code evolution. i maintain that the code's chemical arbitrariness is neither sufficient nor necessary for attributing semantic information to nucleic acids.\", words=['arbitrariness', 'genetic', 'code', 'genetic', 'code', 'been', 'regarded', 'arbitrary', 'sense', 'that', 'codon-amino', 'acid', 'assignments', 'could', 'different', 'than', 'they', 'actually', 'this', 'general', 'idea', 'been', 'spelled', 'differently', 'previous', 'often', 'rather', 'implicit', 'accounts', 'arbitrariness', 'they', 'have', 'drawn', 'frozen', 'accident', 'theory', 'evolutionary', 'contingency', 'alternative', 'causal', 'pathways', 'absence', 'direct', 'stereochemical', 'interactions', 'between', 'codons', 'amino', 'acids', 'also', 'been', 'suggested', 'that', 'arbitrariness', 'genetic', 'code', 'justifies', 'attributing', 'semantic', 'information', 'macromolecules', 'notably', 'argue', 'that', 'these', 'accounts', 'arbitrariness', 'unsatisfactory', 'propose', 'that', 'code', 'arbitrary', 'sense', 'jacques', 'monod', 'concept', 'chemical', 'arbitrariness', 'genetic', 'code', 'arbitrary', 'that', 'codon', 'requires', 'certain', 'chemical', 'structural', 'properties', 'specify', 'particular', 'amino', 'acid', 'these', 'properties', 'required', 'virtue', 'principle', 'chemistry', 'this', 'notion', 'arbitrariness', 'compatible', 'with', 'several', 'recent', 'hypotheses', 'about', 'code', 'evolution', 'maintain', 'that', 'code', 'chemical', 'arbitrariness', 'neither', 'sufficient', 'necessary', 'attributing', 'semantic', 'information', 'nucleic', 'acids'])"
      ]
     },
     "execution_count": 110,
     "metadata": {},
     "output_type": "execute_result"
    }
   ],
   "source": [
    "#Perform tokenization and remove words less than 3 characters.\n",
    "#Keep the words containing \"-\" and \"_\" characters.\n",
    "reTokenizer = RegexTokenizer(inputCol=\"text\", outputCol=\"words\", minTokenLength=4, pattern=\"[^-_\\\\w]\")\n",
    "wordsDF = reTokenizer.transform(textDF)\n",
    "wordsDF.head()"
   ]
  },
  {
   "cell_type": "code",
   "execution_count": 111,
   "metadata": {},
   "outputs": [],
   "source": [
    "#Function to remove the characters \"-\" and \"_\" from words.\n",
    "def concatConnectedWords(wordList):\n",
    "    wordSet = set(wordList)\n",
    "    identity = str.maketrans(\"\", \"\", \"-_\")\n",
    "    wordSet = [word.translate(identity) for word in wordSet]\n",
    "    return wordSet\n",
    "\n",
    "udf_concatConnectedWords = Func.udf(concatConnectedWords, ArrayType(StringType()))"
   ]
  },
  {
   "cell_type": "code",
   "execution_count": 112,
   "metadata": {},
   "outputs": [
    {
     "data": {
      "text/plain": [
       "[Row(paper_id='80546', processed_words=['these', 'actually', 'certain', 'stereochemical', 'notably', 'that', 'concept', 'particular', 'code', 'chemical', 'could', 'they', 'direct', 'propose', 'with', 'about', 'chemistry', 'general', 'regarded', 'notion', 'this', 'nucleic', 'information', 'drawn', 'specify', 'evolution', 'neither', 'absence', 'genetic', 'implicit', 'unsatisfactory', 'previous', 'frozen', 'between', 'alternative', 'amino', 'attributing', 'required', 'codonamino', 'been', 'have', 'structural', 'several', 'properties', 'maintain', 'necessary', 'requires', 'sense', 'hypotheses', 'pathways', 'acids', 'causal', 'codons', 'arbitrary', 'often', 'theory', 'also', 'macromolecules', 'assignments', 'rather', 'accounts', 'contingency', 'acid', 'monod', 'virtue', 'sufficient', 'jacques', 'principle', 'argue', 'idea', 'arbitrariness', 'suggested', 'compatible', 'than', 'recent', 'different', 'semantic', 'codon', 'interactions', 'justifies', 'accident', 'spelled', 'evolutionary', 'differently']),\n",
       " Row(paper_id='5842862', processed_words=['profession', 'that', 'lack', 'what', 'explicit', 'results', 'merit', 'discussion', 'within', 'tenure', 'observation', 'this', 'choose', 'problems', 'smart', 'teachers', 'scientific', 'usually', 'explicitly', 'choosing', 'scientist', 'being', 'figure', 'give', 'good', 'resulting', 'subject', 'vacuum', 'publication', 'approaches', 'through', 'scientists', 'problem', 'expected', 'their', 'such', 'journals', 'leaves', 'discussed', 'lead', 'essential', 'valued', 'enough'])]"
      ]
     },
     "execution_count": 112,
     "metadata": {},
     "output_type": "execute_result"
    }
   ],
   "source": [
    "#removing the characters \"-\" and \"_\" from words.\n",
    "removedConnectorsDF = wordsDF.select(wordsDF.paper_id,\\\n",
    "                                     Func.lit(udf_concatConnectedWords(wordsDF.words)).alias(\"processed_words\"))\n",
    "removedConnectorsDF.take(2)"
   ]
  },
  {
   "cell_type": "code",
   "execution_count": 113,
   "metadata": {},
   "outputs": [
    {
     "data": {
      "text/plain": [
       "['a',\n",
       " 'able',\n",
       " 'about',\n",
       " 'above',\n",
       " 'according',\n",
       " 'accordingly',\n",
       " 'across',\n",
       " 'actually',\n",
       " 'after',\n",
       " 'afterwards']"
      ]
     },
     "execution_count": 113,
     "metadata": {},
     "output_type": "execute_result"
    }
   ],
   "source": [
    "#Creating a list of stop words.\n",
    "stopWordsList = stopWordsDF.agg(Func.collect_list(stopWordsDF.stop_word)).rdd.flatMap(lambda row: row[0])\n",
    "stopWordsList.take(10)"
   ]
  },
  {
   "cell_type": "code",
   "execution_count": 114,
   "metadata": {},
   "outputs": [
    {
     "data": {
      "text/plain": [
       "Row(words=['stereochemical', 'notably', 'concept', 'code', 'chemical', 'direct', 'propose', 'chemistry', 'general', 'regarded', 'notion', 'nucleic', 'information', 'drawn', 'evolution', 'absence', 'genetic', 'implicit', 'unsatisfactory', 'previous', 'frozen', 'alternative', 'amino', 'attributing', 'required', 'codonamino', 'structural', 'properties', 'maintain', 'requires', 'sense', 'hypotheses', 'pathways', 'acids', 'causal', 'codons', 'arbitrary', 'theory', 'macromolecules', 'assignments', 'accounts', 'contingency', 'acid', 'monod', 'virtue', 'sufficient', 'jacques', 'principle', 'argue', 'idea', 'arbitrariness', 'suggested', 'compatible', 'recent', 'semantic', 'codon', 'interactions', 'justifies', 'accident', 'spelled', 'evolutionary', 'differently'])"
      ]
     },
     "execution_count": 114,
     "metadata": {},
     "output_type": "execute_result"
    }
   ],
   "source": [
    "#Removing the stop words.\n",
    "remover = StopWordsRemover(inputCol=\"processed_words\", outputCol=\"words\", stopWords=stopWordsList.collect())\n",
    "withoutStopWordsDF = remover.transform(removedConnectorsDF)\n",
    "withoutStopWordsDF.select(\"words\").first()"
   ]
  },
  {
   "cell_type": "code",
   "execution_count": 115,
   "metadata": {},
   "outputs": [],
   "source": [
    "#Function to perform stemming.\n",
    "stemmer = PorterStemmer()\n",
    "\n",
    "def stemming(wordList):\n",
    "    wordSet = set(wordList)\n",
    "    wordSet = [stemmer.stem(word) for word in wordList]\n",
    "    return sorted(wordSet)\n",
    "\n",
    "#User defined function to perform stemming.\n",
    "udf_stemming = Func.udf(stemming, ArrayType(StringType()))"
   ]
  },
  {
   "cell_type": "code",
   "execution_count": 116,
   "metadata": {},
   "outputs": [],
   "source": [
    "#Performing stemming.\n",
    "stemmedWordsDF = withoutStopWordsDF.withColumn(\"stemmed_words\", udf_stemming(withoutStopWordsDF.words))"
   ]
  },
  {
   "cell_type": "code",
   "execution_count": 117,
   "metadata": {},
   "outputs": [
    {
     "name": "stdout",
     "output_type": "stream",
     "text": [
      "+-----------+---+\n",
      "|single_word| df|\n",
      "+-----------+---+\n",
      "|       1159|  1|\n",
      "|      input| 53|\n",
      "|    persist|  8|\n",
      "|     bhi040|  1|\n",
      "|    disclos|  4|\n",
      "|      trail|  3|\n",
      "|      carlo|  8|\n",
      "|     travel|  9|\n",
      "|     harder|  2|\n",
      "|       hope|  9|\n",
      "+-----------+---+\n",
      "only showing top 10 rows\n",
      "\n"
     ]
    }
   ],
   "source": [
    "#Counting the number of papers (frequency) in which a particular word appears. (Document Frequency)\n",
    "explodedDF = stemmedWordsDF.select(stemmedWordsDF.paper_id,\\\n",
    "                                   Func.explode(stemmedWordsDF.stemmed_words).alias(\"single_word\"))\\\n",
    "                            .distinct()\\\n",
    "                            .groupBy(\"single_word\")\\\n",
    "                            .agg(Func.count(\"single_word\")\\\n",
    "                                 .alias(\"df\"))\n",
    "explodedDF.show(10)"
   ]
  },
  {
   "cell_type": "code",
   "execution_count": 122,
   "metadata": {},
   "outputs": [
    {
     "name": "stdout",
     "output_type": "stream",
     "text": [
      "+-----------+---+\n",
      "|single_word| df|\n",
      "+-----------+---+\n",
      "|      input| 53|\n",
      "|       oper| 62|\n",
      "|      curat| 37|\n",
      "|    explain| 51|\n",
      "|    classif| 81|\n",
      "|        map| 71|\n",
      "|     growth| 44|\n",
      "|  character| 68|\n",
      "|      decis| 32|\n",
      "|       grow| 28|\n",
      "+-----------+---+\n",
      "only showing top 10 rows\n",
      "\n"
     ]
    }
   ],
   "source": [
    "#Counting the number of unique papers.\n",
    "#Setting the upper and lower bounds.\n",
    "uniqPaperCount = stemmedWordsDF.count()\n",
    "upperBoundary = 0.1*uniqPaperCount\n",
    "lowerBoundary = 20\n",
    "#filter the dataframe to select only words that appear in more than 20 papers and\n",
    "#less than 10 percent of the total number of papers.\n",
    "filteredDF = explodedDF.filter((explodedDF.df>=lowerBoundary) & (explodedDF.df<=upperBoundary))\n",
    "filteredDF.show(10)"
   ]
  },
  {
   "cell_type": "code",
   "execution_count": 125,
   "metadata": {},
   "outputs": [
    {
     "name": "stdout",
     "output_type": "stream",
     "text": [
      "+-----------+\n",
      "|single_word|\n",
      "+-----------+\n",
      "|     integr|\n",
      "|     improv|\n",
      "| understand|\n",
      "|     design|\n",
      "|  algorithm|\n",
      "| experiment|\n",
      "|       test|\n",
      "|   knowledg|\n",
      "|     combin|\n",
      "|      relat|\n",
      "+-----------+\n",
      "only showing top 10 rows\n",
      "\n"
     ]
    }
   ],
   "source": [
    "#Limiting the number of important terms to 1000.\n",
    "termsDF = filteredDF.sort(\"df\", ascending=False).limit(1000).select(\"single_word\")\n",
    "termsDF.show(10)"
   ]
  },
  {
   "cell_type": "code",
   "execution_count": 126,
   "metadata": {},
   "outputs": [
    {
     "name": "stdout",
     "output_type": "stream",
     "text": [
      "+-----------+-------+\n",
      "|single_word|word_id|\n",
      "+-----------+-------+\n",
      "|     improv|      0|\n",
      "|     integr|      1|\n",
      "| understand|      2|\n",
      "|     design|      3|\n",
      "|  algorithm|      4|\n",
      "|     combin|      5|\n",
      "|   knowledg|      6|\n",
      "| experiment|      7|\n",
      "|       test|      8|\n",
      "|      relat|      9|\n",
      "+-----------+-------+\n",
      "only showing top 10 rows\n",
      "\n"
     ]
    }
   ],
   "source": [
    "#Generating an index to the top 1000 important terms starting with the index 0.\n",
    "termsDF = termsDF.withColumn(\"word_id\", Func.monotonically_increasing_id())\n",
    "\n",
    "wordWinSpec = Window.orderBy(\"word_id\")\n",
    "\n",
    "termsDF = termsDF.withColumn(\"word_id\",Func.row_number().over(wordWinSpec)-1)\n",
    "termsDF.show(10, truncate=True)"
   ]
  },
  {
   "cell_type": "code",
   "execution_count": 127,
   "metadata": {},
   "outputs": [
    {
     "name": "stdout",
     "output_type": "stream",
     "text": [
      "+--------+-------------+---+\n",
      "|paper_id|  single_word| tf|\n",
      "+--------+-------------+---+\n",
      "|   90558|       common|  1|\n",
      "| 1042553|bonferronityp|  1|\n",
      "|  469428|       requir|  1|\n",
      "| 5394760|      develop|  1|\n",
      "|  820297|         oper|  1|\n",
      "| 1279898|        studi|  1|\n",
      "|  557229|      primari|  1|\n",
      "|   94348|         vari|  1|\n",
      "|  100186|      progeni|  1|\n",
      "|  227173|        cumul|  1|\n",
      "+--------+-------------+---+\n",
      "only showing top 10 rows\n",
      "\n"
     ]
    }
   ],
   "source": [
    "#Counting the number of times a word appeared in a particular paper (word count per paper) (term frequency).\n",
    "tempDF = stemmedWordsDF.select(stemmedWordsDF.paper_id,\\\n",
    "                               Func.explode(stemmedWordsDF.stemmed_words).alias(\"single_word\"))\\\n",
    "                        .groupBy(\"paper_id\", \"single_word\")\\\n",
    "                        .agg(Func.count(\"single_word\").alias(\"tf\"))\n",
    "tempDF.show(10)"
   ]
  },
  {
   "cell_type": "code",
   "execution_count": 128,
   "metadata": {},
   "outputs": [
    {
     "name": "stdout",
     "output_type": "stream",
     "text": [
      "+--------+--------------------+\n",
      "|paper_id|            map_list|\n",
      "+--------+--------------------+\n",
      "| 7065512|[[533 -> 1], [404...|\n",
      "| 5910752|[[585 -> 1], [64 ...|\n",
      "| 1843282|[[357 -> 1], [209...|\n",
      "| 2706950|[[78 -> 1], [230 ...|\n",
      "| 4169015|[[85 -> 1], [786 ...|\n",
      "| 2180593|[[5 -> 1], [65 ->...|\n",
      "|  227173|[[584 -> 1], [712...|\n",
      "|  166220|[[397 -> 1], [249...|\n",
      "| 1089946|[[31 -> 1], [359 ...|\n",
      "| 1458475|[[707 -> 1], [623...|\n",
      "+--------+--------------------+\n",
      "only showing top 10 rows\n",
      "\n"
     ]
    }
   ],
   "source": [
    "#Creating a dataframe with term index and count of the word per paper.\n",
    "#Creating a column containing a mapping of term index -> count per paper.\n",
    "joinedResult = tempDF.join(termsDF, \"single_word\").withColumn(\"map\", Func.create_map(\"word_id\", \"tf\"))\\\n",
    "                    .groupBy(\"paper_id\").agg(Func.collect_list(\"map\").alias(\"map_list\"))\n",
    "joinedResult.show(10)"
   ]
  },
  {
   "cell_type": "code",
   "execution_count": 129,
   "metadata": {},
   "outputs": [],
   "source": [
    "#Function to create a sparse vector for each paper.\n",
    "def toSparse(mapList):\n",
    "    pairs = []\n",
    "    for map_val in mapList:\n",
    "        pairs += map_val.items()\n",
    "    pairs = sorted(pairs, key=lambda pair: pair[0])\n",
    "    return SparseVector(1000, [x[0] for x in pairs], [x[1] for x in pairs])\n",
    "\n",
    "#Creating a user defined function.\n",
    "udf_toSparse = Func.udf(toSparse, VectorUDT())"
   ]
  },
  {
   "cell_type": "code",
   "execution_count": 130,
   "metadata": {},
   "outputs": [
    {
     "data": {
      "text/plain": [
       "Row(paper_id='7065512', tf_vector=SparseVector(1000, {2: 1.0, 16: 1.0, 36: 1.0, 46: 1.0, 56: 1.0, 64: 2.0, 70: 1.0, 73: 1.0, 76: 2.0, 141: 1.0, 155: 1.0, 156: 1.0, 204: 1.0, 228: 1.0, 231: 1.0, 274: 1.0, 294: 1.0, 298: 1.0, 314: 1.0, 319: 2.0, 386: 1.0, 404: 1.0, 411: 2.0, 490: 1.0, 526: 1.0, 527: 1.0, 533: 1.0, 578: 1.0, 606: 1.0, 677: 1.0, 700: 1.0, 744: 1.0}))"
      ]
     },
     "execution_count": 130,
     "metadata": {},
     "output_type": "execute_result"
    }
   ],
   "source": [
    "#Creating the bag of words dataframe.\n",
    "featurizedDataDF = joinedResult.select(\"paper_id\",\\\n",
    "                                   udf_toSparse(joinedResult.map_list)\\\n",
    "                                   .alias(\"tf_vector\"))\n",
    "featurizedDataDF.first()"
   ]
  },
  {
   "cell_type": "code",
   "execution_count": 131,
   "metadata": {},
   "outputs": [
    {
     "data": {
      "text/plain": [
       "Row(paper_id='7065512', tf_vector=SparseVector(1000, {2: 1.0, 16: 1.0, 36: 1.0, 46: 1.0, 56: 1.0, 64: 2.0, 70: 1.0, 73: 1.0, 76: 2.0, 141: 1.0, 155: 1.0, 156: 1.0, 204: 1.0, 228: 1.0, 231: 1.0, 274: 1.0, 294: 1.0, 298: 1.0, 314: 1.0, 319: 2.0, 386: 1.0, 404: 1.0, 411: 2.0, 490: 1.0, 526: 1.0, 527: 1.0, 533: 1.0, 578: 1.0, 606: 1.0, 677: 1.0, 700: 1.0, 744: 1.0}), idf_vector=SparseVector(1000, {2: 2.2961, 16: 2.3756, 36: 2.5119, 46: 2.5567, 56: 2.6036, 64: 5.2557, 70: 2.6783, 73: 2.6783, 76: 5.3914, 141: 2.9546, 155: 2.9775, 156: 2.9892, 204: 3.1278, 228: 3.1834, 231: 3.1834, 274: 3.321, 294: 3.4065, 298: 3.4065, 314: 3.4429, 319: 6.9232, 386: 3.6033, 404: 3.6707, 411: 7.3414, 490: 3.8484, 526: 3.9055, 527: 3.9055, 533: 3.9055, 578: 3.9979, 606: 4.0646, 677: 4.1738, 700: 4.213, 744: 4.2964}))"
      ]
     },
     "execution_count": 131,
     "metadata": {},
     "output_type": "execute_result"
    }
   ],
   "source": [
    "#Initializing the IDF object.\n",
    "sparkMlIdf = IDF(inputCol=\"tf_vector\", outputCol=\"idf_vector\")\n",
    "#Training the data and creating a model.\n",
    "sparkMlIdfModel = sparkMlIdf.fit(featurizedDataDF)\n",
    "#Adding the output produced from IDF to the dataset as a separate column.\n",
    "paperTfIdf = sparkMlIdfModel.transform(featurizedDataDF)\n",
    "paperTfIdf.first()"
   ]
  },
  {
   "cell_type": "code",
   "execution_count": 106,
   "metadata": {},
   "outputs": [
    {
     "name": "stdout",
     "output_type": "stream",
     "text": [
      "+--------------------+--------+\n",
      "|        user_hash_id|paper_id|\n",
      "+--------------------+--------+\n",
      "|28d3f81251d94b097...| 3929762|\n",
      "|28d3f81251d94b097...|  503574|\n",
      "|28d3f81251d94b097...| 5819422|\n",
      "|28d3f81251d94b097...| 4238883|\n",
      "|28d3f81251d94b097...| 5788061|\n",
      "+--------------------+--------+\n",
      "only showing top 5 rows\n",
      "\n"
     ]
    }
   ],
   "source": [
    "#Splitting the list of paper_ids into individual rows.\n",
    "explodUsersDF = usersDF.select(usersDF.user_hash_id,\\\n",
    "                               Func.explode(Func.split(usersDF.user_library, \",\"))\\\n",
    "                               .alias(\"paper_id\"))\n",
    "explodUsersDF.show(5, truncate=True)"
   ]
  },
  {
   "cell_type": "code",
   "execution_count": 132,
   "metadata": {},
   "outputs": [
    {
     "name": "stdout",
     "output_type": "stream",
     "text": [
      "+--------+--------------------+--------------------+--------------------+\n",
      "|paper_id|        user_hash_id|           tf_vector|          idf_vector|\n",
      "+--------+--------------------+--------------------+--------------------+\n",
      "| 7065512|f1e1cd4ff25018273...|(1000,[2,16,36,46...|(1000,[2,16,36,46...|\n",
      "| 5910752|f1e1cd4ff25018273...|(1000,[64,225,585...|(1000,[64,225,585...|\n",
      "| 1843282|5ba96b191db3c3c02...|(1000,[22,38,69,1...|(1000,[22,38,69,1...|\n",
      "| 2706950|3b715ebaf1f8f81a1...|(1000,[4,55,75,78...|(1000,[4,55,75,78...|\n",
      "| 4169015|7c0081293b3988065...|(1000,[13,16,22,2...|(1000,[13,16,22,2...|\n",
      "+--------+--------------------+--------------------+--------------------+\n",
      "only showing top 5 rows\n",
      "\n"
     ]
    }
   ],
   "source": [
    "#Creating a dataframe with user_hash_id as well as paper_id, tf, idf, tf-idf information.\n",
    "joinUserPaperTfIdf = explodUsersDF.join(paperTfIdf, \"paper_id\")\n",
    "joinUserPaperTfIdf.show(5)"
   ]
  },
  {
   "cell_type": "code",
   "execution_count": 133,
   "metadata": {},
   "outputs": [
    {
     "name": "stdout",
     "output_type": "stream",
     "text": [
      "+--------------------+--------------------+\n",
      "|        user_hash_id|         tf_idf_list|\n",
      "+--------------------+--------------------+\n",
      "|f1e1cd4ff25018273...|[(1000,[2,16,36,4...|\n",
      "|cf9c7f356092c34be...|[(1000,[20,24,29,...|\n",
      "|488fb15e8c77f8054...|[(1000,[3,4,12,18...|\n",
      "|ca4f1ba4094011d9a...|[(1000,[2,3,9,22,...|\n",
      "|d503571e44a0373eb...|[(1000,[0,1,5,22,...|\n",
      "|f05bcffe7951de9e5...|[(1000,[0,2,5,6,1...|\n",
      "|c6b59086a0bbac141...|[(1000,[0,2,3,9,1...|\n",
      "|ed571b13a83199c9c...|[(1000,[0,9,19,20...|\n",
      "|586c867a0688250ac...|[(1000,[3,4,10,11...|\n",
      "|e17a1c14ffca94104...|[(1000,[4,425],[2...|\n",
      "+--------------------+--------------------+\n",
      "only showing top 10 rows\n",
      "\n"
     ]
    }
   ],
   "source": [
    "#Grouping the tf-idf vectors with respect to the user.\n",
    "userTfIdfList = joinUserPaperTfIdf.groupBy(\"user_hash_id\").agg(Func.collect_list(\"idf_vector\").alias(\"tf_idf_list\"))\n",
    "userTfIdfList.show(10)"
   ]
  },
  {
   "cell_type": "code",
   "execution_count": 30,
   "metadata": {},
   "outputs": [],
   "source": [
    "#Function to add elements of a list of sparse vectors.\n",
    "def addSparseVec(vector_list):\n",
    "    result = SparseVector(1000, list(range(0, 1000)), np.zeros(1000))\n",
    "    for vector in vector_list:\n",
    "        result = np.add(result, vector).tolist()\n",
    "\n",
    "    vector_args = len(result), [i for i, x in enumerate(result) if x != 0], [x for x in result if x != 0] \n",
    "    return Vectors.sparse(*vector_args)\n",
    "    \n",
    "udf_addSparseVec = Func.udf(addSparseVec, VectorUDT())"
   ]
  },
  {
   "cell_type": "code",
   "execution_count": 134,
   "metadata": {},
   "outputs": [
    {
     "data": {
      "text/plain": [
       "Row(user_hash_id='f1e1cd4ff25018273aafc0c68fbb5a2f', features=SparseVector(1000, {0: 38.7362, 1: 36.4576, 2: 45.9219, 3: 25.4529, 4: 27.9114, 5: 27.9843, 6: 81.6209, 7: 18.6562, 8: 11.6601, 9: 49.101, 10: 30.3958, 11: 35.2573, 12: 11.7524, 13: 25.8554, 14: 28.3559, 15: 23.693, 16: 64.1424, 17: 26.1321, 18: 33.259, 19: 52.2642, 20: 19.1595, 21: 31.2189, 22: 45.7522, 23: 9.685, 24: 9.7118, 25: 19.4774, 26: 56.1536, 27: 31.9171, 28: 68.7444, 29: 14.7309, 30: 19.6966, 31: 44.4429, 32: 17.2833, 33: 24.8313, 34: 22.3482, 35: 62.4354, 36: 12.5596, 37: 25.1191, 38: 22.6731, 39: 15.1597, 40: 7.5799, 41: 10.1362, 42: 60.8173, 43: 17.8436, 44: 40.9071, 45: 25.5669, 46: 20.4536, 47: 46.2974, 48: 49.0174, 49: 23.2893, 51: 23.3605, 52: 31.1473, 53: 38.9342, 54: 18.1693, 55: 59.699, 56: 164.0254, 57: 5.2072, 58: 33.9509, 59: 23.5045, 60: 20.8929, 61: 26.1971, 62: 34.1623, 63: 28.9066, 64: 168.1837, 65: 23.7996, 66: 39.666, 67: 5.3224, 68: 21.3577, 69: 16.0183, 70: 45.5311, 71: 37.4962, 72: 26.783, 73: 45.5311, 74: 32.3483, 75: 10.7828, 76: 16.1742, 77: 62.2036, 78: 5.409, 79: 100.7274, 80: 46.2801, 81: 13.6118, 82: 46.434, 83: 43.8487, 84: 19.1838, 85: 13.7027, 86: 35.6271, 87: 32.9971, 88: 82.7719, 89: 27.5906, 90: 27.6845, 91: 2.7875, 92: 2.7972, 93: 50.3489, 94: 33.566, 95: 16.8415, 96: 67.3661, 97: 22.4554, 98: 19.6484, 99: 22.4554, 100: 25.2623, 101: 14.0839, 102: 19.7174, 103: 8.4503, 104: 42.4008, 105: 37.01, 106: 45.5508, 107: 25.6223, 108: 2.8572, 109: 25.8079, 110: 17.2053, 111: 120.4368, 112: 8.634, 113: 14.3901, 114: 5.756, 115: 23.0241, 116: 20.1461, 119: 23.0241, 120: 43.329, 121: 37.6908, 122: 26.0936, 123: 23.1943, 124: 2.8993, 125: 23.2808, 126: 14.5505, 128: 17.5262, 129: 11.6841, 130: 38.1171, 131: 11.7283, 132: 2.9321, 133: 14.7163, 134: 8.8298, 135: 17.6595, 136: 14.7163, 137: 32.5001, 138: 94.5458, 139: 44.3183, 141: 14.7728, 142: 47.2729, 143: 20.6819, 144: 38.4092, 145: 50.4217, 146: 29.6598, 147: 26.6939, 148: 2.966, 149: 35.5918, 150: 32.6258, 151: 44.4898, 152: 2.966, 153: 17.7959, 154: 44.6632, 155: 44.6632, 156: 53.8063, 157: 26.9032, 158: 20.9247, 159: 12.0043, 160: 6.0022, 161: 3.0131, 162: 18.0783, 163: 33.1436, 164: 30.1305, 165: 15.0653, 166: 6.0503, 167: 12.1007, 168: 15.1872, 169: 15.1872, 170: 21.2621, 172: 42.6981, 173: 6.0997, 174: 9.1496, 175: 9.1496, 176: 24.4996, 177: 9.1873, 178: 76.5611, 179: 24.4996, 180: 9.2255, 181: 18.4511, 182: 12.3007, 183: 12.3007, 184: 27.6766, 185: 9.2643, 186: 6.1762, 188: 9.2643, 189: 15.5058, 190: 9.3035, 191: 3.1012, 192: 15.5058, 193: 6.2023, 194: 15.5058, 195: 27.9104, 196: 12.4576, 197: 15.572, 198: 24.9152, 199: 12.4576, 200: 12.5113, 201: 103.2183, 202: 6.2557, 203: 12.5113, 204: 37.5339, 205: 12.5113, 206: 3.1278, 207: 21.8948, 208: 6.2829, 209: 25.1315, 210: 6.2829, 211: 21.99, 212: 21.99, 213: 21.99, 214: 12.5657, 215: 37.8627, 216: 22.0866, 217: 69.415, 218: 18.9314, 219: 3.1552, 220: 50.4836, 221: 12.6209, 222: 12.6768, 223: 12.6768, 224: 34.8613, 225: 22.1845, 226: 12.6768, 227: 6.3668, 228: 15.917, 229: 28.6506, 230: 15.917, 231: 38.2008, 232: 25.4672, 233: 6.3956, 234: 22.3845, 235: 60.7579, 236: 3.1978, 237: 28.7801, 238: 44.9734, 239: 32.1238, 240: 3.2272, 241: 22.5904, 242: 29.1801, 243: 9.7267, 244: 12.9689, 245: 19.4534, 246: 6.515, 247: 16.2875, 248: 19.545, 249: 19.545, 250: 26.06, 251: 26.06, 252: 16.2875, 253: 16.365, 254: 16.365, 255: 39.2761, 256: 16.365, 257: 13.155, 258: 16.4438, 259: 13.155, 260: 29.5988, 261: 29.5988, 262: 9.8663, 263: 26.3101, 264: 3.2888, 265: 19.8285, 266: 13.219, 267: 3.321, 268: 3.321, 269: 16.6051, 271: 6.642, 272: 13.2841, 273: 9.9631, 274: 23.2471, 275: 6.6751, 276: 10.0126, 277: 3.3375, 278: 36.713, 279: 10.0126, 280: 3.3544, 281: 3.3544, 282: 16.8572, 283: 23.6001, 284: 40.4574, 286: 13.4858, 287: 6.7429, 288: 6.7777, 289: 6.7777, 293: 17.0327, 294: 27.2523, 295: 47.6916, 296: 27.2523, 298: 91.9766, 299: 51.0981, 300: 78.7649, 301: 10.2737, 302: 30.821, 303: 10.2737, 304: 34.2456, 305: 17.1228, 306: 85.614, 307: 34.2456, 308: 3.4429, 309: 20.6574, 310: 41.3149, 311: 3.4429, 312: 13.7716, 313: 10.3287, 314: 17.2145, 315: 20.6574, 316: 3.4616, 317: 90.0016, 318: 3.4616, 319: 38.0776, 320: 3.4616, 321: 17.308, 323: 17.4032, 324: 13.9226, 325: 24.3645, 326: 13.9226, 328: 20.8839, 330: 3.4806, 331: 6.9613, 333: 14.0003, 334: 3.5001, 335: 7.0001, 336: 14.0003, 337: 21.0004, 338: 14.0003, 339: 3.5001, 340: 14.0003, 341: 10.5002, 342: 21.1192, 343: 10.5596, 344: 42.2384, 345: 3.5199, 346: 7.0397, 347: 14.0795, 348: 7.0397, 349: 10.5596, 350: 10.5596, 351: 17.5993, 354: 38.9408, 355: 21.2404, 356: 3.5401, 357: 21.2404, 360: 10.6821, 361: 14.2428, 362: 10.6821, 363: 14.2428, 364: 17.8035, 365: 10.6821, 366: 7.1214, 367: 28.654, 368: 3.5817, 369: 3.5817, 370: 3.5817, 371: 21.4905, 373: 10.7452, 374: 10.7452, 375: 14.327, 376: 10.8098, 377: 10.8098, 378: 14.413, 380: 21.6195, 381: 3.6033, 382: 10.8098, 383: 18.0163, 384: 3.6033, 385: 18.0163, 386: 21.6195, 387: 10.8098, 388: 14.5009, 389: 3.6252, 390: 21.7514, 391: 7.2505, 392: 7.2954, 393: 18.2385, 394: 3.6477, 395: 21.8862, 396: 14.5908, 397: 18.2385, 398: 10.9431, 399: 21.8862, 400: 14.5908, 401: 25.5339, 402: 36.477, 403: 21.8862, 404: 25.6948, 405: 7.3414, 406: 18.3535, 407: 18.3535, 408: 69.7431, 410: 22.0242, 411: 18.3535, 412: 7.3414, 413: 33.0362, 414: 22.0242, 415: 29.3655, 417: 25.8596, 418: 3.6942, 419: 14.7769, 420: 25.8596, 421: 14.7769, 422: 7.3884, 424: 14.7769, 425: 11.0827, 426: 89.2397, 427: 3.7183, 429: 11.155, 430: 14.8733, 431: 22.3099, 432: 7.4366, 433: 7.4366, 434: 7.486, 435: 18.7151, 437: 11.305, 438: 15.0733, 441: 7.5367, 442: 33.915, 444: 3.7683, 445: 11.305, 447: 18.8417, 448: 7.5367, 450: 3.7683, 451: 7.5886, 452: 3.7943, 453: 34.1488, 455: 26.5601, 456: 7.5886, 457: 7.5886, 458: 18.9715, 459: 15.1772, 460: 11.3829, 461: 22.7658, 463: 15.1772, 464: 11.3829, 467: 7.5886, 469: 15.1772, 470: 19.1049, 472: 19.1049, 473: 26.7468, 474: 11.4629, 475: 26.7468, 476: 11.4629, 477: 3.821, 478: 19.1049, 479: 11.4629, 480: 7.6419, 481: 11.4629, 482: 7.6419, 483: 11.4629, 484: 3.821, 485: 11.5451, 486: 11.5451, 487: 11.5451, 488: 19.2419, 489: 19.2419, 490: 26.9386, 491: 11.5451, 492: 3.8484, 493: 11.5451, 494: 3.8484, 495: 19.2419, 496: 30.787, 497: 11.5451, 498: 26.9386, 499: 7.6967, 500: 30.787, 501: 7.6967, 502: 15.5062, 503: 3.8765, 504: 7.7531, 505: 3.8765, 507: 19.3827, 508: 31.0124, 509: 3.8765, 510: 3.8765, 511: 15.5062, 512: 7.8111, 513: 23.4332, 516: 27.3387, 517: 11.7166, 518: 7.8111, 519: 7.8111, 520: 3.9055, 521: 7.8111, 522: 15.6221, 523: 19.5277, 524: 3.9055, 525: 15.6221, 526: 27.3387, 527: 7.8111, 528: 3.9055, 529: 7.8111, 530: 7.8111, 531: 7.8111, 532: 11.7166, 533: 23.4332, 534: 7.8111, 535: 23.4332, 536: 19.6769, 538: 90.5138, 539: 27.5477, 541: 11.8062, 542: 15.7415, 543: 3.9354, 544: 3.9354, 546: 19.6769, 547: 23.6123, 548: 3.9354, 549: 3.9354, 551: 15.7415, 552: 7.8708, 553: 11.8985, 554: 3.9662, 555: 31.7292, 557: 3.9662, 559: 7.9323, 560: 3.9662, 561: 3.9662, 565: 3.9662, 566: 7.9323, 567: 19.8308, 568: 7.9958, 569: 19.9895, 570: 11.9937, 572: 11.9937, 575: 7.9958, 576: 11.9937, 577: 3.9979, 578: 3.9979, 579: 27.9853, 580: 3.9979, 582: 15.9916, 583: 19.9895, 584: 4.0307, 585: 24.1842, 586: 4.0307, 588: 4.0307, 590: 4.0307, 592: 4.0307, 593: 4.0307, 594: 4.0307, 596: 20.1535, 597: 32.2456, 598: 8.0614, 599: 12.0921, 600: 4.0307, 601: 24.1842, 602: 12.0921, 603: 8.0614, 605: 16.2584, 606: 44.7106, 609: 8.1292, 610: 8.1292, 612: 4.0646, 614: 4.0646, 615: 16.2584, 617: 12.1938, 618: 4.0646, 619: 20.4984, 620: 24.5981, 622: 8.1994, 624: 8.1994, 625: 12.2991, 627: 8.1994, 628: 8.1994, 629: 40.9969, 630: 12.2991, 631: 12.2991, 632: 4.0997, 633: 24.5981, 634: 16.3987, 635: 16.3987, 636: 4.0997, 639: 16.5442, 641: 8.2721, 642: 8.2721, 643: 8.2721, 644: 8.2721, 645: 20.6803, 648: 20.6803, 649: 4.1361, 650: 12.4082, 651: 4.1361, 652: 8.2721, 653: 12.4082, 654: 12.4082, 655: 20.869, 656: 12.5214, 658: 12.5214, 659: 12.5214, 661: 8.3476, 662: 4.1738, 663: 4.1738, 665: 41.738, 666: 4.1738, 667: 50.0855, 668: 25.0428, 670: 12.5214, 671: 12.5214, 672: 12.5214, 674: 16.6952, 676: 16.6952, 677: 16.6952, 678: 12.639, 680: 25.2781, 681: 12.639, 683: 12.639, 684: 4.213, 685: 4.213, 686: 8.426, 688: 12.639, 689: 12.639, 690: 4.213, 692: 4.213, 693: 4.213, 694: 25.2781, 696: 8.426, 698: 8.426, 699: 12.639, 700: 67.4083, 702: 12.7615, 704: 17.0154, 705: 17.0154, 706: 12.7615, 707: 17.0154, 710: 85.0768, 711: 8.5077, 712: 4.2538, 713: 4.2538, 714: 12.7615, 715: 12.7615, 716: 21.2692, 717: 4.2538, 718: 4.2538, 719: 4.2538, 722: 38.2845, 723: 4.2538, 724: 4.2538, 725: 21.2692, 726: 4.2538, 727: 8.5077, 728: 17.0154, 731: 25.7784, 732: 4.2964, 733: 17.1856, 734: 4.2964, 737: 4.2964, 739: 4.2964, 740: 4.2964, 742: 12.8892, 743: 60.1496, 744: 8.5928, 745: 8.5928, 746: 8.5928, 747: 8.5928, 748: 8.5928, 749: 21.482, 751: 17.1856, 752: 30.0748, 753: 4.2964, 754: 4.2964, 758: 4.2964, 761: 4.3408, 762: 8.6817, 763: 13.0225, 766: 8.6817, 768: 8.6817, 772: 4.3408, 773: 8.6817, 774: 4.3408, 775: 13.0225, 777: 21.7042, 778: 13.0225, 779: 8.6817, 780: 13.0225, 781: 8.6817, 783: 26.0451, 786: 13.0225, 787: 17.3634, 788: 4.3874, 789: 4.3874, 790: 8.7747, 792: 4.3874, 795: 39.4863, 797: 8.7747, 798: 13.1621, 799: 4.3874, 800: 17.5495, 802: 13.1621, 804: 13.1621, 805: 4.3874, 806: 4.3874, 807: 4.3874, 808: 8.7747, 809: 4.3874, 813: 4.3874, 815: 17.5495, 818: 8.7747}))"
      ]
     },
     "execution_count": 134,
     "metadata": {},
     "output_type": "execute_result"
    }
   ],
   "source": [
    "#Creating the user profile.\n",
    "userProfileDF = userTfIdfList.withColumn(\"features\", udf_addSparseVec(userTfIdfList.tf_idf_list))\n",
    "userFeaturesDF = userProfileDF.select(\"user_hash_id\", \"features\")\n",
    "userFeaturesDF.first()"
   ]
  },
  {
   "cell_type": "markdown",
   "metadata": {},
   "source": [
    "## Exercise 4.2 (Content-based recommendations: similarity metric)\n",
    "To compute the similarity between the User and Item(paper) profiles."
   ]
  },
  {
   "cell_type": "code",
   "execution_count": 135,
   "metadata": {},
   "outputs": [],
   "source": [
    "#Exercise 4.2\n",
    "#Function to calculate the cosine similarity metric\n",
    "def cosineSim(user_profile, item_profile):\n",
    "    u_leng = np.linalg.norm(user_profile, 2)\n",
    "    p_leng = np.linalg.norm(item_profile, 2)\n",
    "\n",
    "    if u_leng*p_leng == 0:\n",
    "        denominator = 1\n",
    "    else:\n",
    "        denominator = u_leng*p_leng\n",
    "        \n",
    "    similarity = float(np.dot(user_profile, item_profile)/denominator)\n",
    "    \n",
    "    return similarity\n",
    "\n",
    "udf_cosineSim = Func.udf(cosineSim, FloatType())    "
   ]
  },
  {
   "cell_type": "markdown",
   "metadata": {},
   "source": [
    "## Exercise 4.3 (Content-based recommendations)\n",
    "a) Implement CBRS tf_idf <br>\n",
    "b) Implement CBRS lda <br>\n",
    "c) Show top-k recommendations for user with user_hash_id = 1eac022a97d683eace8815545ce3153f <br>"
   ]
  },
  {
   "cell_type": "code",
   "execution_count": 136,
   "metadata": {},
   "outputs": [
    {
     "name": "stdout",
     "output_type": "stream",
     "text": [
      "+--------------------+--------+\n",
      "|        user_hash_id|paper_id|\n",
      "+--------------------+--------+\n",
      "|1eac022a97d683eac...| 3973229|\n",
      "|1eac022a97d683eac...|  322433|\n",
      "|1eac022a97d683eac...| 5732042|\n",
      "|1eac022a97d683eac...| 8004203|\n",
      "|1eac022a97d683eac...|  421656|\n",
      "|1eac022a97d683eac...| 3106933|\n",
      "|1eac022a97d683eac...| 1121661|\n",
      "|1eac022a97d683eac...|  368203|\n",
      "|1eac022a97d683eac...| 6439894|\n",
      "|1eac022a97d683eac...|12786786|\n",
      "+--------------------+--------+\n",
      "only showing top 10 rows\n",
      "\n"
     ]
    }
   ],
   "source": [
    "#Exercise 4.3\n",
    "#Get the papers that the specific user has rated.\n",
    "specUserRatedPaper = explodUsersDF.filter(explodUsersDF.user_hash_id==\"1eac022a97d683eace8815545ce3153f\")\n",
    "specUserRatedPaper.show(10)"
   ]
  },
  {
   "cell_type": "markdown",
   "metadata": {},
   "source": [
    "CBRS tf_idf"
   ]
  },
  {
   "cell_type": "code",
   "execution_count": 167,
   "metadata": {},
   "outputs": [],
   "source": [
    "#Exercise 4.3\n",
    "#Function to get the top-k recommendation of a user\n",
    "def recommendTfIdf(user_id, user_profile, rated_paper_df, k):\n",
    "    result_arr = []\n",
    "    #Get the papers not yet rated by the user\n",
    "    unratedPapers = paperTfIdf.join(rated_paper_df, \"paper_id\", how=\"left_anti\")\\\n",
    "                            .select(\"paper_id\", \"idf_vector\")\n",
    "    #Loop over the unrated papers\n",
    "    for row_df in unratedPapers.collect():\n",
    "        #Calculate the cosine similarity given the user and paper profiles and store in a list\n",
    "        result_arr.append((user_id, row_df.paper_id, cosineSim(user_profile, row_df.idf_vector)))\n",
    "    #Sort the list of tuples according to the cosine similarity in descending order\n",
    "    result_arr.sort(key=lambda tup: tup[2], reverse=True)\n",
    "    \n",
    "    if k > len(result_arr):\n",
    "        k = len(result_arr)\n",
    "    \n",
    "    return result_arr[0:k]"
   ]
  },
  {
   "cell_type": "code",
   "execution_count": 168,
   "metadata": {},
   "outputs": [],
   "source": [
    "#Exercise 4.3\n",
    "#Get the id and profile of the user in focus and store the recommendations as a list of tuples\n",
    "resultIdf = []\n",
    "for uid, uprofile in userFeaturesDF.filter(userFeaturesDF.user_hash_id == \"1eac022a97d683eace8815545ce3153f\")\\\n",
    "                .rdd.map(lambda x: (x[0], x[1])).collect():\n",
    "    resultIdf = resultIdf + recommendTfIdf(uid, uprofile, specUserRatedPaper, 10)"
   ]
  },
  {
   "cell_type": "code",
   "execution_count": 169,
   "metadata": {},
   "outputs": [
    {
     "data": {
      "text/plain": [
       "[Row(user_hash_id='1eac022a97d683eace8815545ce3153f', paper_id='3398098', score=0.34487821642211375),\n",
       " Row(user_hash_id='1eac022a97d683eace8815545ce3153f', paper_id='507529', score=0.30904766609006196),\n",
       " Row(user_hash_id='1eac022a97d683eace8815545ce3153f', paper_id='1321106', score=0.2986204526550599),\n",
       " Row(user_hash_id='1eac022a97d683eace8815545ce3153f', paper_id='3474061', score=0.2933958050265111),\n",
       " Row(user_hash_id='1eac022a97d683eace8815545ce3153f', paper_id='3909566', score=0.2883505521836707),\n",
       " Row(user_hash_id='1eac022a97d683eace8815545ce3153f', paper_id='848992', score=0.2870553009714794),\n",
       " Row(user_hash_id='1eac022a97d683eace8815545ce3153f', paper_id='4041004', score=0.28668993229309436),\n",
       " Row(user_hash_id='1eac022a97d683eace8815545ce3153f', paper_id='3483504', score=0.2828635359472608),\n",
       " Row(user_hash_id='1eac022a97d683eace8815545ce3153f', paper_id='3581787', score=0.28151584574154287),\n",
       " Row(user_hash_id='1eac022a97d683eace8815545ce3153f', paper_id='3112352', score=0.27948620848572553)]"
      ]
     },
     "execution_count": 169,
     "metadata": {},
     "output_type": "execute_result"
    }
   ],
   "source": [
    "#Exercise 4.3\n",
    "#Create a dataframe to contain the recommendations\n",
    "specUserTop10 = sparkSession.createDataFrame(resultIdf, [\"user_hash_id\", \"paper_id\", \"score\"])\n",
    "specUserTop10.collect()"
   ]
  },
  {
   "cell_type": "markdown",
   "metadata": {},
   "source": [
    "CBRS lda"
   ]
  },
  {
   "cell_type": "code",
   "execution_count": 192,
   "metadata": {},
   "outputs": [],
   "source": [
    "#Initializing an LDA object.\n",
    "lda = LDA(featuresCol=\"tf_vector\", k=40, maxIter=10)\n",
    "#Creating the model.\n",
    "ldaModel = lda.fit(featurizedDataDF.select(\"tf_vector\"))"
   ]
  },
  {
   "cell_type": "code",
   "execution_count": 193,
   "metadata": {},
   "outputs": [
    {
     "data": {
      "text/plain": [
       "Row(paper_id='7065512', tf_vector=SparseVector(1000, {2: 1.0, 16: 1.0, 36: 1.0, 46: 1.0, 56: 1.0, 64: 2.0, 70: 1.0, 73: 1.0, 76: 2.0, 141: 1.0, 155: 1.0, 156: 1.0, 204: 1.0, 228: 1.0, 231: 1.0, 274: 1.0, 294: 1.0, 298: 1.0, 314: 1.0, 319: 2.0, 386: 1.0, 404: 1.0, 411: 2.0, 490: 1.0, 526: 1.0, 527: 1.0, 533: 1.0, 578: 1.0, 606: 1.0, 677: 1.0, 700: 1.0, 744: 1.0}), topicDistribution=DenseVector([0.0007, 0.0007, 0.0007, 0.0007, 0.0007, 0.0007, 0.0007, 0.0007, 0.0007, 0.0007, 0.0007, 0.0007, 0.0007, 0.0007, 0.0007, 0.0007, 0.0007, 0.7642, 0.0007, 0.0007, 0.0007, 0.0007, 0.0007, 0.0007, 0.0007, 0.0007, 0.0007, 0.0007, 0.0007, 0.0007, 0.0007, 0.0007, 0.0008, 0.0007, 0.0007, 0.2106, 0.0007, 0.0007, 0.0007, 0.0007]))"
      ]
     },
     "execution_count": 193,
     "metadata": {},
     "output_type": "execute_result"
    }
   ],
   "source": [
    "#Creating a dataframe with the topic distibution generated from LDA.\n",
    "ldaTransformed = ldaModel.transform(featurizedDataDF)\n",
    "ldaTransformed.first()"
   ]
  },
  {
   "cell_type": "code",
   "execution_count": 194,
   "metadata": {},
   "outputs": [
    {
     "name": "stdout",
     "output_type": "stream",
     "text": [
      "+--------+--------------------+--------------------+--------------------+\n",
      "|paper_id|        user_hash_id|           tf_vector|   topicDistribution|\n",
      "+--------+--------------------+--------------------+--------------------+\n",
      "| 7065512|f1e1cd4ff25018273...|(1000,[2,16,36,46...|[6.58188466065330...|\n",
      "| 5910752|f1e1cd4ff25018273...|(1000,[64,225,585...|[0.00610750251118...|\n",
      "| 1843282|5ba96b191db3c3c02...|(1000,[22,38,69,1...|[0.00221590860822...|\n",
      "| 2706950|3b715ebaf1f8f81a1...|(1000,[4,55,75,78...|[0.00143317230407...|\n",
      "| 4169015|7c0081293b3988065...|(1000,[13,16,22,2...|[6.58188466065329...|\n",
      "+--------+--------------------+--------------------+--------------------+\n",
      "only showing top 5 rows\n",
      "\n"
     ]
    }
   ],
   "source": [
    "#Joining the topic distribution to the users.\n",
    "joinUserLDA = explodUsersDF.join(ldaTransformed, \"paper_id\")\n",
    "joinUserLDA.show(5, truncate=True)"
   ]
  },
  {
   "cell_type": "code",
   "execution_count": 195,
   "metadata": {},
   "outputs": [
    {
     "data": {
      "text/plain": [
       "Row(user_hash_id='f1e1cd4ff25018273aafc0c68fbb5a2f', topic_distribution_ls=[DenseVector([0.0007, 0.0007, 0.0007, 0.0007, 0.0007, 0.0007, 0.0007, 0.0007, 0.0007, 0.0007, 0.0007, 0.0007, 0.0007, 0.0007, 0.0007, 0.0007, 0.0007, 0.7642, 0.0007, 0.0007, 0.0007, 0.0007, 0.0007, 0.0007, 0.0007, 0.0007, 0.0007, 0.0007, 0.0007, 0.0007, 0.0007, 0.0007, 0.0008, 0.0007, 0.0007, 0.2106, 0.0007, 0.0007, 0.0007, 0.0007]), DenseVector([0.0061, 0.0061, 0.0062, 0.0061, 0.0063, 0.0062, 0.0061, 0.0061, 0.0062, 0.0062, 0.0061, 0.0061, 0.0061, 0.0061, 0.0061, 0.0061, 0.0062, 0.0067, 0.0061, 0.0061, 0.0061, 0.0061, 0.0061, 0.0061, 0.0061, 0.0061, 0.0061, 0.0061, 0.0061, 0.0062, 0.0065, 0.0062, 0.007, 0.0061, 0.0061, 0.7589, 0.0062, 0.0061, 0.0061, 0.0061]), DenseVector([0.0082, 0.0082, 0.0082, 0.0082, 0.0085, 0.0083, 0.0082, 0.0082, 0.0082, 0.0082, 0.0082, 0.0082, 0.0082, 0.0082, 0.0082, 0.0082, 0.0083, 0.6787, 0.0082, 0.0082, 0.0082, 0.0082, 0.0082, 0.0082, 0.0082, 0.0082, 0.0082, 0.0082, 0.0082, 0.0083, 0.0087, 0.0082, 0.0094, 0.0082, 0.0082, 0.0083, 0.0082, 0.0082, 0.0082, 0.0082]), DenseVector([0.0049, 0.0049, 0.0049, 0.0049, 0.0051, 0.005, 0.0049, 0.0049, 0.8072, 0.0049, 0.0049, 0.0049, 0.0049, 0.0049, 0.0049, 0.0049, 0.005, 0.0053, 0.0049, 0.0049, 0.0049, 0.0049, 0.0049, 0.0049, 0.0049, 0.0049, 0.0049, 0.0049, 0.0049, 0.005, 0.0052, 0.0049, 0.0056, 0.0049, 0.0049, 0.005, 0.0049, 0.0049, 0.0049, 0.0049]), DenseVector([0.0049, 0.0049, 0.0049, 0.0049, 0.0051, 0.005, 0.0049, 0.0049, 0.8072, 0.0049, 0.0049, 0.0049, 0.0049, 0.0049, 0.0049, 0.0049, 0.005, 0.0053, 0.0049, 0.0049, 0.0049, 0.0049, 0.0049, 0.0049, 0.0049, 0.0049, 0.0049, 0.0049, 0.0049, 0.005, 0.0052, 0.0049, 0.0056, 0.0049, 0.0049, 0.005, 0.0049, 0.0049, 0.0049, 0.0049]), DenseVector([0.0007, 0.0007, 0.0007, 0.0007, 0.0007, 0.0007, 0.0007, 0.0007, 0.0007, 0.0007, 0.0007, 0.0007, 0.0007, 0.0007, 0.0007, 0.0007, 0.0007, 0.2553, 0.0007, 0.0007, 0.0007, 0.0007, 0.0007, 0.0007, 0.0007, 0.0007, 0.0007, 0.0007, 0.0007, 0.0007, 0.7173, 0.0007, 0.0008, 0.0007, 0.0007, 0.0007, 0.0007, 0.0007, 0.0007, 0.0007]), DenseVector([0.0004, 0.0004, 0.0004, 0.0004, 0.0005, 0.0005, 0.0004, 0.0004, 0.9825, 0.0004, 0.0004, 0.0004, 0.0004, 0.0004, 0.0004, 0.0004, 0.0004, 0.0005, 0.0004, 0.0004, 0.0004, 0.0004, 0.0004, 0.0004, 0.0004, 0.0004, 0.0004, 0.0004, 0.0004, 0.0004, 0.0005, 0.0004, 0.0005, 0.0004, 0.0004, 0.0005, 0.0004, 0.0004, 0.0004, 0.0004]), DenseVector([0.0009, 0.0009, 0.0009, 0.0009, 0.0009, 0.0009, 0.0009, 0.0009, 0.0009, 0.0009, 0.0009, 0.0009, 0.0009, 0.0009, 0.0009, 0.0009, 0.0009, 0.4402, 0.0009, 0.0009, 0.0009, 0.0009, 0.0009, 0.0009, 0.0009, 0.0009, 0.0009, 0.0009, 0.0009, 0.0009, 0.2306, 0.0009, 0.001, 0.0009, 0.0009, 0.2968, 0.0009, 0.0009, 0.0009, 0.0009]), DenseVector([0.0005, 0.0005, 0.0005, 0.0005, 0.0005, 0.0005, 0.0005, 0.0005, 0.0005, 0.0005, 0.0005, 0.0005, 0.0005, 0.0005, 0.0005, 0.0005, 0.0005, 0.4937, 0.0005, 0.0005, 0.0005, 0.0005, 0.0005, 0.0005, 0.0005, 0.0005, 0.0005, 0.0005, 0.0005, 0.0005, 0.0005, 0.0005, 0.488, 0.0005, 0.0005, 0.0005, 0.0005, 0.0005, 0.0005, 0.0005]), DenseVector([0.0016, 0.0016, 0.0016, 0.0016, 0.0017, 0.0017, 0.0016, 0.0016, 0.0016, 0.0016, 0.0016, 0.0016, 0.0016, 0.0016, 0.0016, 0.0016, 0.0016, 0.2614, 0.0016, 0.0016, 0.0016, 0.0016, 0.0016, 0.0016, 0.0016, 0.0016, 0.0016, 0.0016, 0.0016, 0.0016, 0.6764, 0.0016, 0.0019, 0.0016, 0.0016, 0.0017, 0.0016, 0.0016, 0.0016, 0.0016]), DenseVector([0.0123, 0.0123, 0.0124, 0.0123, 0.0127, 0.0125, 0.0123, 0.0123, 0.0124, 0.0124, 0.0123, 0.0123, 0.0123, 0.0123, 0.0123, 0.0123, 0.0124, 0.5169, 0.0123, 0.0123, 0.0123, 0.0123, 0.0123, 0.0123, 0.0123, 0.0123, 0.0123, 0.0123, 0.0123, 0.0124, 0.0131, 0.0123, 0.0141, 0.0123, 0.0123, 0.0125, 0.0124, 0.0123, 0.0123, 0.0123]), DenseVector([0.0049, 0.0049, 0.0049, 0.0049, 0.0051, 0.005, 0.0049, 0.0049, 0.0049, 0.0049, 0.0049, 0.0049, 0.0049, 0.0049, 0.0049, 0.0049, 0.005, 0.8076, 0.0049, 0.0049, 0.0049, 0.0049, 0.0049, 0.0049, 0.0049, 0.0049, 0.0049, 0.0049, 0.0049, 0.005, 0.0052, 0.0049, 0.0056, 0.0049, 0.0049, 0.005, 0.0049, 0.0049, 0.0049, 0.0049]), DenseVector([0.0012, 0.0012, 0.0012, 0.0012, 0.0012, 0.0012, 0.0012, 0.0012, 0.0012, 0.0012, 0.0012, 0.0012, 0.0012, 0.0012, 0.0012, 0.0012, 0.0012, 0.4611, 0.0012, 0.0012, 0.0012, 0.0012, 0.0012, 0.0012, 0.0012, 0.0012, 0.0012, 0.0012, 0.0012, 0.0012, 0.0012, 0.0012, 0.0013, 0.0012, 0.0012, 0.4944, 0.0012, 0.0012, 0.0012, 0.0012]), DenseVector([0.0013, 0.0013, 0.0013, 0.0013, 0.0013, 0.0013, 0.0013, 0.0013, 0.0013, 0.0013, 0.0013, 0.0013, 0.0013, 0.0013, 0.0013, 0.0013, 0.0013, 0.0014, 0.0013, 0.0013, 0.0013, 0.0013, 0.0013, 0.0013, 0.0013, 0.0013, 0.0013, 0.0013, 0.0013, 0.0013, 0.0014, 0.0013, 0.0015, 0.0013, 0.0013, 0.9494, 0.0013, 0.0013, 0.0013, 0.0013]), DenseVector([0.0006, 0.0006, 0.0006, 0.0006, 0.0006, 0.0006, 0.0006, 0.0006, 0.0006, 0.0006, 0.0006, 0.0006, 0.0006, 0.0006, 0.0006, 0.0006, 0.0006, 0.379, 0.0006, 0.0006, 0.0006, 0.0006, 0.0006, 0.0006, 0.0006, 0.0006, 0.0006, 0.0006, 0.0006, 0.0006, 0.3682, 0.0006, 0.2302, 0.0006, 0.0006, 0.0006, 0.0006, 0.0006, 0.0006, 0.0006]), DenseVector([0.0082, 0.0082, 0.0082, 0.0082, 0.0085, 0.0083, 0.0082, 0.0082, 0.0082, 0.0082, 0.0082, 0.0082, 0.0082, 0.0082, 0.0082, 0.0082, 0.0083, 0.0089, 0.0082, 0.0082, 0.0082, 0.0082, 0.0082, 0.0082, 0.0082, 0.0082, 0.0082, 0.0082, 0.0082, 0.0083, 0.0087, 0.0082, 0.0094, 0.0082, 0.0082, 0.6782, 0.0082, 0.0082, 0.0082, 0.0082]), DenseVector([0.0014, 0.0014, 0.0014, 0.0014, 0.9434, 0.0015, 0.0014, 0.0014, 0.0014, 0.0014, 0.0014, 0.0014, 0.0014, 0.0014, 0.0014, 0.0014, 0.0015, 0.0016, 0.0014, 0.0014, 0.0014, 0.0014, 0.0014, 0.0014, 0.0014, 0.0014, 0.0014, 0.0014, 0.0014, 0.0015, 0.0015, 0.0014, 0.0016, 0.0014, 0.0014, 0.0015, 0.0014, 0.0014, 0.0014, 0.0014]), DenseVector([0.0003, 0.0003, 0.0003, 0.0003, 0.0003, 0.0003, 0.0003, 0.0003, 0.0003, 0.0003, 0.0003, 0.0003, 0.0003, 0.0003, 0.0003, 0.0003, 0.0003, 0.0004, 0.0003, 0.0003, 0.0003, 0.0003, 0.0003, 0.0003, 0.0003, 0.0003, 0.0003, 0.0003, 0.0003, 0.0003, 0.5845, 0.0003, 0.4027, 0.0003, 0.0003, 0.0003, 0.0003, 0.0003, 0.0003, 0.0003]), DenseVector([0.0049, 0.0049, 0.0049, 0.0049, 0.0051, 0.005, 0.0049, 0.0049, 0.0049, 0.0049, 0.0049, 0.0049, 0.0049, 0.0049, 0.0049, 0.0049, 0.005, 0.0053, 0.0049, 0.0049, 0.0049, 0.0049, 0.0049, 0.0049, 0.0049, 0.0049, 0.0049, 0.0049, 0.0049, 0.005, 0.8075, 0.0049, 0.0056, 0.0049, 0.0049, 0.005, 0.0049, 0.0049, 0.0049, 0.0049]), DenseVector([0.001, 0.001, 0.001, 0.001, 0.001, 0.001, 0.001, 0.001, 0.001, 0.001, 0.001, 0.001, 0.001, 0.001, 0.001, 0.001, 0.001, 0.6848, 0.001, 0.001, 0.001, 0.001, 0.001, 0.001, 0.001, 0.001, 0.001, 0.001, 0.001, 0.001, 0.001, 0.001, 0.0011, 0.001, 0.001, 0.2778, 0.001, 0.001, 0.001, 0.001]), DenseVector([0.0041, 0.0041, 0.0041, 0.0041, 0.0042, 0.0042, 0.0041, 0.0041, 0.0041, 0.0041, 0.0041, 0.0041, 0.0041, 0.0041, 0.0041, 0.0041, 0.0041, 0.0044, 0.0041, 0.0041, 0.0041, 0.0041, 0.0041, 0.0041, 0.0041, 0.0041, 0.0041, 0.0041, 0.0041, 0.0041, 0.5168, 0.0041, 0.0047, 0.0041, 0.0041, 0.327, 0.0041, 0.0041, 0.0041, 0.0041]), DenseVector([0.0014, 0.0014, 0.0014, 0.0014, 0.0014, 0.0014, 0.0014, 0.0014, 0.0014, 0.0014, 0.0014, 0.0014, 0.0014, 0.0014, 0.0014, 0.0014, 0.0014, 0.0015, 0.0014, 0.0014, 0.0014, 0.0014, 0.0014, 0.0014, 0.0014, 0.0014, 0.0014, 0.0014, 0.0014, 0.0014, 0.0015, 0.0014, 0.6373, 0.0014, 0.0014, 0.3108, 0.0014, 0.0014, 0.0014, 0.0014]), DenseVector([0.0007, 0.0007, 0.0007, 0.0007, 0.0007, 0.0007, 0.0007, 0.0007, 0.0007, 0.0007, 0.0007, 0.0007, 0.0007, 0.0007, 0.0007, 0.0007, 0.0007, 0.4757, 0.0007, 0.0007, 0.0007, 0.0007, 0.0007, 0.0007, 0.0007, 0.0007, 0.0007, 0.0007, 0.0007, 0.0007, 0.1785, 0.0007, 0.3207, 0.0007, 0.0007, 0.0007, 0.0007, 0.0007, 0.0007, 0.0007]), DenseVector([0.0005, 0.0005, 0.0005, 0.0005, 0.0005, 0.0005, 0.0005, 0.0005, 0.0005, 0.0005, 0.0005, 0.0005, 0.0005, 0.0005, 0.0005, 0.0005, 0.0005, 0.0006, 0.0005, 0.0005, 0.0005, 0.0005, 0.0005, 0.0005, 0.0005, 0.0005, 0.0005, 0.0005, 0.0005, 0.0005, 0.3794, 0.0005, 0.6007, 0.0005, 0.0005, 0.0005, 0.0005, 0.0005, 0.0005, 0.0005]), DenseVector([0.0003, 0.0003, 0.0003, 0.0003, 0.0003, 0.0003, 0.0003, 0.0003, 0.0003, 0.0003, 0.0003, 0.0003, 0.0003, 0.0003, 0.0003, 0.0003, 0.0003, 0.1869, 0.0003, 0.0003, 0.0003, 0.0003, 0.0003, 0.0003, 0.0003, 0.0003, 0.0003, 0.0003, 0.0003, 0.0003, 0.4042, 0.0003, 0.3973, 0.0003, 0.0003, 0.0003, 0.0003, 0.0003, 0.0003, 0.0003]), DenseVector([0.0007, 0.0007, 0.0007, 0.0007, 0.0007, 0.0007, 0.0007, 0.0007, 0.0007, 0.0007, 0.0007, 0.0007, 0.0007, 0.0007, 0.0007, 0.0007, 0.0007, 0.2592, 0.0007, 0.0007, 0.0007, 0.0007, 0.0007, 0.0007, 0.0007, 0.0007, 0.0007, 0.0007, 0.0007, 0.0007, 0.0007, 0.0007, 0.4383, 0.0007, 0.0007, 0.278, 0.0007, 0.0007, 0.0007, 0.0007]), DenseVector([0.0123, 0.0123, 0.0124, 0.0123, 0.0127, 0.0125, 0.0123, 0.0123, 0.0124, 0.0124, 0.5158, 0.0123, 0.0123, 0.0123, 0.0123, 0.0123, 0.0124, 0.0134, 0.0123, 0.0123, 0.0123, 0.0123, 0.0123, 0.0123, 0.0123, 0.0123, 0.0123, 0.0123, 0.0123, 0.0124, 0.0131, 0.0123, 0.0141, 0.0123, 0.0123, 0.0125, 0.0124, 0.0123, 0.0123, 0.0123]), DenseVector([0.0009, 0.0009, 0.0009, 0.0009, 0.0009, 0.0009, 0.0009, 0.0009, 0.0009, 0.0009, 0.0009, 0.0009, 0.0009, 0.0009, 0.0009, 0.0009, 0.0009, 0.3976, 0.0009, 0.0009, 0.0009, 0.0009, 0.0009, 0.0009, 0.0009, 0.0009, 0.0009, 0.0009, 0.0009, 0.0009, 0.0009, 0.0009, 0.5691, 0.0009, 0.0009, 0.0009, 0.0009, 0.0009, 0.0009, 0.0009]), DenseVector([0.0027, 0.0027, 0.893, 0.0027, 0.0028, 0.0028, 0.0027, 0.0027, 0.0027, 0.0027, 0.0027, 0.0027, 0.0027, 0.0027, 0.0027, 0.0027, 0.0027, 0.003, 0.0027, 0.0027, 0.0027, 0.0027, 0.0027, 0.0027, 0.0027, 0.0027, 0.0027, 0.0027, 0.0027, 0.0027, 0.0029, 0.0027, 0.0031, 0.0027, 0.0027, 0.0028, 0.0027, 0.0027, 0.0027, 0.0027]), DenseVector([0.0008, 0.0008, 0.0008, 0.0008, 0.0008, 0.0008, 0.0008, 0.0008, 0.0008, 0.0008, 0.0008, 0.0008, 0.0008, 0.0008, 0.0008, 0.0008, 0.0008, 0.0009, 0.0008, 0.0008, 0.0008, 0.0008, 0.0008, 0.0008, 0.0008, 0.0008, 0.0008, 0.0008, 0.0008, 0.0008, 0.969, 0.0008, 0.0009, 0.0008, 0.0008, 0.0008, 0.0008, 0.0008, 0.0008, 0.0008]), DenseVector([0.0008, 0.0008, 0.0008, 0.0008, 0.0009, 0.0009, 0.0008, 0.0008, 0.0008, 0.0008, 0.0008, 0.0008, 0.0008, 0.0008, 0.0008, 0.0008, 0.0009, 0.8634, 0.0008, 0.0008, 0.0008, 0.0008, 0.0008, 0.0008, 0.0008, 0.0008, 0.0008, 0.0008, 0.0008, 0.0009, 0.0009, 0.0008, 0.1044, 0.0008, 0.0008, 0.0009, 0.0008, 0.0008, 0.0008, 0.0008]), DenseVector([0.0003, 0.0003, 0.0003, 0.0003, 0.0004, 0.0004, 0.0003, 0.0003, 0.0003, 0.0003, 0.0003, 0.0003, 0.0003, 0.0003, 0.0003, 0.0003, 0.0003, 0.1583, 0.0003, 0.0003, 0.0003, 0.0003, 0.0003, 0.0003, 0.0003, 0.0003, 0.0003, 0.0003, 0.0003, 0.0003, 0.2539, 0.0003, 0.5751, 0.0003, 0.0003, 0.0004, 0.0003, 0.0003, 0.0003, 0.0003]), DenseVector([0.0123, 0.0123, 0.0124, 0.0123, 0.0127, 0.0125, 0.0123, 0.0123, 0.0124, 0.0124, 0.0123, 0.0123, 0.0123, 0.0123, 0.0123, 0.0123, 0.0124, 0.0134, 0.0123, 0.0123, 0.0123, 0.0123, 0.0123, 0.0123, 0.0123, 0.0123, 0.0123, 0.0123, 0.0123, 0.0124, 0.0131, 0.0123, 0.0141, 0.0123, 0.0123, 0.5161, 0.0124, 0.0123, 0.0123, 0.0123]), DenseVector([0.0035, 0.0035, 0.0035, 0.0035, 0.0036, 0.0036, 0.0035, 0.0035, 0.0035, 0.0035, 0.0035, 0.0035, 0.0035, 0.0035, 0.0035, 0.0035, 0.0035, 0.0038, 0.0035, 0.0035, 0.0035, 0.0035, 0.0035, 0.0035, 0.0035, 0.0035, 0.0035, 0.0035, 0.0035, 0.0035, 0.0037, 0.0035, 0.004, 0.0035, 0.0035, 0.8624, 0.0035, 0.0035, 0.0035, 0.0035]), DenseVector([0.0006, 0.0006, 0.0006, 0.0006, 0.0006, 0.0006, 0.0006, 0.0006, 0.0006, 0.0006, 0.0006, 0.0006, 0.0006, 0.0006, 0.0006, 0.0006, 0.0006, 0.4102, 0.0006, 0.0006, 0.0006, 0.0006, 0.0006, 0.0006, 0.0006, 0.0006, 0.0006, 0.0006, 0.0006, 0.0006, 0.2988, 0.0006, 0.0007, 0.0006, 0.0006, 0.2677, 0.0006, 0.0006, 0.0006, 0.0006]), DenseVector([0.0007, 0.0007, 0.0007, 0.0007, 0.0007, 0.0007, 0.0007, 0.0007, 0.0007, 0.0007, 0.0007, 0.0007, 0.0007, 0.0007, 0.0007, 0.0007, 0.0007, 0.4982, 0.0007, 0.0007, 0.0007, 0.0007, 0.0007, 0.0007, 0.0007, 0.0007, 0.0007, 0.0007, 0.0007, 0.0007, 0.0007, 0.0007, 0.4751, 0.0007, 0.0007, 0.0007, 0.0007, 0.0007, 0.0007, 0.0007]), DenseVector([0.0082, 0.0082, 0.0082, 0.0082, 0.0085, 0.0083, 0.0082, 0.0082, 0.0082, 0.0082, 0.0082, 0.0082, 0.0082, 0.0082, 0.0082, 0.0082, 0.6781, 0.0089, 0.0082, 0.0082, 0.0082, 0.0082, 0.0082, 0.0082, 0.0082, 0.0082, 0.0082, 0.0082, 0.0082, 0.0083, 0.0087, 0.0082, 0.0094, 0.0082, 0.0082, 0.0083, 0.0082, 0.0082, 0.0082, 0.0082]), DenseVector([0.0008, 0.0008, 0.0008, 0.0008, 0.0009, 0.0009, 0.0008, 0.0008, 0.0008, 0.0008, 0.0008, 0.0008, 0.0008, 0.0008, 0.0008, 0.0008, 0.0009, 0.7525, 0.0008, 0.0008, 0.0008, 0.0008, 0.0008, 0.0008, 0.0008, 0.0008, 0.0008, 0.0008, 0.0008, 0.0009, 0.0009, 0.0008, 0.001, 0.0008, 0.0008, 0.2152, 0.0008, 0.0008, 0.0008, 0.0008]), DenseVector([0.0014, 0.0014, 0.0014, 0.0014, 0.0015, 0.0015, 0.0014, 0.0014, 0.0014, 0.0014, 0.0014, 0.0014, 0.0014, 0.0014, 0.0014, 0.0014, 0.0015, 0.6719, 0.0014, 0.0014, 0.0014, 0.0014, 0.0014, 0.0014, 0.0014, 0.0014, 0.0014, 0.0014, 0.0014, 0.0015, 0.0015, 0.0014, 0.0016, 0.0014, 0.0014, 0.2731, 0.0014, 0.0014, 0.0014, 0.0014]), DenseVector([0.001, 0.001, 0.001, 0.001, 0.0011, 0.001, 0.001, 0.001, 0.001, 0.001, 0.001, 0.001, 0.001, 0.001, 0.001, 0.001, 0.001, 0.0011, 0.001, 0.001, 0.001, 0.001, 0.001, 0.001, 0.001, 0.001, 0.001, 0.001, 0.001, 0.001, 0.0011, 0.001, 0.9601, 0.001, 0.001, 0.001, 0.001, 0.001, 0.001, 0.001]), DenseVector([0.0049, 0.0049, 0.0049, 0.0049, 0.0051, 0.005, 0.0049, 0.0049, 0.0049, 0.0049, 0.0049, 0.0049, 0.0049, 0.0049, 0.0049, 0.0049, 0.005, 0.3612, 0.0049, 0.0049, 0.0049, 0.0049, 0.0049, 0.0049, 0.0049, 0.0049, 0.0049, 0.0049, 0.0049, 0.005, 0.0052, 0.0049, 0.0056, 0.0049, 0.0049, 0.4514, 0.0049, 0.0049, 0.0049, 0.0049]), DenseVector([0.0015, 0.0015, 0.0015, 0.0015, 0.0016, 0.0016, 0.0015, 0.0015, 0.0015, 0.0015, 0.0015, 0.0015, 0.0015, 0.0015, 0.0015, 0.0015, 0.0015, 0.0017, 0.0015, 0.0015, 0.0015, 0.0015, 0.0015, 0.0015, 0.0015, 0.0015, 0.0015, 0.0015, 0.0015, 0.0015, 0.0016, 0.0015, 0.7339, 0.0015, 0.0015, 0.2078, 0.0015, 0.0015, 0.0015, 0.0015]), DenseVector([0.0005, 0.0005, 0.0005, 0.0005, 0.0005, 0.0005, 0.0005, 0.0005, 0.0005, 0.0005, 0.0005, 0.0005, 0.0005, 0.0005, 0.0005, 0.0005, 0.0005, 0.0005, 0.0005, 0.0005, 0.0005, 0.0005, 0.0005, 0.0005, 0.0005, 0.0005, 0.0005, 0.0005, 0.0005, 0.0005, 0.0005, 0.0005, 0.0006, 0.0005, 0.0005, 0.9804, 0.0005, 0.0005, 0.0005, 0.0005]), DenseVector([0.0061, 0.0061, 0.0062, 0.0061, 0.0063, 0.0062, 0.0061, 0.0061, 0.7588, 0.0062, 0.0061, 0.0061, 0.0061, 0.0061, 0.0061, 0.0061, 0.0062, 0.0067, 0.0061, 0.0061, 0.0061, 0.0061, 0.0061, 0.0061, 0.0061, 0.0061, 0.0061, 0.0061, 0.0061, 0.0062, 0.0065, 0.0062, 0.007, 0.0061, 0.0061, 0.0062, 0.0062, 0.0061, 0.0061, 0.0061]), DenseVector([0.0008, 0.0008, 0.0008, 0.0008, 0.2978, 0.0008, 0.0008, 0.0008, 0.0008, 0.0008, 0.0008, 0.0008, 0.0008, 0.0008, 0.0008, 0.0008, 0.0008, 0.0008, 0.0008, 0.0008, 0.0008, 0.0008, 0.0008, 0.0008, 0.0008, 0.0008, 0.0008, 0.0008, 0.0008, 0.0008, 0.1874, 0.0008, 0.4865, 0.0008, 0.0008, 0.0008, 0.0008, 0.0008, 0.0008, 0.0008]), DenseVector([0.0005, 0.0005, 0.0005, 0.0005, 0.0005, 0.0005, 0.0005, 0.0005, 0.0005, 0.0005, 0.0005, 0.0005, 0.0005, 0.0005, 0.0005, 0.0005, 0.0005, 0.4601, 0.0005, 0.0005, 0.0005, 0.0005, 0.0005, 0.0005, 0.0005, 0.0005, 0.0005, 0.0005, 0.0005, 0.0005, 0.0005, 0.0005, 0.5209, 0.0005, 0.0005, 0.0005, 0.0005, 0.0005, 0.0005, 0.0005]), DenseVector([0.0061, 0.0061, 0.0062, 0.0061, 0.0063, 0.0062, 0.0061, 0.0061, 0.0062, 0.0062, 0.0061, 0.0061, 0.0061, 0.0061, 0.0061, 0.0061, 0.0062, 0.0067, 0.0061, 0.0061, 0.0061, 0.0061, 0.0061, 0.0061, 0.0061, 0.0061, 0.0061, 0.0061, 0.0061, 0.0062, 0.7592, 0.0062, 0.007, 0.0061, 0.0061, 0.0062, 0.0062, 0.0061, 0.0061, 0.0061]), DenseVector([0.0005, 0.0005, 0.0005, 0.0005, 0.0005, 0.0005, 0.0005, 0.0005, 0.0005, 0.0005, 0.0005, 0.0005, 0.0005, 0.0005, 0.0005, 0.0005, 0.0005, 0.715, 0.0005, 0.0005, 0.0005, 0.0005, 0.0005, 0.0005, 0.0005, 0.0005, 0.0005, 0.0005, 0.0005, 0.0005, 0.0005, 0.0005, 0.2667, 0.0005, 0.0005, 0.0005, 0.0005, 0.0005, 0.0005, 0.0005]), DenseVector([0.0082, 0.0082, 0.0082, 0.0082, 0.0085, 0.0083, 0.0082, 0.0082, 0.0082, 0.0082, 0.0082, 0.0082, 0.0082, 0.0082, 0.0082, 0.0082, 0.0083, 0.6787, 0.0082, 0.0082, 0.0082, 0.0082, 0.0082, 0.0082, 0.0082, 0.0082, 0.0082, 0.0082, 0.0082, 0.0083, 0.0087, 0.0082, 0.0094, 0.0082, 0.0082, 0.0083, 0.0082, 0.0082, 0.0082, 0.0082]), DenseVector([0.0003, 0.0003, 0.0003, 0.0003, 0.0003, 0.0003, 0.0003, 0.0003, 0.0003, 0.0003, 0.0003, 0.0003, 0.0003, 0.0003, 0.0003, 0.0003, 0.0003, 0.0003, 0.0003, 0.0003, 0.0003, 0.0003, 0.0003, 0.0003, 0.0003, 0.0003, 0.0003, 0.0003, 0.0003, 0.0003, 0.7393, 0.0003, 0.2489, 0.0003, 0.0003, 0.0003, 0.0003, 0.0003, 0.0003, 0.0003]), DenseVector([0.0008, 0.0008, 0.0008, 0.0008, 0.0008, 0.0008, 0.0008, 0.0008, 0.0008, 0.0008, 0.0008, 0.0008, 0.0008, 0.0008, 0.0008, 0.0008, 0.0008, 0.3926, 0.0008, 0.0008, 0.0008, 0.0008, 0.0008, 0.0008, 0.0008, 0.0008, 0.0008, 0.0008, 0.0008, 0.0008, 0.4197, 0.0008, 0.0009, 0.0008, 0.0008, 0.1593, 0.0008, 0.0008, 0.0008, 0.0008]), DenseVector([0.0007, 0.0007, 0.0007, 0.0007, 0.0008, 0.0008, 0.0007, 0.0007, 0.3094, 0.0007, 0.0007, 0.0007, 0.0007, 0.0007, 0.0007, 0.0007, 0.0007, 0.0008, 0.0007, 0.0007, 0.0007, 0.0007, 0.0007, 0.0007, 0.0007, 0.0007, 0.0007, 0.0007, 0.0007, 0.0007, 0.0008, 0.0007, 0.6623, 0.0007, 0.0007, 0.0008, 0.0007, 0.0007, 0.0007, 0.0007]), DenseVector([0.0017, 0.0017, 0.0018, 0.0017, 0.0018, 0.0018, 0.0017, 0.0017, 0.0018, 0.0018, 0.0017, 0.0017, 0.0017, 0.0017, 0.0017, 0.0017, 0.0018, 0.0019, 0.0017, 0.0017, 0.0017, 0.0017, 0.0017, 0.0017, 0.0017, 0.0017, 0.0017, 0.0017, 0.0017, 0.0018, 0.0019, 0.0018, 0.002, 0.0017, 0.0017, 0.9313, 0.0018, 0.0017, 0.0017, 0.0017]), DenseVector([0.0014, 0.0014, 0.0014, 0.0014, 0.0015, 0.0015, 0.0014, 0.0014, 0.9434, 0.0014, 0.0014, 0.0014, 0.0014, 0.0014, 0.0014, 0.0014, 0.0015, 0.0016, 0.0014, 0.0014, 0.0014, 0.0014, 0.0014, 0.0014, 0.0014, 0.0014, 0.0014, 0.0014, 0.0014, 0.0015, 0.0015, 0.0014, 0.0016, 0.0014, 0.0014, 0.0015, 0.0014, 0.0014, 0.0014, 0.0014]), DenseVector([0.0049, 0.0049, 0.0049, 0.0049, 0.0051, 0.005, 0.0049, 0.0049, 0.0049, 0.0049, 0.0049, 0.0049, 0.0049, 0.0049, 0.0049, 0.0049, 0.005, 0.0053, 0.0049, 0.0049, 0.0049, 0.0049, 0.0049, 0.0049, 0.0049, 0.0049, 0.0049, 0.0049, 0.0049, 0.005, 0.0052, 0.0049, 0.0056, 0.0049, 0.0049, 0.8073, 0.0049, 0.0049, 0.0049, 0.0049]), DenseVector([0.0012, 0.0012, 0.0012, 0.0012, 0.0012, 0.0012, 0.0012, 0.0012, 0.0012, 0.0012, 0.0012, 0.0012, 0.0012, 0.0012, 0.0012, 0.0012, 0.0012, 0.3968, 0.0012, 0.0012, 0.0012, 0.0012, 0.0012, 0.0012, 0.0012, 0.0012, 0.0012, 0.0012, 0.0012, 0.0012, 0.2197, 0.0012, 0.0013, 0.0012, 0.0012, 0.3402, 0.0012, 0.0012, 0.0012, 0.0012]), DenseVector([0.0049, 0.0049, 0.0049, 0.0049, 0.0051, 0.005, 0.0049, 0.0049, 0.0049, 0.0049, 0.0049, 0.0049, 0.0049, 0.0049, 0.0049, 0.0049, 0.005, 0.0053, 0.0049, 0.0049, 0.0049, 0.0049, 0.0049, 0.0049, 0.0049, 0.0049, 0.0049, 0.0049, 0.0049, 0.005, 0.8075, 0.0049, 0.0056, 0.0049, 0.0049, 0.005, 0.0049, 0.0049, 0.0049, 0.0049]), DenseVector([0.0007, 0.0007, 0.0007, 0.0007, 0.0007, 0.0007, 0.0007, 0.0007, 0.0007, 0.0007, 0.0007, 0.0007, 0.0007, 0.0007, 0.0007, 0.0007, 0.0007, 0.2527, 0.0007, 0.0007, 0.0007, 0.0007, 0.0007, 0.0007, 0.0007, 0.0007, 0.0007, 0.0007, 0.0007, 0.0007, 0.3251, 0.0007, 0.3963, 0.0007, 0.0007, 0.0007, 0.0007, 0.0007, 0.0007, 0.0007]), DenseVector([0.0041, 0.8394, 0.0041, 0.0041, 0.0042, 0.0042, 0.0041, 0.0041, 0.0041, 0.0041, 0.0041, 0.0041, 0.0041, 0.0041, 0.0041, 0.0041, 0.0041, 0.0044, 0.0041, 0.0041, 0.0041, 0.0041, 0.0041, 0.0041, 0.0041, 0.0041, 0.0041, 0.0041, 0.0041, 0.0041, 0.0044, 0.0041, 0.0047, 0.0041, 0.0041, 0.0042, 0.0041, 0.0041, 0.0041, 0.0041]), DenseVector([0.0082, 0.0082, 0.0082, 0.0082, 0.0085, 0.0083, 0.0082, 0.0082, 0.0082, 0.0082, 0.0082, 0.0082, 0.0082, 0.0082, 0.0082, 0.0082, 0.0083, 0.0089, 0.0082, 0.0082, 0.0082, 0.0082, 0.0082, 0.0082, 0.0082, 0.0082, 0.0082, 0.0082, 0.0082, 0.0083, 0.0087, 0.0082, 0.3339, 0.0082, 0.0082, 0.3536, 0.0082, 0.0082, 0.0082, 0.0082]), DenseVector([0.0003, 0.0003, 0.0003, 0.0003, 0.0003, 0.0003, 0.0003, 0.0003, 0.0003, 0.0003, 0.0003, 0.0003, 0.0003, 0.0003, 0.0003, 0.0003, 0.0003, 0.117, 0.0003, 0.0003, 0.0003, 0.0003, 0.0003, 0.0003, 0.0003, 0.0003, 0.0003, 0.0003, 0.0003, 0.0003, 0.0003, 0.0003, 0.587, 0.0003, 0.0003, 0.2856, 0.0003, 0.0003, 0.0003, 0.0003]), DenseVector([0.0006, 0.0006, 0.0006, 0.0006, 0.0006, 0.0006, 0.0006, 0.0006, 0.0006, 0.0006, 0.0006, 0.0006, 0.0006, 0.0006, 0.0006, 0.0006, 0.0006, 0.3017, 0.0006, 0.0006, 0.0006, 0.0006, 0.0006, 0.0006, 0.0006, 0.0006, 0.0006, 0.0006, 0.0006, 0.0006, 0.0006, 0.0006, 0.2995, 0.0006, 0.0006, 0.3772, 0.0006, 0.0006, 0.0006, 0.0006]), DenseVector([0.0006, 0.0006, 0.0006, 0.0006, 0.0007, 0.0007, 0.0006, 0.0006, 0.0006, 0.0006, 0.0006, 0.0006, 0.0006, 0.0006, 0.0006, 0.0006, 0.0007, 0.0007, 0.0006, 0.0006, 0.0006, 0.0006, 0.0006, 0.0006, 0.0006, 0.0006, 0.0006, 0.0006, 0.0006, 0.0006, 0.5817, 0.0006, 0.3938, 0.0006, 0.0006, 0.0007, 0.0006, 0.0006, 0.0006, 0.0006]), DenseVector([0.0008, 0.0008, 0.0008, 0.0008, 0.0008, 0.0008, 0.0008, 0.0008, 0.0008, 0.0008, 0.0008, 0.0008, 0.0008, 0.0008, 0.0008, 0.0008, 0.0008, 0.0009, 0.0008, 0.0008, 0.0008, 0.0008, 0.0008, 0.0008, 0.0008, 0.0008, 0.0008, 0.0008, 0.0008, 0.0008, 0.969, 0.0008, 0.0009, 0.0008, 0.0008, 0.0008, 0.0008, 0.0008, 0.0008, 0.0008]), DenseVector([0.0005, 0.0005, 0.0005, 0.0005, 0.0005, 0.0005, 0.0005, 0.0005, 0.0005, 0.0005, 0.0005, 0.0005, 0.0005, 0.0005, 0.0005, 0.0005, 0.0005, 0.0005, 0.0005, 0.0005, 0.0005, 0.0005, 0.0005, 0.0005, 0.0005, 0.0005, 0.0005, 0.0005, 0.0005, 0.0005, 0.4252, 0.0005, 0.5576, 0.0005, 0.0005, 0.0005, 0.0005, 0.0005, 0.0005, 0.0005]), DenseVector([0.0027, 0.0027, 0.0027, 0.0027, 0.0028, 0.0028, 0.0027, 0.0027, 0.0027, 0.0027, 0.0027, 0.0027, 0.0027, 0.0027, 0.0027, 0.0027, 0.0027, 0.8932, 0.0027, 0.0027, 0.0027, 0.0027, 0.0027, 0.0027, 0.0027, 0.0027, 0.0027, 0.0027, 0.0027, 0.0027, 0.0029, 0.0027, 0.0031, 0.0027, 0.0027, 0.0028, 0.0027, 0.0027, 0.0027, 0.0027]), DenseVector([0.0082, 0.0082, 0.0082, 0.0082, 0.0085, 0.0083, 0.0082, 0.0082, 0.0082, 0.0082, 0.0082, 0.0082, 0.0082, 0.0082, 0.0082, 0.0082, 0.0083, 0.0089, 0.0082, 0.0082, 0.0082, 0.0082, 0.0082, 0.0082, 0.0082, 0.0082, 0.0082, 0.0082, 0.0082, 0.0083, 0.0087, 0.0082, 0.0094, 0.0082, 0.0082, 0.0083, 0.6781, 0.0082, 0.0082, 0.0082]), DenseVector([0.0011, 0.0011, 0.0011, 0.0011, 0.0011, 0.0011, 0.0011, 0.0011, 0.0011, 0.0011, 0.0011, 0.0011, 0.0011, 0.0011, 0.0011, 0.0011, 0.0011, 0.0012, 0.0011, 0.0011, 0.0011, 0.0011, 0.0011, 0.0011, 0.0011, 0.0011, 0.0011, 0.0011, 0.0011, 0.0011, 0.4477, 0.0011, 0.0012, 0.0011, 0.0011, 0.5116, 0.0011, 0.0011, 0.0011, 0.0011]), DenseVector([0.0008, 0.0008, 0.0008, 0.0008, 0.0009, 0.0009, 0.0008, 0.0008, 0.0008, 0.0008, 0.0008, 0.0008, 0.0008, 0.0008, 0.0008, 0.0008, 0.0009, 0.0009, 0.0008, 0.0008, 0.0008, 0.0008, 0.0008, 0.0008, 0.0008, 0.0008, 0.0008, 0.0008, 0.0008, 0.0009, 0.7462, 0.0008, 0.2216, 0.0008, 0.0008, 0.0009, 0.0008, 0.0008, 0.0008, 0.0008]), DenseVector([0.0006, 0.0006, 0.0006, 0.0006, 0.0006, 0.0006, 0.0006, 0.0006, 0.0006, 0.0006, 0.0006, 0.0006, 0.0006, 0.0006, 0.0006, 0.0006, 0.0006, 0.3166, 0.0006, 0.0006, 0.0006, 0.0006, 0.0006, 0.0006, 0.0006, 0.0006, 0.0006, 0.0006, 0.0006, 0.0006, 0.4019, 0.0006, 0.2594, 0.0006, 0.0006, 0.0006, 0.0006, 0.0006, 0.0006, 0.0006]), DenseVector([0.0019, 0.0019, 0.0019, 0.0019, 0.0019, 0.0019, 0.0019, 0.0019, 0.0019, 0.0019, 0.0019, 0.0019, 0.0019, 0.0019, 0.0019, 0.0019, 0.0019, 0.002, 0.0019, 0.0019, 0.0019, 0.0019, 0.0019, 0.0019, 0.0019, 0.0019, 0.0019, 0.0019, 0.0019, 0.0019, 0.9261, 0.0019, 0.0022, 0.0019, 0.0019, 0.0019, 0.0019, 0.0019, 0.0019, 0.0019]), DenseVector([0.0013, 0.0013, 0.0013, 0.0013, 0.0013, 0.0013, 0.0013, 0.0013, 0.0013, 0.0013, 0.0013, 0.0013, 0.0013, 0.0013, 0.0013, 0.0013, 0.0013, 0.9495, 0.0013, 0.0013, 0.0013, 0.0013, 0.0013, 0.0013, 0.0013, 0.0013, 0.0013, 0.0013, 0.0013, 0.0013, 0.0014, 0.0013, 0.0015, 0.0013, 0.0013, 0.0013, 0.0013, 0.0013, 0.0013, 0.0013]), DenseVector([0.0007, 0.0007, 0.0007, 0.0007, 0.0007, 0.0007, 0.0007, 0.0007, 0.0007, 0.0007, 0.0007, 0.0007, 0.0007, 0.0007, 0.0007, 0.0007, 0.0007, 0.4256, 0.0007, 0.0007, 0.0007, 0.0007, 0.0007, 0.0007, 0.0007, 0.0007, 0.0007, 0.0007, 0.0007, 0.0007, 0.0007, 0.0007, 0.5492, 0.0007, 0.0007, 0.0007, 0.0007, 0.0007, 0.0007, 0.0007]), DenseVector([0.0007, 0.0007, 0.0007, 0.0007, 0.0007, 0.0007, 0.0007, 0.0007, 0.0007, 0.0007, 0.0007, 0.0007, 0.0007, 0.0007, 0.0007, 0.0007, 0.0007, 0.0007, 0.0007, 0.0007, 0.0007, 0.0007, 0.0007, 0.0007, 0.0007, 0.0007, 0.0007, 0.0007, 0.0007, 0.0007, 0.974, 0.0007, 0.0008, 0.0007, 0.0007, 0.0007, 0.0007, 0.0007, 0.0007, 0.0007]), DenseVector([0.0007, 0.0007, 0.0007, 0.0007, 0.0007, 0.0007, 0.0007, 0.0007, 0.0007, 0.0007, 0.0007, 0.0007, 0.0007, 0.0007, 0.0007, 0.0007, 0.0007, 0.0008, 0.0007, 0.0007, 0.0007, 0.0007, 0.0007, 0.0007, 0.0007, 0.0007, 0.0007, 0.0007, 0.0007, 0.0007, 0.8192, 0.0007, 0.0008, 0.0007, 0.0007, 0.154, 0.0007, 0.0007, 0.0007, 0.0007]), DenseVector([0.0082, 0.0082, 0.0082, 0.0082, 0.0085, 0.0083, 0.0082, 0.0082, 0.0082, 0.0082, 0.0082, 0.0082, 0.0082, 0.0082, 0.0082, 0.0082, 0.0083, 0.0089, 0.0082, 0.0082, 0.0082, 0.0082, 0.0082, 0.0082, 0.0082, 0.0082, 0.0082, 0.0082, 0.0082, 0.0083, 0.0087, 0.0082, 0.3882, 0.0082, 0.0082, 0.2993, 0.0082, 0.0082, 0.0082, 0.0082]), DenseVector([0.0061, 0.0061, 0.0062, 0.0061, 0.0063, 0.0062, 0.0061, 0.0061, 0.0062, 0.0062, 0.0061, 0.0061, 0.0061, 0.0061, 0.0061, 0.0061, 0.0062, 0.0067, 0.0061, 0.0061, 0.0061, 0.0061, 0.0061, 0.0061, 0.0061, 0.0061, 0.0061, 0.0061, 0.0061, 0.0062, 0.0065, 0.0062, 0.007, 0.0061, 0.0061, 0.7589, 0.0062, 0.0061, 0.0061, 0.0061]), DenseVector([0.0008, 0.0008, 0.0008, 0.0008, 0.0008, 0.0008, 0.0008, 0.0008, 0.0008, 0.0008, 0.0008, 0.0008, 0.0008, 0.0008, 0.0008, 0.0008, 0.0008, 0.0008, 0.0008, 0.0008, 0.0008, 0.0008, 0.0008, 0.0008, 0.0008, 0.0008, 0.0008, 0.0008, 0.0008, 0.0008, 0.461, 0.0008, 0.5098, 0.0008, 0.0008, 0.0008, 0.0008, 0.0008, 0.0008, 0.0008]), DenseVector([0.001, 0.001, 0.001, 0.001, 0.0011, 0.001, 0.001, 0.001, 0.001, 0.001, 0.001, 0.001, 0.001, 0.001, 0.001, 0.001, 0.001, 0.6376, 0.001, 0.001, 0.001, 0.001, 0.001, 0.001, 0.001, 0.001, 0.001, 0.001, 0.001, 0.001, 0.0011, 0.001, 0.3236, 0.001, 0.001, 0.001, 0.001, 0.001, 0.001, 0.001]), DenseVector([0.0005, 0.0005, 0.0005, 0.0005, 0.0005, 0.0005, 0.0005, 0.0005, 0.0005, 0.0005, 0.0005, 0.0005, 0.0005, 0.0005, 0.0005, 0.0005, 0.0005, 0.1498, 0.0005, 0.0005, 0.0005, 0.0005, 0.0005, 0.0005, 0.0005, 0.0005, 0.0005, 0.0005, 0.0005, 0.0005, 0.1755, 0.0005, 0.6569, 0.0005, 0.0005, 0.0005, 0.0005, 0.0005, 0.0005, 0.0005]), DenseVector([0.0005, 0.0005, 0.0005, 0.0005, 0.0005, 0.0005, 0.0005, 0.0005, 0.0005, 0.0005, 0.0005, 0.0005, 0.0005, 0.0005, 0.0005, 0.0005, 0.0005, 0.9804, 0.0005, 0.0005, 0.0005, 0.0005, 0.0005, 0.0005, 0.0005, 0.0005, 0.0005, 0.0005, 0.0005, 0.0005, 0.0005, 0.0005, 0.0006, 0.0005, 0.0005, 0.0005, 0.0005, 0.0005, 0.0005, 0.0005]), DenseVector([0.0008, 0.0008, 0.0008, 0.0008, 0.0008, 0.0008, 0.0008, 0.0008, 0.0008, 0.0008, 0.0008, 0.0008, 0.0008, 0.0008, 0.0008, 0.0008, 0.0008, 0.3493, 0.0008, 0.0008, 0.0008, 0.0008, 0.0008, 0.0008, 0.0008, 0.0008, 0.0008, 0.0008, 0.0008, 0.0008, 0.0009, 0.0008, 0.1881, 0.0008, 0.0008, 0.4324, 0.0008, 0.0008, 0.0008, 0.0008]), DenseVector([0.0049, 0.0049, 0.0049, 0.0049, 0.0051, 0.005, 0.0049, 0.0049, 0.0049, 0.0049, 0.0049, 0.0049, 0.0049, 0.0049, 0.0049, 0.8072, 0.005, 0.0053, 0.0049, 0.0049, 0.0049, 0.0049, 0.0049, 0.0049, 0.0049, 0.0049, 0.0049, 0.0049, 0.0049, 0.005, 0.0052, 0.0049, 0.0056, 0.0049, 0.0049, 0.005, 0.0049, 0.0049, 0.0049, 0.0049]), DenseVector([0.003, 0.0031, 0.0031, 0.0031, 0.0032, 0.0031, 0.0031, 0.0031, 0.0031, 0.0031, 0.0031, 0.0031, 0.0031, 0.003, 0.0031, 0.0031, 0.0031, 0.0033, 0.0031, 0.0031, 0.003, 0.003, 0.003, 0.003, 0.0031, 0.003, 0.0031, 0.0031, 0.003, 0.0031, 0.8798, 0.0031, 0.0035, 0.003, 0.003, 0.0031, 0.0031, 0.003, 0.0031, 0.003]), DenseVector([0.0004, 0.0004, 0.0004, 0.0004, 0.0005, 0.0004, 0.0004, 0.0004, 0.0004, 0.0004, 0.0004, 0.0004, 0.0004, 0.0004, 0.0004, 0.0004, 0.0004, 0.0005, 0.0004, 0.0004, 0.0004, 0.0004, 0.0004, 0.0004, 0.0004, 0.0004, 0.0004, 0.0004, 0.0004, 0.0004, 0.0005, 0.0004, 0.1344, 0.0004, 0.0004, 0.849, 0.0004, 0.0004, 0.0004, 0.0004]), DenseVector([0.0007, 0.0007, 0.0007, 0.0007, 0.0008, 0.0008, 0.0007, 0.0007, 0.0007, 0.0007, 0.0007, 0.0007, 0.0007, 0.0007, 0.0007, 0.0007, 0.0007, 0.6522, 0.0007, 0.0007, 0.0007, 0.0007, 0.0007, 0.0007, 0.0007, 0.0007, 0.0007, 0.0007, 0.0007, 0.0007, 0.0008, 0.0007, 0.0008, 0.0007, 0.0007, 0.3195, 0.0007, 0.0007, 0.0007, 0.0007]), DenseVector([0.0005, 0.0005, 0.0005, 0.0005, 0.0005, 0.0005, 0.0005, 0.0005, 0.0005, 0.0005, 0.0005, 0.0005, 0.0005, 0.0005, 0.0005, 0.0005, 0.0005, 0.0005, 0.0005, 0.0005, 0.0005, 0.0005, 0.0005, 0.0005, 0.0005, 0.0005, 0.0005, 0.0005, 0.0005, 0.0005, 0.0005, 0.0005, 0.9804, 0.0005, 0.0005, 0.0005, 0.0005, 0.0005, 0.0005, 0.0005]), DenseVector([0.0004, 0.0004, 0.4544, 0.0004, 0.0004, 0.0004, 0.0004, 0.0004, 0.0004, 0.0004, 0.0004, 0.0004, 0.0004, 0.0004, 0.0004, 0.0004, 0.0004, 0.0005, 0.0004, 0.0004, 0.0004, 0.0004, 0.0004, 0.0004, 0.0004, 0.0004, 0.0004, 0.0004, 0.0004, 0.0004, 0.5297, 0.0004, 0.0005, 0.0004, 0.0004, 0.0004, 0.0004, 0.0004, 0.0004, 0.0004]), DenseVector([0.0007, 0.0007, 0.0007, 0.0007, 0.0007, 0.0007, 0.0007, 0.0007, 0.3221, 0.0007, 0.0007, 0.0007, 0.0007, 0.0007, 0.0007, 0.0007, 0.0007, 0.0008, 0.0007, 0.0007, 0.0007, 0.0007, 0.0007, 0.0007, 0.0007, 0.0007, 0.0007, 0.0007, 0.0007, 0.0007, 0.6503, 0.0007, 0.0008, 0.0007, 0.0007, 0.0007, 0.0007, 0.0007, 0.0007, 0.0007]), DenseVector([0.0012, 0.0012, 0.0012, 0.0012, 0.0012, 0.0012, 0.0012, 0.0012, 0.0012, 0.0012, 0.0012, 0.0012, 0.0012, 0.0012, 0.0012, 0.0012, 0.0012, 0.0013, 0.0012, 0.0012, 0.0012, 0.0012, 0.0012, 0.0012, 0.0012, 0.0012, 0.0012, 0.0012, 0.0012, 0.0012, 0.9543, 0.0012, 0.0013, 0.0012, 0.0012, 0.0012, 0.0012, 0.0012, 0.0012, 0.0012]), DenseVector([0.0017, 0.0017, 0.0018, 0.0017, 0.0018, 0.0018, 0.0017, 0.0017, 0.0018, 0.0018, 0.0017, 0.0017, 0.0017, 0.0017, 0.0017, 0.0017, 0.0018, 0.0019, 0.0017, 0.0017, 0.0017, 0.0017, 0.0017, 0.0017, 0.0017, 0.0017, 0.0017, 0.0017, 0.0017, 0.0018, 0.285, 0.0018, 0.6484, 0.0017, 0.0017, 0.0018, 0.0018, 0.0017, 0.0017, 0.0017]), DenseVector([0.0049, 0.0049, 0.0049, 0.0049, 0.0051, 0.005, 0.0049, 0.0049, 0.0049, 0.0049, 0.0049, 0.0049, 0.0049, 0.0049, 0.0049, 0.0049, 0.005, 0.8076, 0.0049, 0.0049, 0.0049, 0.0049, 0.0049, 0.0049, 0.0049, 0.0049, 0.0049, 0.0049, 0.0049, 0.005, 0.0052, 0.0049, 0.0056, 0.0049, 0.0049, 0.005, 0.0049, 0.0049, 0.0049, 0.0049]), DenseVector([0.0005, 0.0005, 0.0005, 0.0005, 0.0005, 0.0005, 0.0005, 0.0005, 0.162, 0.0005, 0.0005, 0.0005, 0.0005, 0.0005, 0.0005, 0.0005, 0.0005, 0.0005, 0.0005, 0.0005, 0.0005, 0.0005, 0.0005, 0.0005, 0.0005, 0.0005, 0.0005, 0.0005, 0.0005, 0.0005, 0.2497, 0.0005, 0.5702, 0.0005, 0.0005, 0.0005, 0.0005, 0.0005, 0.0005, 0.0005]), DenseVector([0.0005, 0.0005, 0.0005, 0.0005, 0.0005, 0.0005, 0.0005, 0.0005, 0.0005, 0.0005, 0.0005, 0.0005, 0.0005, 0.0005, 0.0005, 0.0005, 0.0005, 0.0005, 0.0005, 0.0005, 0.0005, 0.0005, 0.0005, 0.0005, 0.0005, 0.0005, 0.0005, 0.0005, 0.0005, 0.0005, 0.2747, 0.0005, 0.7077, 0.0005, 0.0005, 0.0005, 0.0005, 0.0005, 0.0005, 0.0005]), DenseVector([0.0007, 0.0007, 0.0007, 0.0007, 0.0008, 0.0008, 0.0007, 0.0007, 0.0007, 0.0007, 0.0007, 0.0007, 0.0007, 0.0007, 0.0007, 0.0007, 0.0007, 0.5124, 0.0007, 0.0007, 0.0007, 0.0007, 0.0007, 0.0007, 0.0007, 0.0007, 0.0007, 0.0007, 0.0007, 0.0007, 0.4593, 0.0007, 0.0008, 0.0007, 0.0007, 0.0008, 0.0007, 0.0007, 0.0007, 0.0007]), DenseVector([0.0049, 0.0049, 0.0049, 0.0049, 0.0051, 0.005, 0.0049, 0.0049, 0.0049, 0.0049, 0.0049, 0.0049, 0.0049, 0.0049, 0.0049, 0.0049, 0.005, 0.8076, 0.0049, 0.0049, 0.0049, 0.0049, 0.0049, 0.0049, 0.0049, 0.0049, 0.0049, 0.0049, 0.0049, 0.005, 0.0052, 0.0049, 0.0056, 0.0049, 0.0049, 0.005, 0.0049, 0.0049, 0.0049, 0.0049]), DenseVector([0.0007, 0.0007, 0.0007, 0.0007, 0.6491, 0.0008, 0.0007, 0.0007, 0.0007, 0.0007, 0.0007, 0.0007, 0.0007, 0.0007, 0.0007, 0.0007, 0.0007, 0.0008, 0.0007, 0.0007, 0.0007, 0.0007, 0.0007, 0.0007, 0.0007, 0.0007, 0.0007, 0.0007, 0.0007, 0.0007, 0.0008, 0.0007, 0.0008, 0.0007, 0.0007, 0.3226, 0.0007, 0.0007, 0.0007, 0.0007]), DenseVector([0.0005, 0.0005, 0.0005, 0.0005, 0.0005, 0.0005, 0.0005, 0.0005, 0.0005, 0.0005, 0.0005, 0.0005, 0.0005, 0.0005, 0.0005, 0.0005, 0.0005, 0.0005, 0.0005, 0.0005, 0.0005, 0.0005, 0.0005, 0.0005, 0.0005, 0.0005, 0.0005, 0.0005, 0.0005, 0.0005, 0.0005, 0.0005, 0.0006, 0.0005, 0.0005, 0.9804, 0.0005, 0.0005, 0.0005, 0.0005]), DenseVector([0.0061, 0.0061, 0.0062, 0.0061, 0.0063, 0.0062, 0.0061, 0.0061, 0.0062, 0.0062, 0.0061, 0.0061, 0.0061, 0.0061, 0.0061, 0.0061, 0.0062, 0.0067, 0.0061, 0.0061, 0.0061, 0.0061, 0.0061, 0.0061, 0.0061, 0.0061, 0.0061, 0.0061, 0.0061, 0.0062, 0.7592, 0.0062, 0.007, 0.0061, 0.0061, 0.0062, 0.0062, 0.0061, 0.0061, 0.0061]), DenseVector([0.0016, 0.0016, 0.0016, 0.0016, 0.0017, 0.0017, 0.0016, 0.0016, 0.0016, 0.0016, 0.0016, 0.0016, 0.0016, 0.0016, 0.0016, 0.0016, 0.0016, 0.0018, 0.0016, 0.0016, 0.0016, 0.0016, 0.0016, 0.0016, 0.0016, 0.0016, 0.0016, 0.0016, 0.0016, 0.0016, 0.0017, 0.0016, 0.6312, 0.0016, 0.0016, 0.3065, 0.0016, 0.0016, 0.0016, 0.0016]), DenseVector([0.0006, 0.0006, 0.0006, 0.0006, 0.0006, 0.0006, 0.0006, 0.0006, 0.0006, 0.0006, 0.0006, 0.0006, 0.0006, 0.0006, 0.0006, 0.0006, 0.0006, 0.0007, 0.0006, 0.0006, 0.0006, 0.0006, 0.0006, 0.0006, 0.0006, 0.0006, 0.0006, 0.0006, 0.0006, 0.0006, 0.5644, 0.0006, 0.4117, 0.0006, 0.0006, 0.0006, 0.0006, 0.0006, 0.0006, 0.0006]), DenseVector([0.0061, 0.0061, 0.0062, 0.0061, 0.0063, 0.0062, 0.0061, 0.0061, 0.0062, 0.0062, 0.0061, 0.0061, 0.0061, 0.0061, 0.0061, 0.0061, 0.0062, 0.0067, 0.0061, 0.0061, 0.0061, 0.0061, 0.0061, 0.0061, 0.0061, 0.0061, 0.0061, 0.0061, 0.0061, 0.0062, 0.0065, 0.7588, 0.007, 0.0061, 0.0061, 0.0062, 0.0062, 0.0061, 0.0061, 0.0061]), DenseVector([0.0005, 0.0005, 0.0005, 0.0005, 0.0005, 0.0005, 0.0005, 0.0005, 0.0005, 0.0005, 0.0005, 0.0005, 0.0005, 0.0005, 0.0005, 0.0005, 0.0005, 0.0006, 0.0005, 0.0005, 0.0005, 0.0005, 0.0005, 0.0005, 0.0005, 0.0005, 0.0005, 0.0005, 0.0005, 0.0005, 0.3485, 0.0005, 0.6317, 0.0005, 0.0005, 0.0005, 0.0005, 0.0005, 0.0005, 0.0005]), DenseVector([0.0061, 0.0061, 0.0062, 0.0061, 0.759, 0.0062, 0.0061, 0.0061, 0.0062, 0.0062, 0.0061, 0.0061, 0.0061, 0.0061, 0.0061, 0.0061, 0.0062, 0.0067, 0.0061, 0.0061, 0.0061, 0.0061, 0.0061, 0.0061, 0.0061, 0.0061, 0.0061, 0.0061, 0.0061, 0.0062, 0.0065, 0.0062, 0.007, 0.0061, 0.0061, 0.0062, 0.0062, 0.0061, 0.0061, 0.0061]), DenseVector([0.0008, 0.0008, 0.0008, 0.0008, 0.0008, 0.0008, 0.0008, 0.0008, 0.0008, 0.0008, 0.0008, 0.0008, 0.0008, 0.0008, 0.0008, 0.0008, 0.0008, 0.7436, 0.0008, 0.0008, 0.0008, 0.0008, 0.0008, 0.0008, 0.0008, 0.0008, 0.0008, 0.0008, 0.0008, 0.0008, 0.0008, 0.0008, 0.2273, 0.0008, 0.0008, 0.0008, 0.0008, 0.0008, 0.0008, 0.0008]), DenseVector([0.0007, 0.0007, 0.0007, 0.0007, 0.0007, 0.0007, 0.0007, 0.0007, 0.0007, 0.0007, 0.0007, 0.0007, 0.0007, 0.0007, 0.0007, 0.0007, 0.0007, 0.0008, 0.0007, 0.0007, 0.0007, 0.0007, 0.0007, 0.0007, 0.0007, 0.0007, 0.0007, 0.0007, 0.0007, 0.0007, 0.0008, 0.0007, 0.5502, 0.0007, 0.0007, 0.4224, 0.0007, 0.0007, 0.0007, 0.0007]), DenseVector([0.0007, 0.0007, 0.0007, 0.0007, 0.0007, 0.0007, 0.0007, 0.0007, 0.0007, 0.0007, 0.0007, 0.0007, 0.0007, 0.0007, 0.0007, 0.0007, 0.0007, 0.0008, 0.0007, 0.0007, 0.0007, 0.0007, 0.0007, 0.0007, 0.0007, 0.0007, 0.0007, 0.0007, 0.0007, 0.0007, 0.0007, 0.0007, 0.2545, 0.0007, 0.0007, 0.7189, 0.0007, 0.0007, 0.0007, 0.0007]), DenseVector([0.0005, 0.0005, 0.0005, 0.0005, 0.0005, 0.0005, 0.0005, 0.0005, 0.0005, 0.0005, 0.0005, 0.0005, 0.0005, 0.0005, 0.0005, 0.0005, 0.0005, 0.5308, 0.0005, 0.0005, 0.0005, 0.0005, 0.0005, 0.0005, 0.0005, 0.0005, 0.0005, 0.0005, 0.0005, 0.0005, 0.0005, 0.0005, 0.0005, 0.0005, 0.0005, 0.4516, 0.0005, 0.0005, 0.0005, 0.0005]), DenseVector([0.0007, 0.0007, 0.0007, 0.0007, 0.0007, 0.0007, 0.0007, 0.0007, 0.0007, 0.0007, 0.0007, 0.0007, 0.0007, 0.0007, 0.0007, 0.0007, 0.0007, 0.0008, 0.0007, 0.0007, 0.0007, 0.0007, 0.0007, 0.0007, 0.0007, 0.0007, 0.0007, 0.0007, 0.0007, 0.0007, 0.0008, 0.0007, 0.4016, 0.0007, 0.0007, 0.5709, 0.0007, 0.0007, 0.0007, 0.0007]), DenseVector([0.0012, 0.0012, 0.0012, 0.0012, 0.0013, 0.0012, 0.0012, 0.0012, 0.0012, 0.0012, 0.0012, 0.0012, 0.0012, 0.0012, 0.0012, 0.0012, 0.0012, 0.952, 0.0012, 0.0012, 0.0012, 0.0012, 0.0012, 0.0012, 0.0012, 0.0012, 0.0012, 0.0012, 0.0012, 0.0012, 0.0013, 0.0012, 0.0014, 0.0012, 0.0012, 0.0012, 0.0012, 0.0012, 0.0012, 0.0012]), DenseVector([0.0007, 0.0007, 0.0007, 0.0007, 0.2288, 0.0007, 0.0007, 0.0007, 0.0007, 0.0007, 0.0007, 0.0007, 0.0007, 0.0007, 0.0007, 0.0007, 0.0007, 0.0007, 0.0007, 0.0007, 0.0007, 0.0007, 0.0007, 0.0007, 0.0007, 0.0007, 0.0007, 0.0007, 0.0007, 0.0007, 0.238, 0.0007, 0.5087, 0.0007, 0.0007, 0.0007, 0.0007, 0.0007, 0.0007, 0.0007]), DenseVector([0.0082, 0.0082, 0.0082, 0.0082, 0.0085, 0.0083, 0.0082, 0.0082, 0.0082, 0.0082, 0.0082, 0.0082, 0.0082, 0.0082, 0.0082, 0.0082, 0.0083, 0.0089, 0.0082, 0.0082, 0.0082, 0.0082, 0.0082, 0.0082, 0.0082, 0.0082, 0.0082, 0.0082, 0.0082, 0.0083, 0.0087, 0.0082, 0.6792, 0.0082, 0.0082, 0.0083, 0.0082, 0.0082, 0.0082, 0.0082]), DenseVector([0.0004, 0.0004, 0.0004, 0.0004, 0.0004, 0.0004, 0.0004, 0.0004, 0.0004, 0.0004, 0.0004, 0.0004, 0.0004, 0.0004, 0.0004, 0.0004, 0.0004, 0.4817, 0.0004, 0.0004, 0.0004, 0.0004, 0.0004, 0.0004, 0.0004, 0.0004, 0.0004, 0.0004, 0.0004, 0.0004, 0.0004, 0.0004, 0.0005, 0.0004, 0.0004, 0.5027, 0.0004, 0.0004, 0.0004, 0.0004]), DenseVector([0.0061, 0.0061, 0.0062, 0.0061, 0.0063, 0.0062, 0.0061, 0.0061, 0.0062, 0.0062, 0.0061, 0.0061, 0.0061, 0.0061, 0.0061, 0.0061, 0.0062, 0.0067, 0.0061, 0.0061, 0.0061, 0.0061, 0.0061, 0.0061, 0.0061, 0.0061, 0.0061, 0.0061, 0.0061, 0.0062, 0.0065, 0.0062, 0.007, 0.0061, 0.0061, 0.7589, 0.0062, 0.0061, 0.0061, 0.0061]), DenseVector([0.0082, 0.0082, 0.0082, 0.0082, 0.6783, 0.0083, 0.0082, 0.0082, 0.0082, 0.0082, 0.0082, 0.0082, 0.0082, 0.0082, 0.0082, 0.0082, 0.0083, 0.0089, 0.0082, 0.0082, 0.0082, 0.0082, 0.0082, 0.0082, 0.0082, 0.0082, 0.0082, 0.0082, 0.0082, 0.0083, 0.0087, 0.0082, 0.0094, 0.0082, 0.0082, 0.0083, 0.0082, 0.0082, 0.0082, 0.0082]), DenseVector([0.0005, 0.0005, 0.0005, 0.0005, 0.0005, 0.0005, 0.0005, 0.0005, 0.0005, 0.0005, 0.0005, 0.0005, 0.0005, 0.0005, 0.0005, 0.0005, 0.0005, 0.0006, 0.0005, 0.0005, 0.0005, 0.0005, 0.0005, 0.0005, 0.0005, 0.0005, 0.0005, 0.0005, 0.0005, 0.0005, 0.0006, 0.0005, 0.9796, 0.0005, 0.0005, 0.0005, 0.0005, 0.0005, 0.0005, 0.0005]), DenseVector([0.0007, 0.0007, 0.0007, 0.0007, 0.2256, 0.0008, 0.0007, 0.0007, 0.0007, 0.0007, 0.0007, 0.0007, 0.0007, 0.0007, 0.0007, 0.0007, 0.0007, 0.47, 0.0007, 0.0007, 0.0007, 0.0007, 0.0007, 0.0007, 0.0007, 0.0007, 0.0007, 0.0007, 0.0007, 0.0007, 0.0008, 0.0007, 0.0008, 0.0007, 0.0007, 0.2769, 0.0007, 0.0007, 0.0007, 0.0007]), DenseVector([0.0007, 0.0007, 0.0007, 0.0007, 0.0007, 0.0007, 0.0007, 0.0007, 0.0007, 0.0007, 0.0007, 0.0007, 0.0007, 0.0007, 0.0007, 0.0007, 0.0007, 0.0008, 0.0007, 0.0007, 0.0007, 0.0007, 0.0007, 0.0007, 0.0007, 0.0007, 0.0007, 0.0007, 0.0007, 0.0007, 0.5402, 0.0007, 0.4324, 0.0007, 0.0007, 0.0007, 0.0007, 0.0007, 0.0007, 0.0007]), DenseVector([0.0007, 0.0007, 0.0007, 0.0007, 0.0007, 0.0007, 0.0007, 0.0007, 0.0007, 0.0007, 0.0007, 0.0007, 0.0007, 0.0007, 0.0007, 0.0007, 0.0007, 0.9718, 0.0007, 0.0007, 0.0007, 0.0007, 0.0007, 0.0007, 0.0007, 0.0007, 0.0007, 0.0007, 0.0007, 0.0007, 0.0008, 0.0007, 0.0008, 0.0007, 0.0007, 0.0007, 0.0007, 0.0007, 0.0007, 0.0007]), DenseVector([0.0009, 0.0009, 0.0009, 0.0009, 0.001, 0.001, 0.0009, 0.0009, 0.0009, 0.0009, 0.0009, 0.0009, 0.0009, 0.0009, 0.0009, 0.0009, 0.001, 0.001, 0.0009, 0.0009, 0.0009, 0.0009, 0.0009, 0.0009, 0.0009, 0.0009, 0.0009, 0.0009, 0.0009, 0.0009, 0.001, 0.0009, 0.9631, 0.0009, 0.0009, 0.001, 0.0009, 0.0009, 0.0009, 0.0009]), DenseVector([0.0061, 0.0061, 0.0062, 0.0061, 0.0063, 0.0062, 0.0061, 0.0061, 0.0062, 0.0062, 0.0061, 0.0061, 0.0061, 0.0061, 0.0061, 0.0061, 0.0062, 0.0067, 0.0061, 0.0061, 0.0061, 0.0061, 0.0061, 0.0061, 0.0061, 0.0061, 0.0061, 0.0061, 0.0061, 0.0062, 0.0065, 0.0062, 0.007, 0.0061, 0.0061, 0.7589, 0.0062, 0.0061, 0.0061, 0.0061]), DenseVector([0.0004, 0.0004, 0.0004, 0.0004, 0.0004, 0.0004, 0.0004, 0.0004, 0.0004, 0.0004, 0.0004, 0.0004, 0.0004, 0.0004, 0.0004, 0.0004, 0.0004, 0.0004, 0.0004, 0.0004, 0.0004, 0.0004, 0.0004, 0.0004, 0.0004, 0.0004, 0.0004, 0.0004, 0.0004, 0.0004, 0.5489, 0.0004, 0.4361, 0.0004, 0.0004, 0.0004, 0.0004, 0.0004, 0.0004, 0.0004]), DenseVector([0.0008, 0.0008, 0.0008, 0.0008, 0.0008, 0.0008, 0.0008, 0.0008, 0.0008, 0.0008, 0.0008, 0.0008, 0.0008, 0.0008, 0.0008, 0.0008, 0.0008, 0.0008, 0.0008, 0.0008, 0.0008, 0.0008, 0.0008, 0.0008, 0.0008, 0.0008, 0.0008, 0.0008, 0.0008, 0.0008, 0.0008, 0.0008, 0.62, 0.0008, 0.0008, 0.3509, 0.0008, 0.0008, 0.0008, 0.0008]), DenseVector([0.0049, 0.0049, 0.0049, 0.0049, 0.0051, 0.005, 0.0049, 0.0049, 0.8072, 0.0049, 0.0049, 0.0049, 0.0049, 0.0049, 0.0049, 0.0049, 0.005, 0.0053, 0.0049, 0.0049, 0.0049, 0.0049, 0.0049, 0.0049, 0.0049, 0.0049, 0.0049, 0.0049, 0.0049, 0.005, 0.0052, 0.0049, 0.0056, 0.0049, 0.0049, 0.005, 0.0049, 0.0049, 0.0049, 0.0049]), DenseVector([0.0007, 0.0007, 0.0007, 0.0007, 0.0008, 0.0008, 0.0007, 0.0007, 0.0007, 0.0007, 0.0007, 0.0007, 0.0007, 0.0007, 0.0007, 0.0007, 0.0007, 0.0008, 0.0007, 0.0007, 0.0007, 0.0007, 0.0007, 0.0007, 0.0007, 0.0007, 0.0007, 0.0007, 0.0007, 0.0007, 0.0008, 0.0007, 0.0008, 0.0007, 0.0007, 0.0008, 0.9709, 0.0007, 0.0007, 0.0007]), DenseVector([0.0008, 0.0008, 0.0008, 0.0008, 0.0008, 0.0008, 0.0008, 0.0008, 0.0008, 0.0008, 0.0008, 0.0008, 0.0008, 0.0008, 0.0008, 0.0008, 0.0008, 0.7598, 0.0008, 0.0008, 0.0008, 0.0008, 0.0008, 0.0008, 0.0008, 0.0008, 0.0008, 0.0008, 0.0008, 0.0008, 0.2091, 0.0008, 0.0009, 0.0008, 0.0008, 0.0008, 0.0008, 0.0008, 0.0008, 0.0008]), DenseVector([0.0006, 0.0006, 0.0006, 0.0006, 0.0006, 0.0006, 0.0006, 0.0006, 0.0006, 0.0006, 0.0006, 0.0006, 0.0006, 0.0006, 0.0006, 0.0006, 0.0006, 0.0006, 0.0006, 0.0006, 0.0006, 0.0006, 0.0006, 0.0006, 0.0006, 0.0006, 0.0006, 0.0006, 0.0006, 0.0006, 0.0006, 0.0006, 0.6115, 0.0006, 0.0006, 0.3658, 0.0006, 0.0006, 0.0006, 0.0006]), DenseVector([0.0008, 0.0008, 0.0008, 0.0008, 0.0008, 0.0008, 0.0008, 0.0008, 0.0008, 0.0008, 0.0008, 0.0008, 0.0008, 0.0008, 0.0008, 0.0008, 0.0008, 0.0009, 0.0008, 0.0008, 0.0008, 0.0008, 0.0008, 0.0008, 0.0008, 0.0008, 0.0008, 0.0008, 0.0008, 0.0008, 0.0008, 0.0008, 0.9691, 0.0008, 0.0008, 0.0008, 0.0008, 0.0008, 0.0008, 0.0008]), DenseVector([0.0041, 0.0041, 0.0041, 0.0041, 0.0042, 0.0042, 0.0041, 0.0041, 0.0041, 0.0041, 0.0041, 0.0041, 0.0041, 0.0041, 0.0041, 0.0041, 0.0041, 0.0044, 0.0041, 0.0041, 0.0041, 0.0041, 0.0041, 0.0041, 0.0041, 0.0041, 0.0041, 0.0041, 0.0041, 0.0041, 0.8397, 0.0041, 0.0047, 0.0041, 0.0041, 0.0042, 0.0041, 0.0041, 0.0041, 0.0041]), DenseVector([0.001, 0.001, 0.001, 0.001, 0.001, 0.3267, 0.001, 0.001, 0.001, 0.001, 0.001, 0.001, 0.001, 0.001, 0.001, 0.001, 0.001, 0.0011, 0.001, 0.001, 0.001, 0.001, 0.001, 0.001, 0.001, 0.001, 0.001, 0.001, 0.001, 0.001, 0.001, 0.001, 0.636, 0.001, 0.001, 0.001, 0.001, 0.001, 0.001, 0.001]), DenseVector([0.0006, 0.0006, 0.0006, 0.0006, 0.0007, 0.0007, 0.0006, 0.0006, 0.0006, 0.0006, 0.0006, 0.0006, 0.0006, 0.0006, 0.0006, 0.0006, 0.0007, 0.9747, 0.0006, 0.0006, 0.0006, 0.0006, 0.0006, 0.0006, 0.0006, 0.0006, 0.0006, 0.0006, 0.0006, 0.0006, 0.0007, 0.0006, 0.0007, 0.0006, 0.0006, 0.0007, 0.0006, 0.0006, 0.0006, 0.0006]), DenseVector([0.0009, 0.0009, 0.0009, 0.0009, 0.0009, 0.0009, 0.0009, 0.0009, 0.0009, 0.0009, 0.0009, 0.0009, 0.0009, 0.0009, 0.0009, 0.0009, 0.0009, 0.001, 0.0009, 0.0009, 0.0009, 0.0009, 0.0009, 0.0009, 0.0009, 0.0009, 0.0009, 0.0009, 0.0009, 0.0009, 0.3573, 0.0009, 0.6081, 0.0009, 0.0009, 0.0009, 0.0009, 0.0009, 0.0009, 0.0009]), DenseVector([0.0027, 0.0027, 0.0027, 0.0027, 0.0028, 0.0028, 0.0027, 0.0027, 0.0027, 0.0027, 0.0027, 0.0027, 0.0027, 0.0027, 0.0027, 0.0027, 0.0027, 0.003, 0.0027, 0.0027, 0.0027, 0.0027, 0.0027, 0.0027, 0.0027, 0.0027, 0.0027, 0.0027, 0.0027, 0.0027, 0.0029, 0.0027, 0.0031, 0.0027, 0.0027, 0.8931, 0.0027, 0.0027, 0.0027, 0.0027]), DenseVector([0.0005, 0.0005, 0.0005, 0.0005, 0.0005, 0.0005, 0.0005, 0.0005, 0.0005, 0.0005, 0.0005, 0.0005, 0.0005, 0.0005, 0.0005, 0.0005, 0.0005, 0.5827, 0.0005, 0.0005, 0.0005, 0.0005, 0.0005, 0.0005, 0.0005, 0.0005, 0.0005, 0.0005, 0.0005, 0.0005, 0.2028, 0.0005, 0.0005, 0.0005, 0.0005, 0.197, 0.0005, 0.0005, 0.0005, 0.0005]), DenseVector([0.0009, 0.0009, 0.0009, 0.0009, 0.0009, 0.0009, 0.0009, 0.0009, 0.0009, 0.0009, 0.0009, 0.0009, 0.0009, 0.0009, 0.0009, 0.0009, 0.0009, 0.001, 0.0009, 0.0009, 0.0009, 0.0009, 0.0009, 0.0009, 0.0009, 0.0009, 0.0009, 0.0009, 0.0009, 0.0009, 0.001, 0.0009, 0.4343, 0.0009, 0.0009, 0.5311, 0.0009, 0.0009, 0.0009, 0.0009]), DenseVector([0.0006, 0.0006, 0.0006, 0.0006, 0.0006, 0.0006, 0.0006, 0.0006, 0.0006, 0.0006, 0.0006, 0.0006, 0.0006, 0.0006, 0.0006, 0.0006, 0.0006, 0.0006, 0.0006, 0.0006, 0.0006, 0.0006, 0.0006, 0.0006, 0.0006, 0.0006, 0.0006, 0.0006, 0.0006, 0.0006, 0.3129, 0.0006, 0.6654, 0.0006, 0.0006, 0.0006, 0.0006, 0.0006, 0.0006, 0.0006]), DenseVector([0.0005, 0.0005, 0.0005, 0.0005, 0.0005, 0.0005, 0.0005, 0.0005, 0.0005, 0.0005, 0.0005, 0.0005, 0.0005, 0.0005, 0.0005, 0.0005, 0.0005, 0.5029, 0.0005, 0.0005, 0.0005, 0.0005, 0.0005, 0.0005, 0.0005, 0.0005, 0.0005, 0.0005, 0.0005, 0.0005, 0.4792, 0.0005, 0.0005, 0.0005, 0.0005, 0.0005, 0.0005, 0.0005, 0.0005, 0.0005]), DenseVector([0.0049, 0.0049, 0.0049, 0.0049, 0.0051, 0.005, 0.0049, 0.0049, 0.0049, 0.0049, 0.0049, 0.0049, 0.0049, 0.0049, 0.0049, 0.0049, 0.005, 0.8076, 0.0049, 0.0049, 0.0049, 0.0049, 0.0049, 0.0049, 0.0049, 0.0049, 0.0049, 0.0049, 0.0049, 0.005, 0.0052, 0.0049, 0.0056, 0.0049, 0.0049, 0.005, 0.0049, 0.0049, 0.0049, 0.0049]), DenseVector([0.0008, 0.0008, 0.0008, 0.0008, 0.0008, 0.0008, 0.0008, 0.0008, 0.0008, 0.0008, 0.0008, 0.0008, 0.0008, 0.0008, 0.0008, 0.0008, 0.0008, 0.0009, 0.0008, 0.0008, 0.0008, 0.0008, 0.0008, 0.0008, 0.0008, 0.0008, 0.0008, 0.0008, 0.0008, 0.0008, 0.3745, 0.0008, 0.5945, 0.0008, 0.0008, 0.0008, 0.0008, 0.0008, 0.0008, 0.0008]), DenseVector([0.0061, 0.0061, 0.0062, 0.0061, 0.0063, 0.0062, 0.0061, 0.0061, 0.7588, 0.0062, 0.0061, 0.0061, 0.0061, 0.0061, 0.0061, 0.0061, 0.0062, 0.0067, 0.0061, 0.0061, 0.0061, 0.0061, 0.0061, 0.0061, 0.0061, 0.0061, 0.0061, 0.0061, 0.0061, 0.0062, 0.0065, 0.0062, 0.007, 0.0061, 0.0061, 0.0062, 0.0062, 0.0061, 0.0061, 0.0061]), DenseVector([0.0006, 0.0006, 0.0006, 0.0006, 0.0006, 0.0006, 0.0006, 0.0006, 0.0006, 0.0006, 0.0006, 0.0006, 0.0006, 0.0006, 0.0006, 0.0006, 0.0006, 0.4283, 0.0006, 0.0006, 0.0006, 0.0006, 0.0006, 0.0006, 0.0006, 0.0006, 0.0006, 0.0006, 0.0006, 0.0006, 0.0006, 0.0006, 0.2886, 0.0006, 0.0006, 0.2615, 0.0006, 0.0006, 0.0006, 0.0006]), DenseVector([0.0008, 0.0008, 0.0008, 0.0008, 0.0008, 0.0008, 0.0008, 0.0008, 0.0008, 0.0008, 0.0008, 0.0008, 0.0008, 0.0008, 0.0008, 0.0008, 0.0008, 0.0009, 0.0008, 0.0008, 0.0008, 0.0008, 0.0008, 0.0008, 0.0008, 0.0008, 0.0008, 0.0008, 0.0008, 0.0008, 0.6695, 0.0008, 0.2994, 0.0008, 0.0008, 0.0008, 0.0008, 0.0008, 0.0008, 0.0008]), DenseVector([0.0009, 0.0009, 0.0009, 0.0009, 0.001, 0.001, 0.0009, 0.0009, 0.0009, 0.0009, 0.0009, 0.0009, 0.0009, 0.0009, 0.0009, 0.0009, 0.001, 0.2458, 0.0009, 0.0009, 0.0009, 0.0009, 0.0009, 0.0009, 0.0009, 0.0009, 0.0009, 0.0009, 0.0009, 0.0009, 0.2497, 0.0009, 0.2417, 0.0009, 0.0009, 0.2289, 0.0009, 0.0009, 0.0009, 0.0009]), DenseVector([0.0012, 0.0012, 0.0012, 0.0012, 0.0013, 0.0012, 0.0012, 0.0012, 0.0012, 0.0012, 0.0012, 0.0012, 0.0012, 0.0012, 0.0012, 0.0012, 0.0012, 0.6604, 0.0012, 0.0012, 0.0012, 0.0012, 0.0012, 0.0012, 0.0012, 0.0012, 0.0012, 0.0012, 0.0012, 0.0012, 0.2929, 0.0012, 0.0014, 0.0012, 0.0012, 0.0012, 0.0012, 0.0012, 0.0012, 0.0012]), DenseVector([0.0007, 0.0007, 0.0007, 0.0007, 0.0007, 0.0007, 0.0007, 0.0007, 0.0007, 0.0007, 0.0007, 0.0007, 0.0007, 0.0007, 0.0007, 0.0007, 0.0007, 0.7296, 0.0007, 0.0007, 0.0007, 0.0007, 0.0007, 0.0007, 0.0007, 0.0007, 0.0007, 0.0007, 0.0007, 0.0007, 0.0007, 0.0007, 0.0008, 0.0007, 0.0007, 0.2437, 0.0007, 0.0007, 0.0007, 0.0007]), DenseVector([0.0008, 0.0008, 0.0008, 0.0008, 0.0008, 0.0008, 0.0008, 0.0008, 0.0008, 0.0008, 0.0008, 0.0008, 0.0008, 0.0008, 0.0008, 0.0008, 0.0008, 0.0009, 0.0008, 0.0008, 0.0008, 0.0008, 0.0008, 0.0008, 0.0008, 0.0008, 0.0008, 0.0008, 0.0008, 0.0008, 0.3224, 0.0008, 0.6475, 0.0008, 0.0008, 0.0008, 0.0008, 0.0008, 0.0008, 0.0008]), DenseVector([0.0014, 0.0014, 0.0014, 0.0014, 0.0015, 0.0015, 0.0014, 0.0014, 0.0014, 0.0014, 0.0014, 0.0014, 0.0014, 0.0014, 0.0014, 0.0014, 0.0015, 0.0016, 0.0014, 0.0014, 0.0014, 0.0014, 0.0014, 0.0014, 0.0014, 0.0014, 0.0014, 0.0014, 0.0014, 0.0015, 0.0015, 0.0014, 0.6443, 0.0014, 0.0014, 0.3008, 0.0014, 0.0014, 0.0014, 0.0014]), DenseVector([0.0009, 0.0009, 0.0009, 0.0009, 0.0009, 0.0009, 0.0009, 0.0009, 0.0009, 0.0009, 0.0009, 0.0009, 0.0009, 0.0009, 0.0009, 0.0009, 0.0009, 0.001, 0.0009, 0.0009, 0.0009, 0.0009, 0.0009, 0.0009, 0.0009, 0.0009, 0.0009, 0.0009, 0.0009, 0.0009, 0.2729, 0.0009, 0.6925, 0.0009, 0.0009, 0.0009, 0.0009, 0.0009, 0.0009, 0.0009]), DenseVector([0.0008, 0.0008, 0.0008, 0.0008, 0.0008, 0.0008, 0.0008, 0.0008, 0.218, 0.0008, 0.0008, 0.0008, 0.0008, 0.0008, 0.0008, 0.0008, 0.0008, 0.0009, 0.0008, 0.0008, 0.0008, 0.0008, 0.0008, 0.0008, 0.0008, 0.0008, 0.0008, 0.0008, 0.0008, 0.0008, 0.4819, 0.0008, 0.2707, 0.0008, 0.0008, 0.0008, 0.0008, 0.0008, 0.0008, 0.0008]), DenseVector([0.0061, 0.0061, 0.0062, 0.0061, 0.0063, 0.0062, 0.0061, 0.0061, 0.7588, 0.0062, 0.0061, 0.0061, 0.0061, 0.0061, 0.0061, 0.0061, 0.0062, 0.0067, 0.0061, 0.0061, 0.0061, 0.0061, 0.0061, 0.0061, 0.0061, 0.0061, 0.0061, 0.0061, 0.0061, 0.0062, 0.0065, 0.0062, 0.007, 0.0061, 0.0061, 0.0062, 0.0062, 0.0061, 0.0061, 0.0061]), DenseVector([0.0008, 0.0008, 0.0008, 0.0008, 0.4691, 0.0008, 0.0008, 0.0008, 0.1572, 0.0008, 0.0008, 0.0008, 0.0008, 0.0008, 0.0008, 0.0008, 0.0008, 0.0009, 0.0008, 0.0008, 0.0008, 0.0008, 0.0008, 0.0008, 0.0008, 0.0008, 0.0008, 0.0008, 0.0008, 0.0008, 0.3434, 0.0008, 0.0009, 0.0008, 0.0008, 0.0008, 0.0008, 0.0008, 0.0008, 0.0008]), DenseVector([0.0011, 0.0011, 0.0011, 0.0011, 0.0011, 0.0011, 0.0011, 0.0011, 0.0011, 0.0011, 0.0011, 0.0011, 0.0011, 0.0011, 0.0011, 0.0011, 0.0011, 0.5753, 0.0011, 0.0011, 0.0011, 0.0011, 0.0011, 0.0011, 0.0011, 0.0011, 0.0011, 0.0011, 0.0011, 0.0011, 0.0011, 0.0011, 0.0012, 0.0011, 0.0011, 0.3841, 0.0011, 0.0011, 0.0011, 0.0011]), DenseVector([0.0008, 0.0008, 0.0008, 0.0008, 0.0008, 0.0008, 0.0008, 0.0008, 0.0008, 0.0008, 0.0008, 0.0008, 0.0008, 0.0008, 0.0008, 0.0008, 0.0008, 0.0008, 0.0008, 0.0008, 0.0008, 0.0008, 0.0008, 0.0008, 0.0008, 0.0008, 0.0008, 0.0008, 0.0008, 0.0008, 0.7486, 0.0008, 0.2223, 0.0008, 0.0008, 0.0008, 0.0008, 0.0008, 0.0008, 0.0008]), DenseVector([0.003, 0.0031, 0.0031, 0.0031, 0.0032, 0.0031, 0.0031, 0.0031, 0.0031, 0.0031, 0.0031, 0.0031, 0.0031, 0.003, 0.0031, 0.0031, 0.0031, 0.0033, 0.0031, 0.0031, 0.003, 0.003, 0.003, 0.003, 0.0031, 0.003, 0.0031, 0.0031, 0.003, 0.0031, 0.8798, 0.0031, 0.0035, 0.003, 0.003, 0.0031, 0.0031, 0.003, 0.0031, 0.003]), DenseVector([0.0012, 0.0012, 0.0012, 0.0012, 0.0012, 0.0012, 0.0012, 0.0012, 0.0012, 0.0012, 0.0012, 0.0012, 0.0012, 0.0012, 0.0012, 0.0012, 0.0012, 0.3108, 0.0012, 0.0012, 0.0012, 0.0012, 0.0012, 0.0012, 0.0012, 0.0012, 0.0012, 0.0012, 0.0012, 0.0012, 0.0012, 0.0012, 0.4751, 0.0012, 0.0012, 0.171, 0.0012, 0.0012, 0.0012, 0.0012]), DenseVector([0.0049, 0.0049, 0.0049, 0.0049, 0.8073, 0.005, 0.0049, 0.0049, 0.0049, 0.0049, 0.0049, 0.0049, 0.0049, 0.0049, 0.0049, 0.0049, 0.005, 0.0053, 0.0049, 0.0049, 0.0049, 0.0049, 0.0049, 0.0049, 0.0049, 0.0049, 0.0049, 0.0049, 0.0049, 0.005, 0.0052, 0.0049, 0.0056, 0.0049, 0.0049, 0.005, 0.0049, 0.0049, 0.0049, 0.0049]), DenseVector([0.0008, 0.0008, 0.0008, 0.0008, 0.0008, 0.0008, 0.0008, 0.0008, 0.0008, 0.0008, 0.0008, 0.0008, 0.0008, 0.0008, 0.0008, 0.0008, 0.0008, 0.97, 0.0008, 0.0008, 0.0008, 0.0008, 0.0008, 0.0008, 0.0008, 0.0008, 0.0008, 0.0008, 0.0008, 0.0008, 0.0008, 0.0008, 0.0009, 0.0008, 0.0008, 0.0008, 0.0008, 0.0008, 0.0008, 0.0008]), DenseVector([0.0005, 0.0005, 0.0005, 0.0005, 0.0005, 0.0005, 0.0005, 0.0005, 0.0005, 0.0005, 0.0005, 0.0005, 0.0005, 0.0005, 0.0005, 0.0005, 0.0005, 0.4199, 0.0005, 0.0005, 0.0005, 0.0005, 0.0005, 0.0005, 0.0005, 0.0005, 0.0005, 0.0005, 0.0005, 0.0005, 0.0979, 0.0005, 0.0006, 0.0005, 0.0005, 0.4632, 0.0005, 0.0005, 0.0005, 0.0005]), DenseVector([0.0009, 0.0009, 0.0009, 0.0009, 0.0009, 0.0009, 0.0009, 0.0009, 0.0009, 0.0009, 0.0009, 0.0009, 0.0009, 0.0009, 0.0009, 0.0009, 0.0009, 0.5846, 0.0009, 0.0009, 0.0009, 0.0009, 0.0009, 0.0009, 0.0009, 0.0009, 0.0009, 0.0009, 0.0009, 0.0009, 0.3821, 0.0009, 0.001, 0.0009, 0.0009, 0.0009, 0.0009, 0.0009, 0.0009, 0.0009]), DenseVector([0.0007, 0.0007, 0.0007, 0.0007, 0.0008, 0.0008, 0.0007, 0.0007, 0.0007, 0.0007, 0.0007, 0.0007, 0.0007, 0.0007, 0.0007, 0.0007, 0.0007, 0.0008, 0.0007, 0.0007, 0.0007, 0.0007, 0.0007, 0.0007, 0.0007, 0.0007, 0.0007, 0.0007, 0.0007, 0.0007, 0.4991, 0.0007, 0.4726, 0.0007, 0.0007, 0.0008, 0.0007, 0.0007, 0.0007, 0.0007]), DenseVector([0.0049, 0.0049, 0.0049, 0.0049, 0.8073, 0.005, 0.0049, 0.0049, 0.0049, 0.0049, 0.0049, 0.0049, 0.0049, 0.0049, 0.0049, 0.0049, 0.005, 0.0053, 0.0049, 0.0049, 0.0049, 0.0049, 0.0049, 0.0049, 0.0049, 0.0049, 0.0049, 0.0049, 0.0049, 0.005, 0.0052, 0.0049, 0.0056, 0.0049, 0.0049, 0.005, 0.0049, 0.0049, 0.0049, 0.0049]), DenseVector([0.0061, 0.0061, 0.0062, 0.0061, 0.0063, 0.0062, 0.0061, 0.0061, 0.3117, 0.0062, 0.0061, 0.0061, 0.0061, 0.0061, 0.0061, 0.0061, 0.0062, 0.0067, 0.0061, 0.0061, 0.0061, 0.0061, 0.0061, 0.0061, 0.0061, 0.0061, 0.0061, 0.0061, 0.0061, 0.0062, 0.0065, 0.0062, 0.4541, 0.0061, 0.0061, 0.0062, 0.0062, 0.0061, 0.0061, 0.0061]), DenseVector([0.0009, 0.0009, 0.0009, 0.0009, 0.001, 0.001, 0.0009, 0.0009, 0.0009, 0.0009, 0.0009, 0.0009, 0.0009, 0.0009, 0.0009, 0.0009, 0.001, 0.3198, 0.0009, 0.0009, 0.0009, 0.0009, 0.0009, 0.0009, 0.0009, 0.0009, 0.0009, 0.0009, 0.0009, 0.0009, 0.4199, 0.0009, 0.0011, 0.0009, 0.0009, 0.2253, 0.0009, 0.0009, 0.0009, 0.0009]), DenseVector([0.0082, 0.0082, 0.0082, 0.0082, 0.0085, 0.0083, 0.0082, 0.0082, 0.0082, 0.0082, 0.0082, 0.0082, 0.0082, 0.0082, 0.0082, 0.0082, 0.0083, 0.6787, 0.0082, 0.0082, 0.0082, 0.0082, 0.0082, 0.0082, 0.0082, 0.0082, 0.0082, 0.0082, 0.0082, 0.0083, 0.0087, 0.0082, 0.0094, 0.0082, 0.0082, 0.0083, 0.0082, 0.0082, 0.0082, 0.0082])])"
      ]
     },
     "execution_count": 195,
     "metadata": {},
     "output_type": "execute_result"
    }
   ],
   "source": [
    "#Grouping the topic distribution with respect to the users.\n",
    "grpUserTopicDistDF = joinUserLDA.groupBy(\"user_hash_id\")\\\n",
    "                                .agg(Func.collect_list(\"topicDistribution\").alias(\"topic_distribution_ls\"))\n",
    "grpUserTopicDistDF.first()"
   ]
  },
  {
   "cell_type": "code",
   "execution_count": 196,
   "metadata": {},
   "outputs": [],
   "source": [
    "#Function to sum a list of dense vectors.\n",
    "def addDenseVec(dense_vec_list):\n",
    "    result = DenseVector(np.zeros(40))\n",
    "    for dense_vector in dense_vec_list:\n",
    "        result = np.add(result, dense_vector).tolist() \n",
    "    return DenseVector(result)\n",
    "\n",
    "#Creating a user defined function.\n",
    "udf_addDenseVec = Func.udf(addDenseVec, VectorUDT())"
   ]
  },
  {
   "cell_type": "code",
   "execution_count": 211,
   "metadata": {},
   "outputs": [
    {
     "data": {
      "text/plain": [
       "Row(user_hash_id='f1e1cd4ff25018273aafc0c68fbb5a2f', features=DenseVector([0.3822, 1.2192, 1.7299, 0.3828, 6.2319, 0.716, 0.3826, 0.3831, 8.4454, 0.3851, 0.8863, 0.3825, 0.383, 0.3823, 0.3839, 1.186, 1.0575, 35.5781, 0.3824, 0.3826, 0.3823, 0.3823, 0.3822, 0.3822, 0.3825, 0.3822, 0.3829, 0.3829, 0.3823, 0.3875, 32.8132, 1.1376, 35.1269, 0.3823, 0.3822, 25.8921, 2.0259, 0.3822, 0.3831, 0.3823]))"
      ]
     },
     "execution_count": 211,
     "metadata": {},
     "output_type": "execute_result"
    }
   ],
   "source": [
    "#Summation of the paper topics vectors.\n",
    "userLDAProfile = grpUserTopicDistDF.withColumn(\"features\",\\\n",
    "                                               Func.lit(udf_addDenseVec(grpUserTopicDistDF.topic_distribution_ls)))\n",
    "\n",
    "userLDAProfile.select(\"user_hash_id\", \"features\").first()"
   ]
  },
  {
   "cell_type": "code",
   "execution_count": 198,
   "metadata": {},
   "outputs": [],
   "source": [
    "#Exercise 4.3\n",
    "#Function to get the top-k recommendation of a user\n",
    "def recommendLda(user_id, user_profile, rated_paper_df, k):\n",
    "    result_arr = []\n",
    "    #Get the papers not yet rated by the user\n",
    "    unratedPapers = ldaTransformed.join(rated_paper_df, \"paper_id\", how=\"left_anti\")\\\n",
    "                            .select(\"paper_id\", \"topicDistribution\")\n",
    "    #Loop over the unrated papers\n",
    "    for row_df in unratedPapers.collect():\n",
    "        #Calculate the cosine similarity given the user and paper profiles and store in a list\n",
    "        result_arr.append((user_id, row_df.paper_id, cosineSim(user_profile, row_df.topicDistribution)))\n",
    "    #Sort the list of tuples according to the cosine similarity in descending order\n",
    "    result_arr.sort(key=lambda tup: tup[2], reverse=True)\n",
    "    \n",
    "    if k > len(result_arr):\n",
    "        k = len(result_arr)\n",
    "    \n",
    "    return result_arr[0:k]"
   ]
  },
  {
   "cell_type": "code",
   "execution_count": 215,
   "metadata": {},
   "outputs": [],
   "source": [
    "#Exercise 4.3\n",
    "#Get the id and profile of the user in focus and store the recommendations as a list of tuples\n",
    "resultLda = []\n",
    "for uid, uprofile in userLDAProfile.filter(userLDAProfile.user_hash_id == \"1eac022a97d683eace8815545ce3153f\")\\\n",
    "                .rdd.map(lambda x: (x[0], x[2])).collect():\n",
    "    resultLda = resultLda + recommendLda(uid, uprofile, specUserRatedPaper, 10)"
   ]
  },
  {
   "cell_type": "code",
   "execution_count": 216,
   "metadata": {},
   "outputs": [
    {
     "data": {
      "text/plain": [
       "[Row(user_hash_id='1eac022a97d683eace8815545ce3153f', paper_id='525396', score=0.9968105400696438),\n",
       " Row(user_hash_id='1eac022a97d683eace8815545ce3153f', paper_id='11536389', score=0.996741283895792),\n",
       " Row(user_hash_id='1eac022a97d683eace8815545ce3153f', paper_id='261290', score=0.9961329302196683),\n",
       " Row(user_hash_id='1eac022a97d683eace8815545ce3153f', paper_id='2373101', score=0.996097344438993),\n",
       " Row(user_hash_id='1eac022a97d683eace8815545ce3153f', paper_id='11733005', score=0.9960232326441464),\n",
       " Row(user_hash_id='1eac022a97d683eace8815545ce3153f', paper_id='1043194', score=0.9954499215563196),\n",
       " Row(user_hash_id='1eac022a97d683eace8815545ce3153f', paper_id='1320137', score=0.9954185880350954),\n",
       " Row(user_hash_id='1eac022a97d683eace8815545ce3153f', paper_id='8310458', score=0.9951383904363118),\n",
       " Row(user_hash_id='1eac022a97d683eace8815545ce3153f', paper_id='3273038', score=0.9950104584796386),\n",
       " Row(user_hash_id='1eac022a97d683eace8815545ce3153f', paper_id='1677653', score=0.9936350890359348)]"
      ]
     },
     "execution_count": 216,
     "metadata": {},
     "output_type": "execute_result"
    }
   ],
   "source": [
    "#Exercise 4.3\n",
    "#Create a dataframe to contain the recommendations\n",
    "specUserTop10Lda = sparkSession.createDataFrame(resultLda, [\"user_hash_id\", \"paper_id\", \"score\"])\n",
    "specUserTop10Lda.collect()"
   ]
  },
  {
   "cell_type": "markdown",
   "metadata": {},
   "source": [
    "## Exercise 4.4 (Sampling and data preparation)\n",
    "a) Randomly select n users in a sample set. <br>\n",
    "b) Split library of each user into training(80%) and test(20%) sets. <br>\n",
    "c) Compute user profile using TF-IDF and LDA"
   ]
  },
  {
   "cell_type": "code",
   "execution_count": 244,
   "metadata": {},
   "outputs": [],
   "source": [
    "#Exercise 4.4\n",
    "#Function to get training and test papers\n",
    "def get_training(paper_id_list, type_data):\n",
    "    data_set = []\n",
    "    paper_set = set(paper_id_list)\n",
    "    #Get length of list of papers rated by user\n",
    "    length = len(paper_set)\n",
    "    #Training set contains 80 percent of total papers rated by user\n",
    "    train_low_idx = 0\n",
    "    train_up_idx = math.floor(0.8*length)-1\n",
    "    #Test set contains the rest of the papers rated by the user\n",
    "    test_low_idx = train_up_idx + 1\n",
    "    test_up_idx = length-1\n",
    "    \n",
    "    for idx, paper_id in enumerate(paper_set):\n",
    "        #if TRAIN then generate training set\n",
    "        if type_data == \"TRAIN\":\n",
    "            if (idx >= train_low_idx and idx <= train_up_idx):\n",
    "                data_set.append(paper_id)\n",
    "        #if TEST then generate test set\n",
    "        elif type_data == \"TEST\":\n",
    "            if (idx >= test_low_idx and idx <= test_up_idx):\n",
    "                data_set.append(paper_id)    \n",
    "    return data_set\n",
    "\n",
    "udf_get_training = Func.udf(get_training, ArrayType(StringType()))"
   ]
  },
  {
   "cell_type": "code",
   "execution_count": 237,
   "metadata": {},
   "outputs": [],
   "source": [
    "#Exercise 4.4\n",
    "#Function to get training and test sets\n",
    "def sampler(n_users, users_df, paper_profile, profile_type):\n",
    "    #Get n numbers of user from a sample set of users\n",
    "    sampleUsersDF = users_df.sample(0.8).limit(n_users)\n",
    "    \n",
    "    #Create a dataframe with the user id and user library\n",
    "    sampleUserLibDF = sampleUsersDF.select(sampleUsersDF.user_hash_id,\\\n",
    "                                           Func.explode(Func.split(sampleUsersDF.user_library, \",\"))\\\n",
    "                                           .alias(\"paper_id\"))\\\n",
    "                                    .groupBy(\"user_hash_id\")\\\n",
    "                                    .agg(Func.collect_list(\"paper_id\")\\\n",
    "                                         .alias(\"paper_id_list\"))\n",
    "    \n",
    "    #Get the training set dataframe with the training library\n",
    "    trSetDF = sampleUserLibDF.withColumn(\"train_paper_list\",\\\n",
    "                           udf_get_training(sampleUserLibDF.paper_id_list, Func.lit(\"TRAIN\")))\\\n",
    "                                .select(\"user_hash_id\", \"train_paper_list\")\n",
    "    \n",
    "    #Get the training set dataframe, each row containing individual paper_id\n",
    "    trainSetDF = trSetDF.select(\"user_hash_id\", Func.explode(trSetDF.train_paper_list).alias(\"paper_id\"))\n",
    "    \n",
    "    #Get the test set dataframe with the test library\n",
    "    tstSetDF = sampleUserLibDF.withColumn(\"test_paper_list\",\\\n",
    "                           udf_get_training(sampleUserLibDF.paper_id_list, Func.lit(\"TEST\")))\\\n",
    "                                .select(\"user_hash_id\", \"test_paper_list\")\n",
    "\n",
    "    #Get the test set dataframe, each row containing individual paper_id\n",
    "    testSetDF = tstSetDF.select(\"user_hash_id\", Func.explode(tstSetDF.test_paper_list).alias(\"paper_id\"))\n",
    "    \n",
    "    #Joining with the profile of each paper\n",
    "    joinTrItmProf = trainSetDF.join(paper_profile, \"paper_id\")\n",
    "    \n",
    "    if profile_type ==\"TF_IDF\":\n",
    "        #Generating the user profile based on the TF-IDF of the paper in the training set\n",
    "        trUserProfList = joinTrItmProf.groupBy(\"user_hash_id\").agg(Func.collect_list(\"idf_vector\").alias(\"tf_idf_list\"))\n",
    "        trUserProfileDF = trUserTfIdfList.withColumn(\"features\", udf_addSparseVec(trUserTfIdfList.tf_idf_list))\n",
    "        trUserFeaturesDF = trUserProfileDF.select(\"user_hash_id\", \"features\")\n",
    "        \n",
    "    elif profile_type == \"LDA\":\n",
    "        #Generating the user profile based on the LDA of the paper in the training set\n",
    "        trUserProfList = joinTrItmProf.groupBy(\"user_hash_id\")\\\n",
    "                                .agg(Func.collect_list(\"topicDistribution\").alias(\"topic_distribution_ls\"))\n",
    "        trUserProfileDF = grpTrUserTopicDistDF.withColumn(\"features\",\\\n",
    "                                                           Func.lit(udf_addDenseVec(grpTrUserTopicDistDF.topic_distribution_ls)))\n",
    "        trUserFeaturesDF = trUserProfileDF.select(\"user_hash_id\", \"features\")\n",
    "        \n",
    "    return (trUserFeaturesDF, trainSetDF, tstSetDF)\n",
    "        "
   ]
  },
  {
   "cell_type": "markdown",
   "metadata": {},
   "source": [
    "## Exercise 4.5 (Off-line evaluation)\n",
    "a) Generate 10 recommendations for each user (20) using CBRS tf-idf. <br>"
   ]
  },
  {
   "cell_type": "code",
   "execution_count": null,
   "metadata": {},
   "outputs": [],
   "source": [
    "userFeaturesIdf, trainSetIdf, testSetIdfa = sampler(20, usersDF, paperTfIdf, \"TF_IDF\")"
   ]
  },
  {
   "cell_type": "code",
   "execution_count": 170,
   "metadata": {},
   "outputs": [],
   "source": [
    "#Exercise 4.5 a)\n",
    "#Generate the top 10 and 100 recommendations for the users using CBRS tf-idf\n",
    "resultIdf10 = []\n",
    "resultIdf100 = []\n",
    "for uid, uprofile in userFeaturesIdf.rdd.map(lambda x: (x[0], x[1])).collect():\n",
    "    userRatedPaper = trainSetIdf.filter(trainSetIdf.user_hash_id==uid)\n",
    "    resultIdf10 = resultIdf10 + recommendTfIdf(uid, uprofile, userRatedPaper, 10)\n",
    "    resultIdf100 = resultIdf100 + recommendTfIdf(uid, uprofile, userRatedPaper, 100)"
   ]
  },
  {
   "cell_type": "code",
   "execution_count": 171,
   "metadata": {},
   "outputs": [
    {
     "name": "stdout",
     "output_type": "stream",
     "text": [
      "+--------------------+--------+-------------------+\n",
      "|        user_hash_id|paper_id|              score|\n",
      "+--------------------+--------+-------------------+\n",
      "|f05bcffe7951de9e5...|10259199| 0.4115165624330962|\n",
      "|f05bcffe7951de9e5...| 4038052|0.37463983301077103|\n",
      "|f05bcffe7951de9e5...| 3486430| 0.3523025476408462|\n",
      "|f05bcffe7951de9e5...|  556147| 0.3469728818394254|\n",
      "|f05bcffe7951de9e5...| 3508967| 0.3437314101418278|\n",
      "|f05bcffe7951de9e5...| 3752489|0.34220716025545106|\n",
      "|f05bcffe7951de9e5...| 8667279| 0.3418505434804742|\n",
      "|f05bcffe7951de9e5...| 3821740| 0.3405555236985056|\n",
      "|f05bcffe7951de9e5...|  111881| 0.3384057593770682|\n",
      "|f05bcffe7951de9e5...|11852474| 0.3350706871009224|\n",
      "|a0bbf6bb9b1c818f3...| 7469728| 0.4944232566399789|\n",
      "|a0bbf6bb9b1c818f3...| 5261538|0.46740456778932693|\n",
      "|a0bbf6bb9b1c818f3...| 3619721| 0.4053103127442583|\n",
      "|a0bbf6bb9b1c818f3...| 1223835| 0.3751995759502769|\n",
      "|a0bbf6bb9b1c818f3...|12033178|0.35210770039330513|\n",
      "+--------------------+--------+-------------------+\n",
      "only showing top 15 rows\n",
      "\n"
     ]
    }
   ],
   "source": [
    "#Exercise 4.5 a)\n",
    "#Create a dataframe to contain the top 10 recommendations\n",
    "userTopIdf10 = sparkSession.createDataFrame(resultIdf10, [\"user_hash_id\", \"paper_id\", \"score\"])\n",
    "userTopIdf10.show(15)"
   ]
  },
  {
   "cell_type": "code",
   "execution_count": null,
   "metadata": {},
   "outputs": [],
   "source": [
    "#Exercise 4.5 a)\n",
    "#Create a dataframe to contain the top 100 recommendations\n",
    "userTopIdf100 = sparkSession.createDataFrame(resultIdf100, [\"user_hash_id\", \"paper_id\", \"score\"])\n",
    "userTopIdf100.show(15)"
   ]
  },
  {
   "cell_type": "markdown",
   "metadata": {},
   "source": [
    "b) Get the hits (recommendations also found in the test set). <br>"
   ]
  },
  {
   "cell_type": "code",
   "execution_count": 174,
   "metadata": {},
   "outputs": [
    {
     "name": "stdout",
     "output_type": "stream",
     "text": [
      "+--------------------+--------------------+\n",
      "|        user_hash_id|    recom_paper_list|\n",
      "+--------------------+--------------------+\n",
      "|f05bcffe7951de9e5...|[10259199, 403805...|\n",
      "|a0bbf6bb9b1c818f3...|[7469728, 5261538...|\n",
      "|01ecfc66d01b0dd84...|[7190864, 1089946...|\n",
      "|c62b6c27979ffd314...|[884897, 12157068...|\n",
      "|b656009a6efdc8b1a...|[1938132, 688160,...|\n",
      "+--------------------+--------------------+\n",
      "only showing top 5 rows\n",
      "\n"
     ]
    }
   ],
   "source": [
    "#Exercise 4.5 b)\n",
    "#Dataframe with the list of top 10 recommendations for each user\n",
    "userTopIdfList10 = userTopIdf10.groupBy(userTopIdf10.user_hash_id).agg(Func.collect_list(\"paper_id\").alias(\"recom_paper_list\"))\n",
    "userTopIdfList10.show(5)"
   ]
  },
  {
   "cell_type": "code",
   "execution_count": 175,
   "metadata": {},
   "outputs": [
    {
     "name": "stdout",
     "output_type": "stream",
     "text": [
      "+--------------------+--------------------+--------------------+\n",
      "|        user_hash_id|     test_paper_list|    recom_paper_list|\n",
      "+--------------------+--------------------+--------------------+\n",
      "|f05bcffe7951de9e5...|[3281478, 945310,...|[10259199, 403805...|\n",
      "|a0bbf6bb9b1c818f3...|[1223835, 1123321...|[7469728, 5261538...|\n",
      "|01ecfc66d01b0dd84...|    [970908, 808689]|[7190864, 1089946...|\n",
      "|c62b6c27979ffd314...|   [884897, 1270598]|[884897, 12157068...|\n",
      "|b656009a6efdc8b1a...|[1247499, 771870,...|[1938132, 688160,...|\n",
      "+--------------------+--------------------+--------------------+\n",
      "only showing top 5 rows\n",
      "\n"
     ]
    }
   ],
   "source": [
    "#Exercise 4.5 b)\n",
    "#Dataframe with the list test paper list for each user\n",
    "userTopTstIdf10 = testSetIdfa.join(userTopIdfList10, \"user_hash_id\")\n",
    "userTopTstIdf10.show(5)"
   ]
  },
  {
   "cell_type": "code",
   "execution_count": 176,
   "metadata": {},
   "outputs": [],
   "source": [
    "#Exercise 4.5 b)\n",
    "#Function to get the list of hits\n",
    "def get_hits(test_list, recom_list):\n",
    "    hits = list(set(test_list).intersection(recom_list))\n",
    "    return hits\n",
    "\n",
    "udf_get_hits = Func.udf(get_hits, ArrayType(StringType()))"
   ]
  },
  {
   "cell_type": "code",
   "execution_count": 178,
   "metadata": {},
   "outputs": [
    {
     "name": "stdout",
     "output_type": "stream",
     "text": [
      "+--------------------+--------------------+--------------------+--------------------+\n",
      "|        user_hash_id|     test_paper_list|    recom_paper_list|                hits|\n",
      "+--------------------+--------------------+--------------------+--------------------+\n",
      "|f05bcffe7951de9e5...|[3281478, 945310,...|[10259199, 403805...|  [556147, 11852474]|\n",
      "|a0bbf6bb9b1c818f3...|[1223835, 1123321...|[7469728, 5261538...|[1223835, 1123321...|\n",
      "|01ecfc66d01b0dd84...|    [970908, 808689]|[7190864, 1089946...|                  []|\n",
      "|c62b6c27979ffd314...|   [884897, 1270598]|[884897, 12157068...|            [884897]|\n",
      "|b656009a6efdc8b1a...|[1247499, 771870,...|[1938132, 688160,...|[1779811, 688160,...|\n",
      "+--------------------+--------------------+--------------------+--------------------+\n",
      "only showing top 5 rows\n",
      "\n"
     ]
    }
   ],
   "source": [
    "#Exercise 4.5 b)\n",
    "#Dataframe with the list of hits\n",
    "userTopHitIdf10 = userTopTstIdf10.withColumn(\"hits\", udf_get_hits(userTopTstIdf10.test_paper_list\\\n",
    "                                                            , userTopTstIdf10.recom_paper_list))\n",
    "userTopHitIdf10.show(5)"
   ]
  },
  {
   "cell_type": "code",
   "execution_count": null,
   "metadata": {},
   "outputs": [],
   "source": [
    "#Exercise 4.5 b)\n",
    "#Dataframe with the list of top 100 recommendations for each user\n",
    "userTopIdfList100 = userTopIdf100.groupBy(userTopIdf100.user_hash_id)\\\n",
    "                                    .agg(Func.collect_list(\"paper_id\").alias(\"recom_paper_list\"))\n",
    "#Dataframe with the list test paper list for each user\n",
    "userTopTstIdf100 = testSetIdfa.join(userTopIdfList100, \"user_hash_id\")\n",
    "#Dataframe with the list of hits\n",
    "userTopHitIdf100 = userTopTstIdf100.withColumn(\"hits\", udf_get_hits(userTopTstIdf100.test_paper_list\\\n",
    "                                                            , userTopTstIdf100.recom_paper_list))\n",
    "userTopHitIdf100.show(5)"
   ]
  },
  {
   "cell_type": "markdown",
   "metadata": {},
   "source": [
    "c) Evaluation of the Precision@k, Recall@k and MRR@k metrics. <br>"
   ]
  },
  {
   "cell_type": "code",
   "execution_count": 181,
   "metadata": {},
   "outputs": [
    {
     "data": {
      "text/plain": [
       "6"
      ]
     },
     "execution_count": 181,
     "metadata": {},
     "output_type": "execute_result"
    }
   ],
   "source": [
    "#Exercise 4.5 c)\n",
    "#Get the number of users\n",
    "sampleCountIdf = 20#userFeaturesIdf.count()\n",
    "#sampleCount"
   ]
  },
  {
   "cell_type": "code",
   "execution_count": 179,
   "metadata": {},
   "outputs": [],
   "source": [
    "#Exercise 4.5 c)\n",
    "#Function to calculate the precision metric\n",
    "def get_precision_k(sample_count, userTop_df, k):\n",
    "    result = 0\n",
    "    for uid, tst_ls, rec_ls, hit in userTop_df.rdd.map(lambda x: (x[0], x[1], x[2], x[3])).collect():\n",
    "        result = result + float(len(hit)/k)\n",
    "    \n",
    "    return float(result/sample_count)"
   ]
  },
  {
   "cell_type": "code",
   "execution_count": 182,
   "metadata": {},
   "outputs": [
    {
     "data": {
      "text/plain": [
       "0.26666666666666666"
      ]
     },
     "execution_count": 182,
     "metadata": {},
     "output_type": "execute_result"
    }
   ],
   "source": [
    "#Exercise 4.5 c)\n",
    "#Precision metric for top 10 k\n",
    "precision10 = get_precision_k(sampleCountIdf, userTopHitIdf10, 10)\n",
    "precision10"
   ]
  },
  {
   "cell_type": "code",
   "execution_count": null,
   "metadata": {},
   "outputs": [],
   "source": [
    "#Exercise 4.5 c)\n",
    "#Precision metric for top 100 k\n",
    "precision100 = get_precision_k(sampleCountIdf, userTopHitIdf100, 100)\n",
    "precision100"
   ]
  },
  {
   "cell_type": "code",
   "execution_count": 183,
   "metadata": {},
   "outputs": [],
   "source": [
    "#Exercise 4.5 c)\n",
    "#Function to calculate the recall metric\n",
    "def get_recall_k(sample_count, userTop_df):\n",
    "    result = 0\n",
    "    for uid, tst_ls, rec_ls, hit in userTop_df.rdd.map(lambda x: (x[0], x[1], x[2], x[3])).collect():\n",
    "        result = result + float(len(hit)/len(tst_ls))\n",
    "    \n",
    "    return float(result/sample_count)"
   ]
  },
  {
   "cell_type": "code",
   "execution_count": 184,
   "metadata": {},
   "outputs": [
    {
     "data": {
      "text/plain": [
       "0.35107376283846864"
      ]
     },
     "execution_count": 184,
     "metadata": {},
     "output_type": "execute_result"
    }
   ],
   "source": [
    "#Exercise 4.5 c)\n",
    "#Recall metric for top 10 k\n",
    "recall10 = get_recall_k(sampleCountIdf, userTopHitIdf10)\n",
    "recall10"
   ]
  },
  {
   "cell_type": "code",
   "execution_count": null,
   "metadata": {},
   "outputs": [],
   "source": [
    "#Exercise 4.5 c)\n",
    "#Recall metric for top 100 k\n",
    "recall100 = get_recall_k(sampleCountIdf, userTopHitIdf100)\n",
    "recall100"
   ]
  },
  {
   "cell_type": "code",
   "execution_count": 190,
   "metadata": {},
   "outputs": [],
   "source": [
    "#Exercise 4.5 c)\n",
    "#Function to calculate the MRR metric\n",
    "def get_Mrr_k(sample_count, userTop_df):\n",
    "    result = 0\n",
    "    for uid, tst_ls, rec_ls, hit in userTop_df.rdd.map(lambda x: (x[0], x[1], x[2], x[3])).collect():\n",
    "        if len(hit)!=0:\n",
    "            idx = tst_ls.index(hit[0])+1\n",
    "            result = result + float(1/idx)\n",
    "        \n",
    "    return float(result/sample_count)"
   ]
  },
  {
   "cell_type": "code",
   "execution_count": 191,
   "metadata": {},
   "outputs": [
    {
     "data": {
      "text/plain": [
       "0.4916666666666667"
      ]
     },
     "execution_count": 191,
     "metadata": {},
     "output_type": "execute_result"
    }
   ],
   "source": [
    "#Exercise 4.5 c)\n",
    "#Mrr metric for top 10 k\n",
    "Mrr10 = get_Mrr_k(sampleCountIdf, userTopHitIdf10)\n",
    "Mrr10"
   ]
  },
  {
   "cell_type": "markdown",
   "metadata": {},
   "source": [
    "d) Generate top 10 and top 100 recommendations for each user (20) using CBRS lda. <br>"
   ]
  },
  {
   "cell_type": "code",
   "execution_count": null,
   "metadata": {},
   "outputs": [],
   "source": [
    "userFeaturesLda, trainSetLda, testSetLda = sampler(20, usersDF, ldaTransformed, \"LDA\")"
   ]
  },
  {
   "cell_type": "code",
   "execution_count": 222,
   "metadata": {},
   "outputs": [],
   "source": [
    "#Exercise 4.5 d)\n",
    "#Generate the top 10 and 100 recommendations for the users using CBRS lda\n",
    "resultLda10 = []\n",
    "resultLda100 = []\n",
    "for uid, uprofile in userFeaturesLda.rdd.map(lambda x: (x[0], x[2])).collect():\n",
    "    userRatedPaperLda = trainSetLda.filter(trainSetLda.user_hash_id==uid)\n",
    "    resultLda10 = resultLda10 + recommendLda(uid, uprofile, userRatedPaperLda, 10)\n",
    "    resultLda100 = resultLda100 + recommendLda(uid, uprofile, userRatedPaperLda, 100)"
   ]
  },
  {
   "cell_type": "code",
   "execution_count": 223,
   "metadata": {},
   "outputs": [
    {
     "name": "stdout",
     "output_type": "stream",
     "text": [
      "+--------------------+--------+------------------+\n",
      "|        user_hash_id|paper_id|             score|\n",
      "+--------------------+--------+------------------+\n",
      "|f05bcffe7951de9e5...| 8667279|0.9823014150850838|\n",
      "|f05bcffe7951de9e5...|  115167|0.9822724724488839|\n",
      "|f05bcffe7951de9e5...|  941108|0.9785438928148672|\n",
      "|f05bcffe7951de9e5...| 6600388|0.9775181487805837|\n",
      "|f05bcffe7951de9e5...| 9428511|0.9773620935949265|\n",
      "|f05bcffe7951de9e5...| 3689557|0.9773391569439702|\n",
      "|f05bcffe7951de9e5...|  267335|0.9772986156841782|\n",
      "|f05bcffe7951de9e5...| 3479291|0.9769089607251129|\n",
      "|f05bcffe7951de9e5...| 2855355|0.9768913023845585|\n",
      "|f05bcffe7951de9e5...| 1325105|0.9768335104096272|\n",
      "|a0bbf6bb9b1c818f3...| 2688523|0.9942583667403158|\n",
      "|a0bbf6bb9b1c818f3...| 3463357|0.9939660842002734|\n",
      "|a0bbf6bb9b1c818f3...|  849862| 0.993912573225263|\n",
      "|a0bbf6bb9b1c818f3...|  808689|0.9938298704325079|\n",
      "|a0bbf6bb9b1c818f3...|  466011|0.9938125181808284|\n",
      "+--------------------+--------+------------------+\n",
      "only showing top 15 rows\n",
      "\n"
     ]
    }
   ],
   "source": [
    "#Exercise 4.5 d)\n",
    "#Create a dataframe to contain the top 10 recommendations\n",
    "userTopLda10 = sparkSession.createDataFrame(resultLda10, [\"user_hash_id\", \"paper_id\", \"score\"])\n",
    "userTopLda10.show(15)"
   ]
  },
  {
   "cell_type": "code",
   "execution_count": 224,
   "metadata": {},
   "outputs": [
    {
     "name": "stdout",
     "output_type": "stream",
     "text": [
      "+--------------------+--------------------+\n",
      "|        user_hash_id|    recom_paper_list|\n",
      "+--------------------+--------------------+\n",
      "|f05bcffe7951de9e5...|[8667279, 115167,...|\n",
      "|a0bbf6bb9b1c818f3...|[2688523, 3463357...|\n",
      "|01ecfc66d01b0dd84...|[154, 840811, 121...|\n",
      "|c62b6c27979ffd314...|[3462570, 607999,...|\n",
      "|b656009a6efdc8b1a...|[311570, 8423325,...|\n",
      "+--------------------+--------------------+\n",
      "only showing top 5 rows\n",
      "\n"
     ]
    }
   ],
   "source": [
    "#Exercise 4.5 d)\n",
    "#Dataframe with the list of top 10 recommendations for each user\n",
    "userTopLdaList10 = userTopLda10.groupBy(userTopLda10.user_hash_id).agg(Func.collect_list(\"paper_id\").alias(\"recom_paper_list\"))\n",
    "userTopLdaList10.show(5)"
   ]
  },
  {
   "cell_type": "code",
   "execution_count": 225,
   "metadata": {},
   "outputs": [
    {
     "name": "stdout",
     "output_type": "stream",
     "text": [
      "+--------------------+--------------------+--------------------+\n",
      "|        user_hash_id|     test_paper_list|    recom_paper_list|\n",
      "+--------------------+--------------------+--------------------+\n",
      "|f05bcffe7951de9e5...|[3281478, 945310,...|[8667279, 115167,...|\n",
      "|a0bbf6bb9b1c818f3...|[1223835, 1123321...|[2688523, 3463357...|\n",
      "|01ecfc66d01b0dd84...|    [970908, 808689]|[154, 840811, 121...|\n",
      "|c62b6c27979ffd314...|   [884897, 1270598]|[3462570, 607999,...|\n",
      "|b656009a6efdc8b1a...|[1247499, 771870,...|[311570, 8423325,...|\n",
      "+--------------------+--------------------+--------------------+\n",
      "only showing top 5 rows\n",
      "\n"
     ]
    }
   ],
   "source": [
    "#Exercise 4.5 d)\n",
    "#Dataframe with the list test paper list for each user\n",
    "userTopLdatst10 = testSetLda.join(userTopLdaList10, \"user_hash_id\")\n",
    "userTopLdatst10.show(5)"
   ]
  },
  {
   "cell_type": "code",
   "execution_count": 226,
   "metadata": {},
   "outputs": [
    {
     "name": "stdout",
     "output_type": "stream",
     "text": [
      "+--------------------+--------------------+--------------------+---------+\n",
      "|        user_hash_id|     test_paper_list|    recom_paper_list|     hits|\n",
      "+--------------------+--------------------+--------------------+---------+\n",
      "|f05bcffe7951de9e5...|[3281478, 945310,...|[8667279, 115167,...|[1325105]|\n",
      "|a0bbf6bb9b1c818f3...|[1223835, 1123321...|[2688523, 3463357...|       []|\n",
      "|01ecfc66d01b0dd84...|    [970908, 808689]|[154, 840811, 121...|       []|\n",
      "|c62b6c27979ffd314...|   [884897, 1270598]|[3462570, 607999,...|       []|\n",
      "|b656009a6efdc8b1a...|[1247499, 771870,...|[311570, 8423325,...|       []|\n",
      "+--------------------+--------------------+--------------------+---------+\n",
      "only showing top 5 rows\n",
      "\n"
     ]
    }
   ],
   "source": [
    "#Exercise 4.5 d)\n",
    "#Dataframe with the list of hits\n",
    "userTopLdaHit10 = userTopLdatst10.withColumn(\"hits\", udf_get_hits(userTopLdatst10.test_paper_list\\\n",
    "                                                            , userTopLdatst10.recom_paper_list))\n",
    "userTopLdaHit10.show(5)"
   ]
  },
  {
   "cell_type": "code",
   "execution_count": null,
   "metadata": {},
   "outputs": [],
   "source": [
    "#Exercise 4.5 d)\n",
    "#Create a dataframe to contain the top 100 recommendations\n",
    "userTopLda100 = sparkSession.createDataFrame(resultLda100, [\"user_hash_id\", \"paper_id\", \"score\"])\n",
    "#Dataframe with the list of top 10 recommendations for each user\n",
    "userTopLdaList100 = userTopLda100.groupBy(userTopLda100.user_hash_id).agg(Func.collect_list(\"paper_id\").alias(\"recom_paper_list\"))\n",
    "#Dataframe with the list test paper list for each user\n",
    "userTopLdatst100 = testSetLda.join(userTopLdaList100, \"user_hash_id\")\n",
    "#Dataframe with the list of hits\n",
    "userTopLdaHit100 = userTopLdatst100.withColumn(\"hits\", udf_get_hits(userTopLdatst100.test_paper_list\\\n",
    "                                                            , userTopLdatst100.recom_paper_list))\n",
    "userTopLdaHit100.show(5)"
   ]
  },
  {
   "cell_type": "code",
   "execution_count": 227,
   "metadata": {},
   "outputs": [
    {
     "data": {
      "text/plain": [
       "6"
      ]
     },
     "execution_count": 227,
     "metadata": {},
     "output_type": "execute_result"
    }
   ],
   "source": [
    "#Exercise 4.5 d)\n",
    "#Get the number of users\n",
    "sampleCount = 20#userFeaturesLda.count()\n",
    "#sampleCount"
   ]
  },
  {
   "cell_type": "code",
   "execution_count": 229,
   "metadata": {},
   "outputs": [
    {
     "data": {
      "text/plain": [
       "0.016666666666666666"
      ]
     },
     "execution_count": 229,
     "metadata": {},
     "output_type": "execute_result"
    }
   ],
   "source": [
    "#Exercise 4.5 d)\n",
    "#Precision metric for top 10 k\n",
    "precisionLda10 = get_precision_k(sampleCount, userTopLdaHit10, 10)\n",
    "precisionLda10"
   ]
  },
  {
   "cell_type": "code",
   "execution_count": null,
   "metadata": {},
   "outputs": [],
   "source": [
    "#Exercise 4.5 d)\n",
    "#Precision metric for top 100 k\n",
    "precisionLda100 = get_precision_k(sampleCount, userTopLdaHit100, 100)\n",
    "precisionLda100"
   ]
  },
  {
   "cell_type": "code",
   "execution_count": 230,
   "metadata": {},
   "outputs": [
    {
     "data": {
      "text/plain": [
       "0.004901960784313725"
      ]
     },
     "execution_count": 230,
     "metadata": {},
     "output_type": "execute_result"
    }
   ],
   "source": [
    "#Exercise 4.5 d)\n",
    "#Recall metric for top 10 k\n",
    "recallLda10 = get_recall_k(sampleCount, userTopLdaHit10)\n",
    "recallLda10"
   ]
  },
  {
   "cell_type": "code",
   "execution_count": null,
   "metadata": {},
   "outputs": [],
   "source": [
    "#Exercise 4.5 d)\n",
    "#Recall metric for top 100 k\n",
    "recallLda100 = get_recall_k(sampleCount, userTopLdaHit100)\n",
    "recallLda100"
   ]
  },
  {
   "cell_type": "code",
   "execution_count": 231,
   "metadata": {},
   "outputs": [
    {
     "data": {
      "text/plain": [
       "0.015151515151515152"
      ]
     },
     "execution_count": 231,
     "metadata": {},
     "output_type": "execute_result"
    }
   ],
   "source": [
    "#Exercise 4.5 d)\n",
    "#Mrr metric for top 10 k\n",
    "MrrLda10 = get_Mrr_k(sampleCount, userTopLdaHit10)\n",
    "MrrLda10"
   ]
  },
  {
   "cell_type": "code",
   "execution_count": null,
   "metadata": {},
   "outputs": [],
   "source": []
  }
 ],
 "metadata": {
  "kernelspec": {
   "display_name": "Python 3",
   "language": "python",
   "name": "python3"
  },
  "language_info": {
   "codemirror_mode": {
    "name": "ipython",
    "version": 3
   },
   "file_extension": ".py",
   "mimetype": "text/x-python",
   "name": "python",
   "nbconvert_exporter": "python",
   "pygments_lexer": "ipython3",
   "version": "3.6.6"
  }
 },
 "nbformat": 4,
 "nbformat_minor": 2
}
