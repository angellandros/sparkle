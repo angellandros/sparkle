{
 "cells": [
  {
   "cell_type": "code",
   "execution_count": 1,
   "metadata": {},
   "outputs": [],
   "source": [
    "from pyspark.sql import SparkSession\n",
    "sparkSession = SparkSession.builder.appName(\"myApp\").getOrCreate()"
   ]
  },
  {
   "cell_type": "code",
   "execution_count": 2,
   "metadata": {},
   "outputs": [],
   "source": [
    "#Reading txt and csv files\n",
    "userLibRDD = sparkSession.sparkContext.textFile(\"./users_libraries.txt\")\n",
    "stopWordRDD = sparkSession.sparkContext.textFile(\"./stopwords_en.txt\")\n",
    "papersRDD = sparkSession.sparkContext.textFile(\"./papers.csv\")"
   ]
  },
  {
   "cell_type": "code",
   "execution_count": 3,
   "metadata": {},
   "outputs": [
    {
     "data": {
      "text/plain": [
       "28416"
      ]
     },
     "execution_count": 3,
     "metadata": {},
     "output_type": "execute_result"
    }
   ],
   "source": [
    "#Exercise 1.4 a)\n",
    "#Number of distinct users\n",
    "#userLibRDD.count()\n",
    "userLibRDD.map(lambda line: line.split(';')[0]).distinct().count()\n"
   ]
  },
  {
   "cell_type": "code",
   "execution_count": 4,
   "metadata": {},
   "outputs": [
    {
     "data": {
      "text/plain": [
       "172079"
      ]
     },
     "execution_count": 4,
     "metadata": {},
     "output_type": "execute_result"
    }
   ],
   "source": [
    "#Exercise 1.4 a)\n",
    "#Number of distinct items\n",
    "papersRDD.map(lambda line: line.split(',')[0]).distinct().count()\n",
    "                       "
   ]
  },
  {
   "cell_type": "code",
   "execution_count": 5,
   "metadata": {},
   "outputs": [
    {
     "data": {
      "text/plain": [
       "828481"
      ]
     },
     "execution_count": 5,
     "metadata": {},
     "output_type": "execute_result"
    }
   ],
   "source": [
    "#Exercise 1.4 a)\n",
    "#Number of total ratings by users\n",
    "userLibRDD.map(lambda line: (line.split(';')[0], line.split(';')[1])).map(lambda x: x[1].split(',')).flatMap(lambda x: x).count()"
   ]
  },
  {
   "cell_type": "code",
   "execution_count": 6,
   "metadata": {},
   "outputs": [
    {
     "data": {
      "text/plain": [
       "1"
      ]
     },
     "execution_count": 6,
     "metadata": {},
     "output_type": "execute_result"
    }
   ],
   "source": [
    "#Exercise 1.4 b)\n",
    "#Min number of ratings a user has given\n",
    "userLibRDD.map(lambda line: (line.split(';')[0], line.split(';')[1])).map(lambda x: (x[0], x[1].split(','))).mapValues(len).map(lambda x: x[1]).min()"
   ]
  },
  {
   "cell_type": "code",
   "execution_count": 7,
   "metadata": {},
   "outputs": [
    {
     "data": {
      "text/plain": [
       "1922"
      ]
     },
     "execution_count": 7,
     "metadata": {},
     "output_type": "execute_result"
    }
   ],
   "source": [
    "#Exercise 1.4 c)\n",
    "#Max number of ratings a user has given\n",
    "userLibRDD.map(lambda line: (line.split(';')[0], line.split(';')[1])).map(lambda x: (x[0], x[1].split(','))).mapValues(len).map(lambda x: x[1]).max()"
   ]
  },
  {
   "cell_type": "code",
   "execution_count": 8,
   "metadata": {},
   "outputs": [
    {
     "data": {
      "text/plain": [
       "29.155440596846873"
      ]
     },
     "execution_count": 8,
     "metadata": {},
     "output_type": "execute_result"
    }
   ],
   "source": [
    "#Exercise 1.4 d)\n",
    "#Average number of ratings of users\n",
    "userLibRDD.map(lambda line: (line.split(';')[0], line.split(';')[1])).map(lambda x: (x[0], x[1].split(','))).mapValues(len).map(lambda x: x[1]).mean()\n"
   ]
  },
  {
   "cell_type": "code",
   "execution_count": 9,
   "metadata": {},
   "outputs": [
    {
     "data": {
      "text/plain": [
       "81.1751761366869"
      ]
     },
     "execution_count": 9,
     "metadata": {},
     "output_type": "execute_result"
    }
   ],
   "source": [
    "#Exercise 1.4 e)\n",
    "#Standard deviation for ratings of users\n",
    "userLibRDD.map(lambda line: (line.split(';')[0], line.split(';')[1])).map(lambda x: (x[0], x[1].split(','))).mapValues(len).map(lambda x: x[1]).stdev()\n"
   ]
  },
  {
   "cell_type": "code",
   "execution_count": 10,
   "metadata": {},
   "outputs": [
    {
     "data": {
      "text/plain": [
       "3"
      ]
     },
     "execution_count": 10,
     "metadata": {},
     "output_type": "execute_result"
    }
   ],
   "source": [
    "#Exercise 1.4 f)\n",
    "#Min number of ratings an item has received\n",
    "userLibRDD.map(lambda line: (line.split(';')[0], line.split(';')[1])).map(lambda x: x[1].split(',')).flatMap(lambda x: x).map(lambda x: (x, 1)).reduceByKey(lambda a, b: a + b).map(lambda x: x[1]).min()"
   ]
  },
  {
   "cell_type": "code",
   "execution_count": 11,
   "metadata": {},
   "outputs": [
    {
     "data": {
      "text/plain": [
       "924"
      ]
     },
     "execution_count": 11,
     "metadata": {},
     "output_type": "execute_result"
    }
   ],
   "source": [
    "#Exercise 1.4 g)\n",
    "#Max number of ratings an item has received\n",
    "userLibRDD.map(lambda line: (line.split(';')[0], line.split(';')[1])).map(lambda x: x[1].split(',')).flatMap(lambda x: x).map(lambda x: (x, 1)).reduceByKey(lambda a, b: a + b).map(lambda x: x[1]).max()"
   ]
  },
  {
   "cell_type": "code",
   "execution_count": 12,
   "metadata": {},
   "outputs": [
    {
     "data": {
      "text/plain": [
       "4.814538671191764"
      ]
     },
     "execution_count": 12,
     "metadata": {},
     "output_type": "execute_result"
    }
   ],
   "source": [
    "#Exercise 1.4 h)\n",
    "#Average number of ratings of items\n",
    "userLibRDD.map(lambda line: (line.split(';')[0], line.split(';')[1])).map(lambda x: x[1].split(',')).flatMap(lambda x: x).map(lambda x: (x, 1)).reduceByKey(lambda a, b: a + b).map(lambda x: x[1]).mean()"
   ]
  },
  {
   "cell_type": "code",
   "execution_count": 13,
   "metadata": {},
   "outputs": [
    {
     "data": {
      "text/plain": [
       "5.4778022923145091"
      ]
     },
     "execution_count": 13,
     "metadata": {},
     "output_type": "execute_result"
    }
   ],
   "source": [
    "#Exercise 1.4 i)\n",
    "#Standard deviation for ratings of items\n",
    "userLibRDD.map(lambda line: (line.split(';')[0], line.split(';')[1])).map(lambda x: x[1].split(',')).flatMap(lambda x: x).map(lambda x: (x, 1)).reduceByKey(lambda a, b: a + b).map(lambda x: x[1]).stdev()"
   ]
  },
  {
   "cell_type": "code",
   "execution_count": null,
   "metadata": {},
   "outputs": [],
   "source": []
  }
 ],
 "metadata": {
  "kernelspec": {
   "display_name": "Python 3",
   "language": "python",
   "name": "python3"
  },
  "language_info": {
   "codemirror_mode": {
    "name": "ipython",
    "version": 3
   },
   "file_extension": ".py",
   "mimetype": "text/x-python",
   "name": "python",
   "nbconvert_exporter": "python",
   "pygments_lexer": "ipython3",
   "version": "3.6.5"
  }
 },
 "nbformat": 4,
 "nbformat_minor": 2
}
