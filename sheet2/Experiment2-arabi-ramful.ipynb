{
 "cells": [
  {
   "cell_type": "markdown",
   "metadata": {},
   "source": [
    "# Experiment 2\n",
    "Mohammad-Ali ARABI, Yashveere RAMFUL"
   ]
  },
  {
   "cell_type": "code",
   "execution_count": 1,
   "metadata": {},
   "outputs": [],
   "source": [
    "#Import packages.\n",
    "from pyspark.sql import SparkSession\n",
    "from pyspark.sql.types import *\n",
    "from pyspark.sql import functions as func\n",
    "import matplotlib.pyplot as plt\n",
    "from pyspark.sql.functions import udf\n",
    "from pyspark.sql import SQLContext\n",
    "from pyspark.sql import Column as col\n",
    "import random as ran\n",
    "from pyspark.sql.window import Window\n",
    "from pyspark.ml.recommendation import ALS\n",
    "from pyspark.ml.evaluation import RegressionEvaluator\n",
    "from pyspark.ml.tuning import CrossValidator, ParamGridBuilder\n",
    "\n",
    "#Create a spark session.\n",
    "sparkSession = SparkSession.builder.appName(\"Experiment2\").getOrCreate()"
   ]
  },
  {
   "cell_type": "markdown",
   "metadata": {},
   "source": [
    "## Exercise 2.1 (Advanced analysis)\n"
   ]
  },
  {
   "cell_type": "code",
   "execution_count": 19,
   "metadata": {},
   "outputs": [
    {
     "name": "stdout",
     "output_type": "stream",
     "text": [
      "+--------------------+-------+\n",
      "|                user|  paper|\n",
      "+--------------------+-------+\n",
      "|28d3f81251d94b097...|3929762|\n",
      "|28d3f81251d94b097...| 503574|\n",
      "|28d3f81251d94b097...|5819422|\n",
      "|28d3f81251d94b097...|4238883|\n",
      "|28d3f81251d94b097...|5788061|\n",
      "+--------------------+-------+\n",
      "only showing top 5 rows\n",
      "\n"
     ]
    }
   ],
   "source": [
    "#Exercise 2.1\n",
    "#loading data from users_libraries.txt into a dataframe.\n",
    "#Loading the data in and RDD and splitting the paper_id id values.\n",
    "userRatingsRDD = \\\n",
    "    sparkSession.sparkContext.textFile(\"/home/jovyan/work/users_libraries.txt\") \\\n",
    "            .map(lambda line: line.split(';')) \\\n",
    "            .flatMapValues(lambda value: value.split(','))\n",
    "\n",
    "#Creating the schema for the dataframe.\n",
    "schemaString = \"user paper\"\n",
    "fields = [StructField(field_name, StringType(), True) for field_name in schemaString.split()]\n",
    "schema = StructType(fields)\n",
    "#Creating the dataframe.\n",
    "userLibDF = sparkSession.createDataFrame(userRatingsRDD, schema)\n",
    "userLibDF.show(5, truncate=True)"
   ]
  },
  {
   "cell_type": "markdown",
   "metadata": {},
   "source": [
    "## Exercise 2.1 (Advanced analysis)\n",
    "\n",
    "a) Examining how many missing ratings are in the citeulike dataset by calculating the sparsity of the ratings matrix."
   ]
  },
  {
   "cell_type": "code",
   "execution_count": 20,
   "metadata": {},
   "outputs": [
    {
     "name": "stdout",
     "output_type": "stream",
     "text": [
      "Sparsity of ratings matrix =  99.98305694442851\n"
     ]
    }
   ],
   "source": [
    "#Exercise 2.1 a)\n",
    "#Number of distinct users.\n",
    "numUniqUser = userLibDF.select(\"user\").distinct().count()\n",
    "numUniqItem = userLibDF.select(\"paper\").distinct().count()\n",
    "numRatings = userLibDF.select(\"paper\").count()\n",
    "\n",
    "#Calculating the sparsity of the ratings matrix.\n",
    "#Sparsity = number of unknown ratings/ dimension of matrix\n",
    "sparsity = (((numUniqUser * numUniqItem) - numRatings)/(numUniqUser * numUniqItem)) * 100\n",
    "print(\"Sparsity of ratings matrix = \", sparsity)"
   ]
  },
  {
   "cell_type": "markdown",
   "metadata": {},
   "source": [
    "## Exercise 2.1 (Advanced analysis)\n",
    "\n",
    "b) Examining the number of ratings given by the users by calculating and plotting (number of users, number of ratings) the rank-frequency distribution."
   ]
  },
  {
   "cell_type": "code",
   "execution_count": 21,
   "metadata": {},
   "outputs": [
    {
     "name": "stdout",
     "output_type": "stream",
     "text": [
      "+--------------------+------------+\n",
      "|num_ratings_per_user|num_of_users|\n",
      "+--------------------+------------+\n",
      "|                  26|         192|\n",
      "|                  29|         168|\n",
      "|                 474|           4|\n",
      "|                 191|           8|\n",
      "|                  65|          43|\n",
      "|                 418|           1|\n",
      "|                 558|           1|\n",
      "|                 293|           3|\n",
      "|                 222|           6|\n",
      "|                 938|           1|\n",
      "+--------------------+------------+\n",
      "only showing top 10 rows\n",
      "\n"
     ]
    }
   ],
   "source": [
    "#Exercise 2.1 b)\n",
    "userRatingInfoDF = userLibDF.select(\"user\")\\\n",
    "                            .groupBy(\"user\")\\\n",
    "                            .agg(func.count(\"user\").alias(\"num_ratings_per_user\"))\\\n",
    "                            .groupBy(\"num_ratings_per_user\")\\\n",
    "                            .agg(func.count(\"num_ratings_per_user\").alias(\"num_of_users\"))\n",
    "\n",
    "userRatingInfoRDD = userRatingInfoDF.rdd.map(lambda row: (row.num_ratings_per_user, row.num_of_users))\n",
    "totRatingsPerUserArray = userRatingInfoRDD.map(lambda row: row[0]).collect()\n",
    "numOfUsersArray = userRatingInfoRDD.map(lambda row: row[1]).collect()\n",
    "\n",
    "userRatingInfoDF.show(10, truncate=True)"
   ]
  },
  {
   "cell_type": "code",
   "execution_count": 22,
   "metadata": {},
   "outputs": [
    {
     "data": {
      "image/png": "[encoded data removed]",
      "text/plain": [
       "<Figure size 1080x360 with 1 Axes>"
      ]
     },
     "metadata": {
      "needs_background": "light"
     },
     "output_type": "display_data"
    }
   ],
   "source": [
    "#Exercise 2.1 b)\n",
    "plt.figure(figsize=(15,5))\n",
    "plt.bar(totRatingsPerUserArray, numOfUsersArray, width=0.5, align='edge')\n",
    "plt.axis([-5, 500, 0, 3600])\n",
    "plt.xlabel(\"Number of ratings\")\n",
    "plt.ylabel(\"Number of users\")\n",
    "plt.title(\"User Rating Frequency Distribution\")\n",
    "plt.show()"
   ]
  },
  {
   "cell_type": "markdown",
   "metadata": {},
   "source": [
    "## Exercise 2.1 (Advanced analysis)\n",
    "\n",
    "c) Examining the papers popularity by looking at the number or ratings each paper gets. Calculating and plotting the (number of items, number of ratings) rank-frequency distribution."
   ]
  },
  {
   "cell_type": "code",
   "execution_count": 6,
   "metadata": {},
   "outputs": [
    {
     "name": "stdout",
     "output_type": "stream",
     "text": [
      "+---------------------+-------------+\n",
      "|num_ratings_per_paper|num_of_papers|\n",
      "+---------------------+-------------+\n",
      "|                    1|          434|\n",
      "+---------------------+-------------+\n",
      "\n"
     ]
    }
   ],
   "source": [
    "#Exercise 2.1 c)\n",
    "paperRatingInfoDF = userLibDF.select(\"paper\")\\\n",
    "                                .groupBy(\"paper\")\\\n",
    "                                .agg(func.count(\"paper\").alias(\"num_ratings_per_paper\"))\\\n",
    "                                .groupBy(\"num_ratings_per_paper\")\\\n",
    "                                .agg(func.count(\"num_ratings_per_paper\").alias(\"num_of_papers\"))\n",
    "\n",
    "paperRatingInfoRDD = paperRatingInfoDF.rdd.map(lambda row: (row.num_ratings_per_paper, row.num_of_papers))\n",
    "totRatingsPerPaperArray = paperRatingInfoRDD.map(lambda row: row[0]).collect()\n",
    "numOfPapersArray = paperRatingInfoRDD.map(lambda row: row[1]).collect()\n",
    "\n",
    "paperRatingInfoDF.show(10, truncate=True)"
   ]
  },
  {
   "cell_type": "code",
   "execution_count": 7,
   "metadata": {},
   "outputs": [
    {
     "data": {
      "image/png": "[encoded data removed]",
      "text/plain": [
       "<Figure size 1080x360 with 1 Axes>"
      ]
     },
     "metadata": {
      "needs_background": "light"
     },
     "output_type": "display_data"
    }
   ],
   "source": [
    "#Exercise 2.1 c)\n",
    "plt.figure(figsize=(15,5))\n",
    "plt.bar(totRatingsPerPaperArray, numOfPapersArray, width=0.5, align='edge')\n",
    "plt.axis([-5, 100, 0, 40000])\n",
    "plt.xlabel(\"Number of ratings\")\n",
    "plt.ylabel(\"Number of papers\")\n",
    "plt.title(\"Paper Rating Frequency Distribution\")\n",
    "plt.show()"
   ]
  },
  {
   "cell_type": "markdown",
   "metadata": {},
   "source": [
    "From the (number of items, number of ratings) rank frequency distribution, we observe that it forms a power law with a long tail distribution."
   ]
  },
  {
   "cell_type": "markdown",
   "metadata": {},
   "source": [
    "## Exercise 2.2 (Rating matrix preparation)\n",
    "\n",
    "Building the ratings matrix as a Dataframe with the following columns:<br>\n",
    "1) user_id: a unique positive integer ID for each user.<br>\n",
    "2) paper_id: a unique positive integer ID for each item.<br>\n",
    "3) rating: a number (0 or 1) that represents the ratings given by the user to the item.<br>"
   ]
  },
  {
   "cell_type": "code",
   "execution_count": 8,
   "metadata": {},
   "outputs": [
    {
     "name": "stdout",
     "output_type": "stream",
     "text": [
      "+--------------------+-------+\n",
      "|                user|user_id|\n",
      "+--------------------+-------+\n",
      "|ca4f1ba4094011d9a...|      1|\n",
      "|9c883d02115400f7b...|      2|\n",
      "|f2f77383828ea6d39...|      3|\n",
      "|d0c9aaa788153daea...|      4|\n",
      "|d1d41a15201915503...|      5|\n",
      "|1eac022a97d683eac...|      6|\n",
      "+--------------------+-------+\n",
      "\n"
     ]
    }
   ],
   "source": [
    "#Exercise 2.2\n",
    "#Generate a unique integer ID for the user hash values.\n",
    "mapIDToUserHashDF = userLibDF.select(\"user\")\\\n",
    "                                .distinct()\\\n",
    "                                .withColumn(\"user_id\", func.monotonically_increasing_id())\n",
    "\n",
    "userWinSpec = Window.orderBy(\"user_id\")\n",
    "\n",
    "mapIDToUserHashDF = mapIDToUserHashDF.withColumn(\"user_id\",\\\n",
    "                                                 func.row_number().over(userWinSpec))\n",
    "mapIDToUserHashDF.show(10, truncate=True)"
   ]
  },
  {
   "cell_type": "code",
   "execution_count": 9,
   "metadata": {},
   "outputs": [
    {
     "name": "stdout",
     "output_type": "stream",
     "text": [
      "+-------+--------+\n",
      "|  paper|paper_id|\n",
      "+-------+--------+\n",
      "|2180593|       1|\n",
      "|7364971|       2|\n",
      "|7756088|       3|\n",
      "|7812276|       4|\n",
      "| 322433|       5|\n",
      "|6627520|       6|\n",
      "|3106933|       7|\n",
      "|1042553|       8|\n",
      "|1457751|       9|\n",
      "|1095192|      10|\n",
      "+-------+--------+\n",
      "only showing top 10 rows\n",
      "\n"
     ]
    }
   ],
   "source": [
    "#Exercise 2.2\n",
    "#Generate a unique integer ID for the papers.\n",
    "mapIDToPaperDF = userLibDF.select(\"paper\")\\\n",
    "                            .distinct()\\\n",
    "                            .withColumn(\"paper_id\", func.monotonically_increasing_id())\n",
    "\n",
    "paperWinSpec = Window.orderBy(\"paper_id\")\n",
    "\n",
    "mapIDToPaperDF = mapIDToPaperDF.withColumn(\"paper_id\",\\\n",
    "                                           func.row_number().over(paperWinSpec))\n",
    "mapIDToPaperDF.show(10, truncate=True)"
   ]
  },
  {
   "cell_type": "code",
   "execution_count": 10,
   "metadata": {},
   "outputs": [
    {
     "name": "stdout",
     "output_type": "stream",
     "text": [
      "+-------+--------+\n",
      "|user_id|paper_id|\n",
      "+-------+--------+\n",
      "|      6|       1|\n",
      "|      5|       2|\n",
      "|      4|       3|\n",
      "|      6|       4|\n",
      "|      6|       5|\n",
      "|      6|       6|\n",
      "|      6|       7|\n",
      "|      6|       8|\n",
      "|      6|      10|\n",
      "|      6|       9|\n",
      "|      6|      12|\n",
      "|      6|      11|\n",
      "|      6|      14|\n",
      "|      6|      16|\n",
      "|      6|      15|\n",
      "|      6|      18|\n",
      "|      6|      13|\n",
      "|      6|      17|\n",
      "|      6|      21|\n",
      "|      5|      19|\n",
      "+-------+--------+\n",
      "only showing top 20 rows\n",
      "\n"
     ]
    }
   ],
   "source": [
    "#Exercise 2.2\n",
    "#Mapping the the generated user ID to its respective paper ID.\n",
    "mapUseIDtoPaperIDDF = mapIDToUserHashDF.join(userLibDF, \"user\", \"inner\")\\\n",
    "                                            .join(mapIDToPaperDF, \"paper\", \"inner\")\\\n",
    "                                            .select(\"user_id\", \"paper_id\")\n",
    "mapUseIDtoPaperIDDF.show(20, truncate=True)"
   ]
  },
  {
   "cell_type": "code",
   "execution_count": 11,
   "metadata": {},
   "outputs": [
    {
     "name": "stdout",
     "output_type": "stream",
     "text": [
      "+-------+--------------------+\n",
      "|user_id|       paper_id_list|\n",
      "+-------+--------------------+\n",
      "|      1|               [362]|\n",
      "|      6|[1, 4, 5, 6, 7, 8...|\n",
      "|      3|     [109, 140, 143]|\n",
      "|      5|[2, 19, 22, 29, 5...|\n",
      "|      4|[3, 28, 38, 52, 5...|\n",
      "|      2|[46, 175, 209, 21...|\n",
      "+-------+--------------------+\n",
      "\n"
     ]
    }
   ],
   "source": [
    "#Exercise 2.2\n",
    "#Creating a dataframe that has a list of all the paper IDs rated by each user.\n",
    "paperListPerUserDF = mapUseIDtoPaperIDDF.groupBy(\"user_id\")\\\n",
    "                                         .agg(func.collect_list(\"paper_id\").alias(\"paper_id_list\"))\n",
    "\n",
    "paperListPerUserDF.show(10, truncate=True)"
   ]
  },
  {
   "cell_type": "code",
   "execution_count": 12,
   "metadata": {},
   "outputs": [],
   "source": [
    "#Exercise 2.2\n",
    "#Function getList returns a list of unrated paper IDS for a specific user.\n",
    "#The number of paper IDs in the output list is determined by the number of papers that the user has rated.\n",
    "def getList(ratedPaperList, paperCount):\n",
    "    \n",
    "    #Generate a list of paper IDs between 1 and the max paper ID.\n",
    "    genPaperList = list(range(1, paperCount+1))\n",
    "    \n",
    "    #randomly shuffle the list of broadcast values.\n",
    "    ran.shuffle(genPaperList)\n",
    "\n",
    "    ratedPaperSet = set(ratedPaperList)\n",
    "    #generating a list of unrated paper list.\n",
    "    unratedPaperList = [paperID for paperID in genPaperList if paperID not in ratedPaperSet]\n",
    "    \n",
    "    #Get the lengths of the rated and unrated lists.\n",
    "    unratedListLength = len(unratedPaperList)\n",
    "    ratedListLength = len(ratedPaperList)\n",
    "    \n",
    "    #if length of unrated list is less than the rated list.\n",
    "    if unratedListLength < ratedListLength:\n",
    "        #return the whole unrated papers lists.\n",
    "        return unratedPaperList[0:unratedListLength]\n",
    "    else:\n",
    "        #else return a list of same length as the rated papers list.\n",
    "        return unratedPaperList[0:ratedListLength]\n",
    "    \n",
    "#Creating a user defined function\n",
    "udf_getList = udf(getList, ArrayType(StringType()))"
   ]
  },
  {
   "cell_type": "code",
   "execution_count": 13,
   "metadata": {},
   "outputs": [
    {
     "data": {
      "text/plain": [
       "434"
      ]
     },
     "execution_count": 13,
     "metadata": {},
     "output_type": "execute_result"
    }
   ],
   "source": [
    "#Exercise 2.2\n",
    "#Count the number of unique papers\n",
    "uniqPaperCount = userLibDF.select(userLibDF.paper).distinct().count()\n",
    "uniqPaperCount"
   ]
  },
  {
   "cell_type": "code",
   "execution_count": 14,
   "metadata": {},
   "outputs": [
    {
     "name": "stdout",
     "output_type": "stream",
     "text": [
      "+-------+--------------------+---------------------+\n",
      "|user_id|       paper_id_list|unrated_paper_id_list|\n",
      "+-------+--------------------+---------------------+\n",
      "|      1|               [362]|                [413]|\n",
      "|      6|[1, 4, 5, 6, 7, 8...| [209, 233, 236, 2...|\n",
      "|      3|     [109, 140, 143]|      [369, 275, 327]|\n",
      "|      5|[2, 19, 22, 29, 5...| [433, 427, 302, 8...|\n",
      "|      4|[3, 28, 38, 52, 5...| [372, 194, 25, 54...|\n",
      "|      2|[46, 175, 209, 21...| [183, 241, 231, 2...|\n",
      "+-------+--------------------+---------------------+\n",
      "\n"
     ]
    }
   ],
   "source": [
    "#Exercise 2.2\n",
    "\n",
    "#Creating a dataframe containing both list of rated and unrated papers.\n",
    "ratedAndUnratedDF = paperListPerUserDF.select(paperListPerUserDF.user_id,\\\n",
    "                                              paperListPerUserDF.paper_id_list,\\\n",
    "                                              func.lit(udf_getList(paperListPerUserDF.paper_id_list,\\\n",
    "                                                                   func.lit(uniqPaperCount)\\\n",
    "                                                                  )).alias(\"unrated_paper_id_list\"))\n",
    "\n",
    "ratedAndUnratedDF.show(10, truncate=True)"
   ]
  },
  {
   "cell_type": "code",
   "execution_count": 15,
   "metadata": {},
   "outputs": [
    {
     "name": "stdout",
     "output_type": "stream",
     "text": [
      "+-------+--------+------+\n",
      "|user_id|paper_id|rating|\n",
      "+-------+--------+------+\n",
      "|      6|       1|     1|\n",
      "|      5|       2|     1|\n",
      "|      4|       3|     1|\n",
      "|      6|       4|     1|\n",
      "|      6|       5|     1|\n",
      "|      6|       6|     1|\n",
      "|      6|       7|     1|\n",
      "|      6|       8|     1|\n",
      "|      6|      10|     1|\n",
      "|      6|       9|     1|\n",
      "+-------+--------+------+\n",
      "only showing top 10 rows\n",
      "\n"
     ]
    }
   ],
   "source": [
    "#Exercise 2.2\n",
    "#Adding a rating value of \"1\" to the rated papers.\n",
    "explodedRatedPaperDF = mapUseIDtoPaperIDDF.withColumn(\"rating\", func.lit(1))\n",
    "explodedRatedPaperDF.show(10, truncate=True)"
   ]
  },
  {
   "cell_type": "code",
   "execution_count": 16,
   "metadata": {},
   "outputs": [
    {
     "name": "stdout",
     "output_type": "stream",
     "text": [
      "+-------+--------+------+\n",
      "|user_id|paper_id|rating|\n",
      "+-------+--------+------+\n",
      "|      1|     212|     0|\n",
      "|      6|     292|     0|\n",
      "|      6|     190|     0|\n",
      "|      6|     130|     0|\n",
      "|      6|      87|     0|\n",
      "|      6|     150|     0|\n",
      "|      6|     140|     0|\n",
      "|      6|      53|     0|\n",
      "|      6|      28|     0|\n",
      "|      6|     243|     0|\n",
      "+-------+--------+------+\n",
      "only showing top 10 rows\n",
      "\n"
     ]
    }
   ],
   "source": [
    "#Exercise 2.2\n",
    "#Exploding the dataframe to get a row for each paper id in the unrated_paper_id_list.\n",
    "#Adding a rating value of \"0\" to the unrated papers\n",
    "explodedUnratedPaperDF = ratedAndUnratedDF.select(\"user_id\",\\\n",
    "                                        \"unrated_paper_id_list\")\\\n",
    "                                    .withColumn(\"paper_id\",\\\n",
    "                                               func.explode(ratedAndUnratedDF.unrated_paper_id_list))\\\n",
    "                                    .drop(\"unrated_paper_id_list\")\\\n",
    "                                    .withColumn(\"rating\", func.lit(0))\n",
    "explodedUnratedPaperDF.show(10, truncate=True)"
   ]
  },
  {
   "cell_type": "code",
   "execution_count": 17,
   "metadata": {},
   "outputs": [
    {
     "name": "stdout",
     "output_type": "stream",
     "text": [
      "+-------+--------+------+\n",
      "|user_id|paper_id|rating|\n",
      "+-------+--------+------+\n",
      "|      6|       1|     1|\n",
      "|      5|       2|     1|\n",
      "|      4|       3|     1|\n",
      "|      6|       4|     1|\n",
      "|      6|       5|     1|\n",
      "|      6|       6|     1|\n",
      "|      6|       7|     1|\n",
      "|      6|       8|     1|\n",
      "|      6|      10|     1|\n",
      "|      6|       9|     1|\n",
      "|      6|      12|     1|\n",
      "|      6|      11|     1|\n",
      "|      6|      14|     1|\n",
      "|      6|      16|     1|\n",
      "|      6|      15|     1|\n",
      "|      6|      18|     1|\n",
      "|      6|      13|     1|\n",
      "|      6|      17|     1|\n",
      "|      6|      21|     1|\n",
      "|      5|      19|     1|\n",
      "+-------+--------+------+\n",
      "only showing top 20 rows\n",
      "\n"
     ]
    }
   ],
   "source": [
    "#Exercise 2.2\n",
    "#Creating the rating matrix by the union of rated papers and unrated papers dataframes.\n",
    "tempRatingMatrixDF = explodedRatedPaperDF.union(explodedUnratedPaperDF)\n",
    "\n",
    "ratingMatrixDF = tempRatingMatrixDF.withColumn(\"paper_id\", tempRatingMatrixDF.paper_id.cast(IntegerType()))\n",
    "#ratingMatrixDF.orderBy(\"user_id\", \"paper_id\").show(20, truncate=True)\n",
    "ratingMatrixDF.show(20, truncate=True)"
   ]
  },
  {
   "cell_type": "markdown",
   "metadata": {},
   "source": [
    "## Exercise 2.3 (ALS algorithm)\n",
    "Program that employs ALS to fit a model for the user-paper ratings matrix.<br>\n",
    "The learned model is used to generate top 10 recommendations for all users using the recommendForAllUsers method.<br>\n",
    "Outputting the top 10 recommendations for user with user_hash_id = 1eac022a97d683eace8815545ce3153f."
   ]
  },
  {
   "cell_type": "code",
   "execution_count": 18,
   "metadata": {},
   "outputs": [],
   "source": [
    "#Exercise 2.3\n",
    "#Build the recommendation model using ALS on the user-paper dataset.\n",
    "als = ALS(userCol=\"user_id\", itemCol=\"paper_id\", ratingCol=\"rating\", coldStartStrategy=\"drop\")\n",
    "#Fit a model to the input dataset.\n",
    "model = als.fit(ratingMatrixDF)\n"
   ]
  },
  {
   "cell_type": "code",
   "execution_count": 19,
   "metadata": {},
   "outputs": [
    {
     "name": "stdout",
     "output_type": "stream",
     "text": [
      "+-------+--------------------+\n",
      "|user_id|     recommendations|\n",
      "+-------+--------------------+\n",
      "|      1|[[362, 0.80000377...|\n",
      "|      6|[[160, 0.8939501]...|\n",
      "|      3|[[140, 0.7999948]...|\n",
      "|      5|[[53, 0.80226904]...|\n",
      "|      4|[[162, 0.8031663]...|\n",
      "|      2|[[219, 0.8078058]...|\n",
      "+-------+--------------------+\n",
      "\n"
     ]
    }
   ],
   "source": [
    "#Exercise 2.3\n",
    "#Get the top 10 papers recommended for each user, for all users.\n",
    "top10UserRecommendations = model.recommendForAllUsers(10)\n",
    "top10UserRecommendations.show(10, truncate=True)\n"
   ]
  },
  {
   "cell_type": "code",
   "execution_count": 20,
   "metadata": {},
   "outputs": [
    {
     "name": "stdout",
     "output_type": "stream",
     "text": [
      "+-------+--------------------+--------+-------+----------+\n",
      "|user_id|                user|paper_id|  paper|    rating|\n",
      "+-------+--------------------+--------+-------+----------+\n",
      "|      1|ca4f1ba4094011d9a...|       2|7364971|0.21315815|\n",
      "|      1|ca4f1ba4094011d9a...|      53|6609238|0.21315815|\n",
      "|      1|ca4f1ba4094011d9a...|      92|6610585|0.21315815|\n",
      "|      1|ca4f1ba4094011d9a...|     101|7469738|0.21315815|\n",
      "|      1|ca4f1ba4094011d9a...|     111|6609222|0.21315815|\n",
      "|      1|ca4f1ba4094011d9a...|     130|7499869|0.21315815|\n",
      "|      1|ca4f1ba4094011d9a...|     150|7427963|0.21315815|\n",
      "|      1|ca4f1ba4094011d9a...|     191|7364933|0.21315815|\n",
      "|      1|ca4f1ba4094011d9a...|     262|3105791|0.21315815|\n",
      "|      1|ca4f1ba4094011d9a...|     362| 278019|0.80000377|\n",
      "|      2|9c883d02115400f7b...|      46|3878624|0.73697567|\n",
      "|      2|9c883d02115400f7b...|     175|4174633| 0.8078058|\n",
      "|      2|9c883d02115400f7b...|     190|5687747|0.35272288|\n",
      "|      2|9c883d02115400f7b...|     209|3365220| 0.8078058|\n",
      "|      2|9c883d02115400f7b...|     219|3509971| 0.8078058|\n",
      "|      2|9c883d02115400f7b...|     289|2336685| 0.8078058|\n",
      "|      2|9c883d02115400f7b...|     291|1595391| 0.8078058|\n",
      "|      2|9c883d02115400f7b...|     292|1734381|0.73697567|\n",
      "|      2|9c883d02115400f7b...|     336|2081051| 0.8078058|\n",
      "|      2|9c883d02115400f7b...|     365|3509965| 0.7369578|\n",
      "+-------+--------------------+--------+-------+----------+\n",
      "only showing top 20 rows\n",
      "\n"
     ]
    }
   ],
   "source": [
    "#Exercise 2.3\n",
    "#Displaying the papers recommended for all users.\n",
    "tempAllUserRecDF = top10UserRecommendations.select(\"user_id\",\\\n",
    "                                                   func.explode(top10UserRecommendations.recommendations)\\\n",
    "                                                   .alias(\"recommendation\"))\\\n",
    "                                            .join(mapIDToUserHashDF, \"user_id\", \"inner\")\n",
    "\n",
    "allUserRecDF = tempAllUserRecDF.select(\"user_id\",\"user\",\"recommendation.*\")\\\n",
    "                                .join(mapIDToPaperDF,\"paper_id\",\"inner\")\\\n",
    "                                .select(\"user_id\", \"user\", \"paper_id\", \"paper\", \"rating\")\\\n",
    "                                .orderBy(\"user_id\", \"paper_id\")\n",
    "allUserRecDF.show()"
   ]
  },
  {
   "cell_type": "code",
   "execution_count": 21,
   "metadata": {},
   "outputs": [
    {
     "name": "stdout",
     "output_type": "stream",
     "text": [
      "+-------+--------------------+\n",
      "|user_id|     recommendations|\n",
      "+-------+--------------------+\n",
      "|      6|[[160, 0.8939501]...|\n",
      "+-------+--------------------+\n",
      "\n"
     ]
    }
   ],
   "source": [
    "#Exercise 2.3\n",
    "#Getting the user_id of the specific user with user hash = 1eac022a97d683eace8815545ce3153f.\n",
    "specUserId = mapIDToUserHashDF.filter(mapIDToUserHashDF.user==\"1eac022a97d683eace8815545ce3153f\").select(\"user_id\")\n",
    "\n",
    "#Get the top 10 papers recommended for the user (user hash = 1eac022a97d683eace8815545ce3153f).\n",
    "rawSpecUserRecDF = model.recommendForUserSubset(specUserId, 10)\n",
    "rawSpecUserRecDF.show(10, truncate=True)\n"
   ]
  },
  {
   "cell_type": "code",
   "execution_count": 22,
   "metadata": {},
   "outputs": [
    {
     "name": "stdout",
     "output_type": "stream",
     "text": [
      "+-------+--------------------+--------+--------+---------+\n",
      "|user_id|                user|paper_id|   paper|   rating|\n",
      "+-------+--------------------+--------+--------+---------+\n",
      "|      6|1eac022a97d683eac...|      10| 1095192|0.8939501|\n",
      "|      6|1eac022a97d683eac...|      20|  854207|0.8939501|\n",
      "|      6|1eac022a97d683eac...|      30| 9730873|0.8939501|\n",
      "|      6|1eac022a97d683eac...|      40|  423382|0.8939501|\n",
      "|      6|1eac022a97d683eac...|      50| 2999253|0.8939501|\n",
      "|      6|1eac022a97d683eac...|      70| 3332739|0.8939501|\n",
      "|      6|1eac022a97d683eac...|     100|14120961|0.8939501|\n",
      "|      6|1eac022a97d683eac...|     110| 5127341|0.8939501|\n",
      "|      6|1eac022a97d683eac...|     160| 6452999|0.8939501|\n",
      "|      6|1eac022a97d683eac...|     200| 6819940|0.8939501|\n",
      "+-------+--------------------+--------+--------+---------+\n",
      "\n"
     ]
    }
   ],
   "source": [
    "#Exercise 2.3\n",
    "#Displaying the papers recommended for user with user hash value = 1eac022a97d683eace8815545ce3153f.\n",
    "tempSpecUserRecDF = rawSpecUserRecDF.join(mapIDToUserHashDF,\"user_id\",\"inner\")\\\n",
    "                                    .select(\"user_id\",\\\n",
    "                                            mapIDToUserHashDF.user,\\\n",
    "                                            func.explode(rawSpecUserRecDF.recommendations)\\\n",
    "                                            .alias(\"recommendation\"))\n",
    "\n",
    "specUserDF = tempSpecUserRecDF.select(\"user_id\",\"user\",\"recommendation.*\")\\\n",
    "                            .join(mapIDToPaperDF,\"paper_id\",\"inner\")\\\n",
    "                            .select(\"user_id\", \"user\", \"paper_id\", \"paper\", \"rating\")\\\n",
    "                            .orderBy(\"paper_id\")\n",
    "\n",
    "specUserDF.show()\n"
   ]
  },
  {
   "cell_type": "markdown",
   "metadata": {},
   "source": [
    "## Exercise 2.4 (Recommender System Evaluation)\n",
    "Using Spark to evaluate ALS-based recommender built in previous exercise.<br>\n",
    "a) Split the ratings randomly into training set and test set with 70% and 30% of the dataset.<br>\n",
    "b) Fit a model on the training set.<br>\n",
    "c) Calculate the Root Mean Squared Error (RMSE) over the test set.<br>\n",
    "d) Generate top 10 recommendations over the test set:<br>\n",
    "&emsp;&emsp;1) Apply the learned model over the test set.<br>\n",
    "&emsp;&emsp;2) For each user, order the papers by the predicted ratings descendingly.<br>\n",
    "&emsp;&emsp;3) Choose the top 10 papers to be the recommendations for that user.<br>"
   ]
  },
  {
   "cell_type": "code",
   "execution_count": 23,
   "metadata": {},
   "outputs": [
    {
     "name": "stdout",
     "output_type": "stream",
     "text": [
      "Root Mean Square Error of the test data =  0.7171394728798212\n"
     ]
    }
   ],
   "source": [
    "#Exercise 2.4\n",
    "#Randomly splitting the ratings matrix into training and test sets with 0.7 and 0.3 as weights.\n",
    "(trainingDF, testDF) = ratingMatrixDF.randomSplit([0.7, 0.3])\n",
    "\n",
    "#Building the recommendation model using ALS.\n",
    "alsEval = ALS(userCol=\"user_id\", itemCol=\"paper_id\", ratingCol=\"rating\", coldStartStrategy=\"drop\")\n",
    "#Fitting a model to the input dataset.\n",
    "modelEval = alsEval.fit(trainingDF)\n",
    "\n",
    "#Transforming the test dataset over the trained model.\n",
    "predictionsDF = modelEval.transform(testDF)\n",
    "#Evaluation of the model by calculating the RMSE on the test dataset.\n",
    "evaluator = RegressionEvaluator(metricName=\"rmse\", labelCol=\"rating\", predictionCol=\"prediction\")\n",
    "rmse = evaluator.evaluate(predictionsDF)\n",
    "print(\"Root Mean Square Error of the test data = \" ,str(rmse))"
   ]
  },
  {
   "cell_type": "code",
   "execution_count": 24,
   "metadata": {},
   "outputs": [
    {
     "name": "stdout",
     "output_type": "stream",
     "text": [
      "+-------+--------+------+------------+-------+\n",
      "|user_id|paper_id|rating|  prediction|ranking|\n",
      "+-------+--------+------+------------+-------+\n",
      "|      1|     124|     0|-0.061106466|      1|\n",
      "|      6|     101|     0|0.0015270896|      1|\n",
      "|      6|     218|     0|0.0015270896|      2|\n",
      "|      6|     266|     0|0.0015270896|      3|\n",
      "|      6|     267|     0|0.0015270896|      4|\n",
      "|      6|     245|     0|0.0015270896|      5|\n",
      "|      6|     237|     0|0.0015270896|      6|\n",
      "|      6|     426|     0|0.0015270896|      7|\n",
      "|      6|      99|     0|0.0015270896|      8|\n",
      "|      6|     166|     0|0.0013662707|      9|\n",
      "|      6|     368|     0|0.0012171976|     10|\n",
      "|      3|     143|     1|         0.0|      1|\n",
      "|      5|     126|     0|9.4429404E-4|      1|\n",
      "|      5|     404|     0|9.4429404E-4|      2|\n",
      "|      5|      95|     0| 8.567739E-4|      3|\n",
      "|      5|     414|     0| 8.567739E-4|      4|\n",
      "|      5|      53|     1|         0.0|      5|\n",
      "|      5|     255|     1|         0.0|      6|\n",
      "|      5|     246|     1|         0.0|      7|\n",
      "|      5|     325|     1|         0.0|      8|\n",
      "+-------+--------+------+------------+-------+\n",
      "only showing top 20 rows\n",
      "\n"
     ]
    }
   ],
   "source": [
    "#Exercise 2.4\n",
    "#For each user, order the papers by the predicted ratings descendingly.\n",
    "predictWindow = Window.partitionBy(\"user_id\").orderBy(func.desc(\"prediction\"))\n",
    "\n",
    "#Adding a rank to the papers according to their prediction value.\n",
    "rankedPredictionDF = predictionsDF.withColumn(\"ranking\", func.row_number().over(predictWindow))\n",
    "\n",
    "#Top 10 papers with highest prediction value for each user.\n",
    "top10rankedPredictionDF = rankedPredictionDF.filter(rankedPredictionDF.ranking<=10)\n",
    "top10rankedPredictionDF.show(20, truncate=True)"
   ]
  },
  {
   "cell_type": "code",
   "execution_count": 25,
   "metadata": {},
   "outputs": [
    {
     "name": "stdout",
     "output_type": "stream",
     "text": [
      "+-------+--------------------+--------+--------+-------------+-------+\n",
      "|user_id|                user|paper_id|   paper|   prediction|ranking|\n",
      "+-------+--------------------+--------+--------+-------------+-------+\n",
      "|      1|ca4f1ba4094011d9a...|     246| 7329626|          0.0|      1|\n",
      "|      2|9c883d02115400f7b...|     122| 8277825|  -0.00505933|      1|\n",
      "|      3|f2f77383828ea6d39...|     143|  763429|          0.0|      1|\n",
      "|      3|f2f77383828ea6d39...|     158| 3206364|-0.0024050996|      2|\n",
      "|      4|d0c9aaa788153daea...|     211|  854459| 8.5030403E-4|      1|\n",
      "|      4|d0c9aaa788153daea...|     384| 2500019| 8.5030403E-4|      2|\n",
      "|      4|d0c9aaa788153daea...|      51|12335203| 8.5030403E-4|      3|\n",
      "|      4|d0c9aaa788153daea...|      83| 5777260| 8.5030403E-4|      4|\n",
      "|      4|d0c9aaa788153daea...|     363| 8020025|  7.735491E-4|      5|\n",
      "|      4|d0c9aaa788153daea...|     321| 5336762|          0.0|      6|\n",
      "|      4|d0c9aaa788153daea...|      28| 3140015|          0.0|      7|\n",
      "|      4|d0c9aaa788153daea...|     190| 5687747|          0.0|      8|\n",
      "|      4|d0c9aaa788153daea...|      64| 2080631|          0.0|      9|\n",
      "|      4|d0c9aaa788153daea...|     165| 4781370|          0.0|     10|\n",
      "|      5|d1d41a15201915503...|      62|  472232| 0.0022064112|      1|\n",
      "|      5|d1d41a15201915503...|     392| 3910339| 9.4429404E-4|      2|\n",
      "|      5|d1d41a15201915503...|     108| 2971783| 9.4429404E-4|      3|\n",
      "|      5|d1d41a15201915503...|     397| 1370957| 9.4429404E-4|      4|\n",
      "|      5|d1d41a15201915503...|      53| 6609238|          0.0|      5|\n",
      "|      5|d1d41a15201915503...|     255| 6609240|          0.0|      6|\n",
      "+-------+--------------------+--------+--------+-------------+-------+\n",
      "only showing top 20 rows\n",
      "\n"
     ]
    }
   ],
   "source": [
    "#Exercise 2.4\n",
    "#retrieving the paper and user\n",
    "top10rankedPredictionDF.join(mapIDToUserHashDF,\"user_id\",\"inner\")\\\n",
    "                        .join(mapIDToPaperDF,\"paper_id\",\"inner\")\\\n",
    "                        .orderBy([\"user_id\", \"ranking\"], ascending=[1, 1])\\\n",
    "                        .select(\"user_id\", \"user\", \"paper_id\", \"paper\", \"prediction\", \"ranking\").show()"
   ]
  },
  {
   "cell_type": "markdown",
   "metadata": {},
   "source": [
    "## Exercise 2.5\n",
    "2 of ALS parameters are:<br>\n",
    "&emsp;&emsp;a) rank - is the number of latent factors in the model (defaults to 10)<br>\n",
    "&emsp;&emsp;b) maxIter - is the maximum number of iterations to run (defaults to 10)<br>"
   ]
  },
  {
   "cell_type": "code",
   "execution_count": 26,
   "metadata": {},
   "outputs": [],
   "source": [
    "#Exercise 2.5\n",
    "#Building the recommendation model using ALS.\n",
    "alsRank = ALS(userCol=\"user_id\", itemCol=\"paper_id\", ratingCol=\"rating\", coldStartStrategy=\"drop\")\n",
    "#Build ParamGridBuilder to construct a grid of parameters to search over.\n",
    "paramRank = ParamGridBuilder().addGrid(alsRank.rank, [10, 25, 50]).build()\n",
    "\n",
    "#Create an instance of CrossValidator.\n",
    "crossValidatorRank = CrossValidator(estimator=alsRank,\\\n",
    "                                    estimatorParamMaps=paramRank,\\\n",
    "                                    evaluator=evaluator,\\\n",
    "                                    numFolds=2)\n",
    "#Create a CrossValidator model and fit with the rating matrix.\n",
    "CVRankModel = crossValidatorRank.fit(ratingMatrixDF)\n"
   ]
  },
  {
   "cell_type": "code",
   "execution_count": 27,
   "metadata": {},
   "outputs": [
    {
     "data": {
      "text/plain": [
       "10"
      ]
     },
     "execution_count": 27,
     "metadata": {},
     "output_type": "execute_result"
    }
   ],
   "source": [
    "#Exercise 2.5\n",
    "#Optimal value for Rank that optimises RMSE\n",
    "CVRankModel.bestModel.rank"
   ]
  },
  {
   "cell_type": "code",
   "execution_count": 28,
   "metadata": {},
   "outputs": [
    {
     "data": {
      "text/plain": [
       "[0.6473353211745434, 0.6476330915907835, 0.6473521717288513]"
      ]
     },
     "execution_count": 28,
     "metadata": {},
     "output_type": "execute_result"
    }
   ],
   "source": [
    "#Exercise 2.5\n",
    "#RMSE value obtained with the optimal value for Rank\n",
    "CVRankModel.avgMetrics[1]"
   ]
  },
  {
   "cell_type": "code",
   "execution_count": 30,
   "metadata": {},
   "outputs": [],
   "source": [
    "#Building the recommendation model using ALS.\n",
    "alsMaxIter = ALS(userCol=\"user_id\", itemCol=\"paper_id\", ratingCol=\"rating\", coldStartStrategy=\"drop\")\n",
    "#Build ParamGridBuilder to construct a grid of parameters to search over.\n",
    "paramMaxIter = ParamGridBuilder().addGrid(alsRank.maxIter, [5, 10, 15, 20, 25]).build()\n",
    "\n",
    "#Create an instance of CrossValidator.\n",
    "crossValidatorMaxIter = CrossValidator(estimator=alsMaxIter,\\\n",
    "                                       estimatorParamMaps=paramMaxIter,\\\n",
    "                                       evaluator=evaluator,\\\n",
    "                                       numFolds=2)\n",
    "#Create a CrossValidator model and fit with the rating matrix.\n",
    "CVMaxIterModel = crossValidatorMaxIter.fit(ratingMatrixDF)"
   ]
  },
  {
   "cell_type": "code",
   "execution_count": 32,
   "metadata": {},
   "outputs": [
    {
     "data": {
      "text/plain": [
       "[0.6493863684688838,\n",
       " 0.6493863684688838,\n",
       " 0.6493863684688838,\n",
       " 0.6493863684688838,\n",
       " 0.6493863684688838]"
      ]
     },
     "execution_count": 32,
     "metadata": {},
     "output_type": "execute_result"
    }
   ],
   "source": [
    "#Plotting maxIter parameters values against the RMSE\n",
    "plt.plot([5, 10, 15, 20, 25],CVMaxIterModel.avgMetrics)\n",
    "plt.ylabel(\"Root Mean Square Error\")\n",
    "plt.xlabel(\"Max Iteration values\")\n",
    "plt.show()"
   ]
  },
  {
   "cell_type": "code",
   "execution_count": null,
   "metadata": {},
   "outputs": [],
   "source": []
  }
 ],
 "metadata": {
  "kernelspec": {
   "display_name": "Python 3",
   "language": "python",
   "name": "python3"
  },
  "language_info": {
   "codemirror_mode": {
    "name": "ipython",
    "version": 3
   },
   "file_extension": ".py",
   "mimetype": "text/x-python",
   "name": "python",
   "nbconvert_exporter": "python",
   "pygments_lexer": "ipython3",
   "version": "3.6.6"
  }
 },
 "nbformat": 4,
 "nbformat_minor": 2
}
