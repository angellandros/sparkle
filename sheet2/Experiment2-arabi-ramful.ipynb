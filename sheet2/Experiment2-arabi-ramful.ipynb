{
 "cells": [
  {
   "cell_type": "markdown",
   "metadata": {},
   "source": [
    "# Experiment 2\n",
    "Mohammad-Ali ARABI, Yashveere RAMFUL"
   ]
  },
  {
   "cell_type": "code",
   "execution_count": 69,
   "metadata": {},
   "outputs": [],
   "source": [
    "#Import packages.\n",
    "from pyspark.sql import SparkSession\n",
    "from pyspark.sql.types import *\n",
    "from pyspark.sql import functions as func\n",
    "import matplotlib.pyplot as plt\n",
    "from pyspark.sql.functions import udf\n",
    "from pyspark.sql import SQLContext\n",
    "from pyspark.sql import Column as col\n",
    "import random as ran\n",
    "#from itertools import repeat\n",
    "\n",
    "#Create a spark session.\n",
    "sparkSession = SparkSession.builder.appName(\"Experiment2\").getOrCreate()"
   ]
  },
  {
   "cell_type": "markdown",
   "metadata": {},
   "source": [
    "## Exercise 2.1 (Advanced analysis)\n"
   ]
  },
  {
   "cell_type": "code",
   "execution_count": 70,
   "metadata": {},
   "outputs": [
    {
     "name": "stdout",
     "output_type": "stream",
     "text": [
      "+--------------------+--------+\n",
      "|             user_id|paper_id|\n",
      "+--------------------+--------+\n",
      "|d0c9aaa788153daea...| 2080631|\n",
      "|d0c9aaa788153daea...| 6343346|\n",
      "|d0c9aaa788153daea...| 5184704|\n",
      "|d0c9aaa788153daea...| 7756088|\n",
      "|d0c9aaa788153daea...| 2653863|\n",
      "+--------------------+--------+\n",
      "only showing top 5 rows\n",
      "\n"
     ]
    }
   ],
   "source": [
    "#Exercise 2.1\n",
    "#loading data from users_libraries.txt into a dataframe.\n",
    "#Loading the data in and RDD and splitting the paper_id id values.\n",
    "userRatingsRDD = \\\n",
    "    sparkSession.sparkContext.textFile(\"/home/jovyan/work/mod_users_libraries2.txt\") \\\n",
    "            .map(lambda line: line.split(';')) \\\n",
    "            .flatMapValues(lambda value: value.split(','))\n",
    "\n",
    "#Creating the schema for the dataframe.\n",
    "schemaString = \"user_id paper_id\"\n",
    "fields = [StructField(field_name, StringType(), True) for field_name in schemaString.split()]\n",
    "schema = StructType(fields)\n",
    "#Creating the dataframe.\n",
    "userLibDF = sparkSession.createDataFrame(userRatingsRDD, schema)\n",
    "userLibDF.show(5, truncate=True)"
   ]
  },
  {
   "cell_type": "markdown",
   "metadata": {},
   "source": [
    "## Exercise 2.1 (Advanced analysis)\n",
    "\n",
    "a) Examining how many missing ratings are in the citeulike dataset by calculating the sparsity of the ratings matrix."
   ]
  },
  {
   "cell_type": "code",
   "execution_count": 71,
   "metadata": {},
   "outputs": [
    {
     "name": "stdout",
     "output_type": "stream",
     "text": [
      "Sparsity of ratings matrix =  80.0\n"
     ]
    }
   ],
   "source": [
    "#Exercise 2.1 a)\n",
    "#Number of distinct users.\n",
    "numUniqUser = userLibDF.select(\"user_id\").distinct().count()\n",
    "numUniqItem = userLibDF.select(\"paper_id\").distinct().count()\n",
    "numRatings = userLibDF.select(\"paper_id\").count()\n",
    "\n",
    "#Calculating the sparsity of the ratings matrix.\n",
    "sparsity = (((numUniqUser * numUniqItem) - numRatings)/(numUniqUser * numUniqItem)) * 100\n",
    "print(\"Sparsity of ratings matrix = \", sparsity)"
   ]
  },
  {
   "cell_type": "markdown",
   "metadata": {},
   "source": [
    "## Exercise 2.1 (Advanced analysis)\n",
    "\n",
    "b) Examining the number of ratings given by the users by calculating and plotting (number of users, number of ratings) the rank-frequency distribution."
   ]
  },
  {
   "cell_type": "code",
   "execution_count": 72,
   "metadata": {},
   "outputs": [
    {
     "name": "stdout",
     "output_type": "stream",
     "text": [
      "+--------------------+------------+\n",
      "|num_ratings_per_user|num_of_users|\n",
      "+--------------------+------------+\n",
      "|                   9|           1|\n",
      "|                   1|           1|\n",
      "|                   3|           1|\n",
      "|                  42|           1|\n",
      "|                  45|           1|\n",
      "+--------------------+------------+\n",
      "\n"
     ]
    }
   ],
   "source": [
    "#Exercise 2.1 b)\n",
    "userRatingInfoDF = userLibDF.select(\"user_id\")\\\n",
    "                            .groupBy(\"user_id\")\\\n",
    "                            .agg(func.count(\"user_id\").alias(\"num_ratings_per_user\"))\\\n",
    "                            .groupBy(\"num_ratings_per_user\")\\\n",
    "                            .agg(func.count(\"num_ratings_per_user\").alias(\"num_of_users\"))\n",
    "\n",
    "userRatingInfoRDD = userRatingInfoDF.rdd.map(lambda row: (row.num_ratings_per_user, row.num_of_users))\n",
    "totRatingsPerUserArray = userRatingInfoRDD.map(lambda row: row[0]).collect()\n",
    "numOfUsersArray = userRatingInfoRDD.map(lambda row: row[1]).collect()\n",
    "\n",
    "userRatingInfoDF.show(10, truncate=True)"
   ]
  },
  {
   "cell_type": "code",
   "execution_count": 73,
   "metadata": {},
   "outputs": [
    {
     "data": {
      "image/png": "[encoded data removed]",
      "text/plain": [
       "<Figure size 432x288 with 1 Axes>"
      ]
     },
     "metadata": {
      "needs_background": "light"
     },
     "output_type": "display_data"
    }
   ],
   "source": [
    "#Exercise 2.1 b)\n",
    "plt.bar(totRatingsPerUserArray, numOfUsersArray,width=0.5, align='edge')\n",
    "plt.xlabel(\"Number of ratings\")\n",
    "plt.ylabel(\"Number of users\")\n",
    "plt.title(\"User Rating Frequency Distribution\")\n",
    "plt.show()"
   ]
  },
  {
   "cell_type": "markdown",
   "metadata": {},
   "source": [
    "## Exercise 2.1 (Advanced analysis)\n",
    "\n",
    "c) Examining the papers popularity by looking at the number or ratings each paper gets. Calculating and plotting the (number of items, number of ratings) rank-frequency distribution."
   ]
  },
  {
   "cell_type": "code",
   "execution_count": 74,
   "metadata": {},
   "outputs": [
    {
     "name": "stdout",
     "output_type": "stream",
     "text": [
      "+---------------------+-------------+\n",
      "|num_ratings_per_paper|num_of_papers|\n",
      "+---------------------+-------------+\n",
      "|                    1|          100|\n",
      "+---------------------+-------------+\n",
      "\n"
     ]
    }
   ],
   "source": [
    "#Exercise 2.1 c)\n",
    "paperRatingInfoDF = userLibDF.select(\"paper_id\")\\\n",
    "                                .groupBy(\"paper_id\")\\\n",
    "                                .agg(func.count(\"paper_id\").alias(\"num_ratings_per_paper\"))\\\n",
    "                                .groupBy(\"num_ratings_per_paper\")\\\n",
    "                                .agg(func.count(\"num_ratings_per_paper\").alias(\"num_of_papers\"))\n",
    "\n",
    "paperRatingInfoRDD = paperRatingInfoDF.rdd.map(lambda row: (row.num_ratings_per_paper, row.num_of_papers))\n",
    "totRatingsPerPaperArray = paperRatingInfoRDD.map(lambda row: row[0]).collect()\n",
    "numOfPapersArray = paperRatingInfoRDD.map(lambda row: row[1]).collect()\n",
    "\n",
    "paperRatingInfoDF.show(10, truncate=True)"
   ]
  },
  {
   "cell_type": "code",
   "execution_count": 75,
   "metadata": {},
   "outputs": [
    {
     "data": {
      "image/png": "[encoded data removed]",
      "text/plain": [
       "<Figure size 432x288 with 1 Axes>"
      ]
     },
     "metadata": {
      "needs_background": "light"
     },
     "output_type": "display_data"
    }
   ],
   "source": [
    "#Exercise 2.1 c)\n",
    "plt.bar(totRatingsPerPaperArray, numOfPapersArray, width=0.5, align='edge')\n",
    "plt.xlabel(\"Number of ratings\")\n",
    "plt.ylabel(\"Number of papers\")\n",
    "plt.title(\"Paper Rating Frequency Distribution\")\n",
    "plt.show()"
   ]
  },
  {
   "cell_type": "markdown",
   "metadata": {},
   "source": [
    "## Exercise 2.2 (Rating matrix preparation)\n",
    "\n",
    "Building the ratings matrix as a Dataframe with the following columns:<br>\n",
    "1) user_id: a unique positive integer ID for each user.<br>\n",
    "2) paper_id: a unique positive integer ID for each item.<br>\n",
    "3) rating: a number (0 or 1) that represents the ratings given by the user to the item.<br>"
   ]
  },
  {
   "cell_type": "code",
   "execution_count": 76,
   "metadata": {},
   "outputs": [
    {
     "name": "stdout",
     "output_type": "stream",
     "text": [
      "+--------------------+------------+\n",
      "|             user_id| gen_user_id|\n",
      "+--------------------+------------+\n",
      "|ca4f1ba4094011d9a...|128849018880|\n",
      "|9c883d02115400f7b...|455266533376|\n",
      "|f2f77383828ea6d39...|575525617664|\n",
      "|d0c9aaa788153daea...|670014898176|\n",
      "|d1d41a15201915503...|919123001344|\n",
      "+--------------------+------------+\n",
      "\n"
     ]
    }
   ],
   "source": [
    "#Exercise 2.2\n",
    "#Generating an integer ID for the user hash ID.\n",
    "mapIDToUserHashDF = userLibDF.select(\"user_id\")\\\n",
    "                                .distinct()\\\n",
    "                                .select(\"user_id\", func.monotonically_increasing_id().alias(\"gen_user_id\"))\n",
    "\n",
    "mapIDToUserHashDF.show(10, truncate=True)"
   ]
  },
  {
   "cell_type": "code",
   "execution_count": 77,
   "metadata": {},
   "outputs": [
    {
     "name": "stdout",
     "output_type": "stream",
     "text": [
      "+------------+--------+\n",
      "| gen_user_id|paper_id|\n",
      "+------------+--------+\n",
      "|128849018880|  278019|\n",
      "|455266533376| 3509971|\n",
      "|455266533376| 3509965|\n",
      "|455266533376| 2336685|\n",
      "|455266533376| 2081051|\n",
      "|455266533376| 3365220|\n",
      "|455266533376| 1595391|\n",
      "|455266533376| 4174633|\n",
      "|455266533376| 1734381|\n",
      "|455266533376| 3878624|\n",
      "+------------+--------+\n",
      "only showing top 10 rows\n",
      "\n"
     ]
    }
   ],
   "source": [
    "#Exercise 2.2\n",
    "#Mapping the the generated user ID to its respective paper ID.\n",
    "mapGenUseIDtoPaperIDDF = mapIDToUserHashDF.join(userLibDF, mapIDToUserHashDF.user_id == userLibDF.user_id, \"inner\")\\\n",
    "                                            .select(\"gen_user_id\", \"paper_id\")\n",
    "mapGenUseIDtoPaperIDDF.show(10, truncate=True)"
   ]
  },
  {
   "cell_type": "code",
   "execution_count": 78,
   "metadata": {},
   "outputs": [
    {
     "data": {
      "text/plain": [
       "['7364971',\n",
       " '7756088',\n",
       " '7469737',\n",
       " '7364823',\n",
       " '3140015',\n",
       " '7363519',\n",
       " '2363430',\n",
       " '3878624',\n",
       " '3512183',\n",
       " '6609238']"
      ]
     },
     "execution_count": 78,
     "metadata": {},
     "output_type": "execute_result"
    }
   ],
   "source": [
    "#Exercise 2.2\n",
    "#Get a list of the unique paper IDs used by the users.\n",
    "#Create a broadcast variable to hold the list of unique paper IDs.\n",
    "uniqPaperIDList = userLibDF.select(userLibDF.paper_id).distinct().rdd.map(lambda x: x[0]).collect()\n",
    "paperIDbrdcast = sparkSession.sparkContext.broadcast(uniqPaperIDList)\n",
    "paperIDbrdcast.value[0:10]"
   ]
  },
  {
   "cell_type": "code",
   "execution_count": 80,
   "metadata": {},
   "outputs": [
    {
     "name": "stdout",
     "output_type": "stream",
     "text": [
      "+------------+--------------------+\n",
      "| gen_user_id|       paper_id_list|\n",
      "+------------+--------------------+\n",
      "|128849018880|            [278019]|\n",
      "|919123001344|[6610569, 6493797...|\n",
      "|670014898176|[2080631, 6343346...|\n",
      "|455266533376|[3509971, 3509965...|\n",
      "|575525617664|[943458, 238121, ...|\n",
      "+------------+--------------------+\n",
      "\n"
     ]
    }
   ],
   "source": [
    "#Exercise 2.2\n",
    "#Creating a dataframe that has a list of all the paper IDs rated by each user.\n",
    "paperListPerUserDF = mapGenUseIDtoPaperIDDF.groupBy(\"gen_user_id\")\\\n",
    "                                         .agg(func.collect_list(\"paper_id\").alias(\"paper_id_list\"))\n",
    "\n",
    "paperListPerUserDF.show(10, truncate=True)"
   ]
  },
  {
   "cell_type": "code",
   "execution_count": 82,
   "metadata": {},
   "outputs": [],
   "source": [
    "#Exercise 2.2\n",
    "#Function getList returns a list of unrated paper IDS for a specific user.\n",
    "#The number of paper IDs in the output list is determined by the number of papers that the user has rated.\n",
    "def getList(ratedPaperList):\n",
    "    \n",
    "    #randomly shuffle the list of broadcast values\n",
    "    ran.shuffle(paperIDbrdcast.value)\n",
    "    ratedPaperSet = set(ratedPaperList)\n",
    "    #generating a list of unrated paper list\n",
    "    unratedPaperList = [paperID for paperID in paperIDbrdcast.value if paperID not in ratedPaperSet]\n",
    "    unratedListLength = len(unratedPaperList)\n",
    "    ratedListLength = len(ratedPaperList)\n",
    "    \n",
    "    if unratedListLength < ratedListLength:\n",
    "        return unratedPaperList[0:unratedListLength]\n",
    "    else:\n",
    "        return unratedPaperList[0:ratedListLength]\n",
    "    \n",
    "#Creating a user defined function\n",
    "udf_getList = udf(getList, ArrayType(StringType()))"
   ]
  },
  {
   "cell_type": "code",
   "execution_count": 83,
   "metadata": {},
   "outputs": [
    {
     "name": "stdout",
     "output_type": "stream",
     "text": [
      "+------------+--------------------+---------------------+\n",
      "| gen_user_id|       paper_id_list|unrated_paper_id_list|\n",
      "+------------+--------------------+---------------------+\n",
      "|128849018880|            [278019]|            [4236212]|\n",
      "|919123001344|[6610569, 6493797...| [3509971, 2445106...|\n",
      "|670014898176|[2080631, 6343346...| [6609169, 6610569...|\n",
      "|455266533376|[3509971, 3509965...| [6609245, 3105791...|\n",
      "|575525617664|[943458, 238121, ...| [4236212, 7364973...|\n",
      "+------------+--------------------+---------------------+\n",
      "\n"
     ]
    }
   ],
   "source": [
    "#Exercise 2.2\n",
    "#Creating a dataframe containing both list of rated and unrated papers.\n",
    "ratedAndUnratedDF = joinPaperListPerUser.select(joinPaperListPerUser.gen_user_id,\\\n",
    "                                                joinPaperListPerUser.paper_id_list,\\\n",
    "                                                func.lit(udf_getList(joinPaperListPerUser.paper_id_list,\\\n",
    "                                                                    )).alias(\"unrated_paper_id_list\"))\n",
    "\n",
    "ratedAndUnratedDF.show(10, truncate=True)"
   ]
  },
  {
   "cell_type": "code",
   "execution_count": 84,
   "metadata": {},
   "outputs": [
    {
     "name": "stdout",
     "output_type": "stream",
     "text": [
      "+------------+--------+------+\n",
      "| gen_user_id|paper_id|rating|\n",
      "+------------+--------+------+\n",
      "|128849018880|  278019|     1|\n",
      "|455266533376| 3509971|     1|\n",
      "|455266533376| 3509965|     1|\n",
      "|455266533376| 2336685|     1|\n",
      "|455266533376| 2081051|     1|\n",
      "|455266533376| 3365220|     1|\n",
      "|455266533376| 1595391|     1|\n",
      "|455266533376| 4174633|     1|\n",
      "|455266533376| 1734381|     1|\n",
      "|455266533376| 3878624|     1|\n",
      "+------------+--------+------+\n",
      "only showing top 10 rows\n",
      "\n"
     ]
    }
   ],
   "source": [
    "#Exercise 2.2\n",
    "#Adding a rating value of \"1\" to the rated papers.\n",
    "explodedRatedPaperDF = mapGenUseIDtoPaperIDDF.withColumn(\"rating\", func.lit(1))\n",
    "explodedRatedPaperDF.show(10, truncate=True)"
   ]
  },
  {
   "cell_type": "code",
   "execution_count": 85,
   "metadata": {},
   "outputs": [
    {
     "name": "stdout",
     "output_type": "stream",
     "text": [
      "+------------+--------+------+\n",
      "| gen_user_id|paper_id|rating|\n",
      "+------------+--------+------+\n",
      "|128849018880| 1959511|     0|\n",
      "|919123001344|  943458|     0|\n",
      "|919123001344| 3509965|     0|\n",
      "|919123001344| 2081051|     0|\n",
      "|919123001344|  226864|     0|\n",
      "|919123001344|  763429|     0|\n",
      "|919123001344| 5441098|     0|\n",
      "|919123001344| 3140015|     0|\n",
      "|919123001344| 7756088|     0|\n",
      "|919123001344| 1012525|     0|\n",
      "+------------+--------+------+\n",
      "only showing top 10 rows\n",
      "\n"
     ]
    }
   ],
   "source": [
    "#Exercise 2.2\n",
    "#Exploding the dataframe to get a row for each paper id in the unrated_paper_id_list.\n",
    "#Adding a rating value of \"0\" to the unrated papers\n",
    "explodedUnratedPaperDF = ratedAndUnratedDF.select(\"gen_user_id\",\\\n",
    "                                        \"unrated_paper_id_list\")\\\n",
    "                                    .withColumn(\"paper_id\",\\\n",
    "                                               func.explode(ratedAndUnratedDF.unrated_paper_id_list))\\\n",
    "                                    .drop(\"unrated_paper_id_list\")\\\n",
    "                                    .withColumn(\"rating\", func.lit(0))\n",
    "explodedUnratedPaperDF.show(10, truncate=True)"
   ]
  },
  {
   "cell_type": "code",
   "execution_count": 87,
   "metadata": {},
   "outputs": [
    {
     "name": "stdout",
     "output_type": "stream",
     "text": [
      "+------------+--------+------+\n",
      "|     user_id|paper_id|rating|\n",
      "+------------+--------+------+\n",
      "|128849018880|  278019|     1|\n",
      "|128849018880| 4236212|     0|\n",
      "|455266533376| 1595391|     1|\n",
      "|455266533376| 1734381|     1|\n",
      "|455266533376| 2081051|     1|\n",
      "|455266533376| 2336685|     1|\n",
      "|455266533376| 3105791|     0|\n",
      "|455266533376|  311570|     0|\n",
      "|455266533376| 3365220|     1|\n",
      "|455266533376| 3509965|     1|\n",
      "|455266533376| 3509971|     1|\n",
      "|455266533376| 3512183|     0|\n",
      "|455266533376| 3878624|     1|\n",
      "|455266533376| 4174633|     1|\n",
      "|455266533376| 5336762|     0|\n",
      "|455266533376| 6609222|     0|\n",
      "|455266533376| 6609245|     0|\n",
      "|455266533376| 7363487|     0|\n",
      "|455266533376| 7363498|     0|\n",
      "|455266533376| 7570111|     0|\n",
      "+------------+--------+------+\n",
      "only showing top 20 rows\n",
      "\n"
     ]
    }
   ],
   "source": [
    "#Exercise 2.2\n",
    "#Creating the rating matrix by the union of rated papers and unrated papers dataframes.\n",
    "ratingMatrixDF = explodedRatedPaperDF.union(explodedUnratedPaperDF).withColumnRenamed(\"gen_user_id\", \"user_id\")\n",
    "ratingMatrixDF.orderBy(\"user_id\", \"paper_id\").show(20, truncate=True)"
   ]
  },
  {
   "cell_type": "code",
   "execution_count": null,
   "metadata": {},
   "outputs": [],
   "source": []
  }
 ],
 "metadata": {
  "kernelspec": {
   "display_name": "Python 3",
   "language": "python",
   "name": "python3"
  },
  "language_info": {
   "codemirror_mode": {
    "name": "ipython",
    "version": 3
   },
   "file_extension": ".py",
   "mimetype": "text/x-python",
   "name": "python",
   "nbconvert_exporter": "python",
   "pygments_lexer": "ipython3",
   "version": "3.6.6"
  }
 },
 "nbformat": 4,
 "nbformat_minor": 2
}
