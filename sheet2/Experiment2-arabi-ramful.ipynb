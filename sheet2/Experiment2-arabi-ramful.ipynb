{
 "cells": [
  {
   "cell_type": "markdown",
   "metadata": {},
   "source": [
    "# Experiment 2\n",
    "Mohammad-Ali ARABI, Yashveere RAMFUL"
   ]
  },
  {
   "cell_type": "code",
   "execution_count": 2,
   "metadata": {},
   "outputs": [],
   "source": [
    "#Import packages.\n",
    "from pyspark.sql import SparkSession\n",
    "from pyspark.sql.types import *\n",
    "from pyspark.sql import functions as func\n",
    "import matplotlib.pyplot as plt\n",
    "from pyspark.sql.functions import udf\n",
    "from pyspark.sql import SQLContext\n",
    "from pyspark.sql import Column as col\n",
    "import random as ran\n",
    "from pyspark.sql.window import Window\n",
    "from pyspark.ml.recommendation import ALS\n",
    "from pyspark.ml.evaluation import RegressionEvaluator\n",
    "from pyspark.ml.tuning import CrossValidator, ParamGridBuilder\n",
    "\n",
    "#Create a spark session.\n",
    "sparkSession = SparkSession.builder.appName(\"Experiment2\").getOrCreate()"
   ]
  },
  {
   "cell_type": "markdown",
   "metadata": {},
   "source": [
    "## Exercise 2.1 (Advanced analysis)\n"
   ]
  },
  {
   "cell_type": "code",
   "execution_count": 3,
   "metadata": {},
   "outputs": [
    {
     "name": "stdout",
     "output_type": "stream",
     "text": [
      "+--------------------+-------+\n",
      "|                user|  paper|\n",
      "+--------------------+-------+\n",
      "|28d3f81251d94b097...|3929762|\n",
      "|28d3f81251d94b097...| 503574|\n",
      "|28d3f81251d94b097...|5819422|\n",
      "|28d3f81251d94b097...|4238883|\n",
      "|28d3f81251d94b097...|5788061|\n",
      "+--------------------+-------+\n",
      "only showing top 5 rows\n",
      "\n"
     ]
    }
   ],
   "source": [
    "#Exercise 2.1\n",
    "#loading data from users_libraries.txt into a dataframe.\n",
    "#Loading the data in and RDD and splitting the paper_id id values.\n",
    "userRatingsRDD = \\\n",
    "    sparkSession.sparkContext.textFile(\"/home/jovyan/work/users_libraries.txt\") \\\n",
    "            .map(lambda line: line.split(';')) \\\n",
    "            .flatMapValues(lambda value: value.split(','))\n",
    "\n",
    "#Creating the schema for the dataframe.\n",
    "schemaString = \"user paper\"\n",
    "fields = [StructField(field_name, StringType(), True) for field_name in schemaString.split()]\n",
    "schema = StructType(fields)\n",
    "#Creating the dataframe.\n",
    "userLibDF = sparkSession.createDataFrame(userRatingsRDD, schema)\n",
    "userLibDF.show(5, truncate=True)"
   ]
  },
  {
   "cell_type": "markdown",
   "metadata": {},
   "source": [
    "## Exercise 2.1 (Advanced analysis)\n",
    "\n",
    "a) Examining how many missing ratings are in the citeulike dataset by calculating the sparsity of the ratings matrix."
   ]
  },
  {
   "cell_type": "code",
   "execution_count": 4,
   "metadata": {},
   "outputs": [
    {
     "name": "stdout",
     "output_type": "stream",
     "text": [
      "Sparsity of ratings matrix =  99.98305694442851\n"
     ]
    }
   ],
   "source": [
    "#Exercise 2.1 a)\n",
    "#Number of distinct users.\n",
    "numUniqUser = userLibDF.select(\"user\").distinct().count()\n",
    "numUniqItem = userLibDF.select(\"paper\").distinct().count()\n",
    "numRatings = userLibDF.select(\"paper\").count()\n",
    "\n",
    "#Calculating the sparsity of the ratings matrix.\n",
    "#Sparsity = number of unknown ratings/ dimension of matrix\n",
    "sparsity = (((numUniqUser * numUniqItem) - numRatings)/(numUniqUser * numUniqItem)) * 100\n",
    "print(\"Sparsity of ratings matrix = \", sparsity)"
   ]
  },
  {
   "cell_type": "markdown",
   "metadata": {},
   "source": [
    "## Exercise 2.1 (Advanced analysis)\n",
    "\n",
    "b) Examining the number of ratings given by the users by calculating and plotting (number of users, number of ratings) the rank-frequency distribution."
   ]
  },
  {
   "cell_type": "code",
   "execution_count": 5,
   "metadata": {},
   "outputs": [
    {
     "name": "stdout",
     "output_type": "stream",
     "text": [
      "+--------------------+------------+\n",
      "|num_ratings_per_user|num_of_users|\n",
      "+--------------------+------------+\n",
      "|                  26|         192|\n",
      "|                  29|         168|\n",
      "|                 474|           4|\n",
      "|                 191|           8|\n",
      "|                  65|          43|\n",
      "|                 418|           1|\n",
      "|                 558|           1|\n",
      "|                 293|           3|\n",
      "|                 222|           6|\n",
      "|                 938|           1|\n",
      "+--------------------+------------+\n",
      "only showing top 10 rows\n",
      "\n"
     ]
    }
   ],
   "source": [
    "#Exercise 2.1 b)\n",
    "userRatingInfoDF = userLibDF.select(\"user\")\\\n",
    "                            .groupBy(\"user\")\\\n",
    "                            .agg(func.count(\"user\").alias(\"num_ratings_per_user\"))\\\n",
    "                            .groupBy(\"num_ratings_per_user\")\\\n",
    "                            .agg(func.count(\"num_ratings_per_user\").alias(\"num_of_users\"))\n",
    "\n",
    "userRatingInfoRDD = userRatingInfoDF.rdd.map(lambda row: (row.num_ratings_per_user, row.num_of_users))\n",
    "totRatingsPerUserArray = userRatingInfoRDD.map(lambda row: row[0]).collect()\n",
    "numOfUsersArray = userRatingInfoRDD.map(lambda row: row[1]).collect()\n",
    "\n",
    "userRatingInfoDF.show(10, truncate=True)"
   ]
  },
  {
   "cell_type": "code",
   "execution_count": 10,
   "metadata": {},
   "outputs": [
    {
     "data": {
      "image/png": "[encoded data removed]",
      "text/plain": [
       "<Figure size 1080x360 with 1 Axes>"
      ]
     },
     "metadata": {
      "needs_background": "light"
     },
     "output_type": "display_data"
    }
   ],
   "source": [
    "#Exercise 2.1 b)\n",
    "plt.figure(figsize=(15,5))\n",
    "plt.bar(totRatingsPerUserArray, numOfUsersArray, width=0.5, align='edge')\n",
    "# plt.axis([-5, 500, 0, 3600])\n",
    "plt.yscale(\"log\")\n",
    "plt.xlabel(\"Number of ratings\")\n",
    "plt.ylabel(\"Number of users\")\n",
    "plt.title(\"User Rating Frequency Distribution\")\n",
    "plt.show()"
   ]
  },
  {
   "cell_type": "markdown",
   "metadata": {},
   "source": [
    "## Exercise 2.1 (Advanced analysis)\n",
    "\n",
    "c) Examining the papers popularity by looking at the number or ratings each paper gets. Calculating and plotting the (number of items, number of ratings) rank-frequency distribution."
   ]
  },
  {
   "cell_type": "code",
   "execution_count": 11,
   "metadata": {},
   "outputs": [
    {
     "name": "stdout",
     "output_type": "stream",
     "text": [
      "+---------------------+-------------+\n",
      "|num_ratings_per_paper|num_of_papers|\n",
      "+---------------------+-------------+\n",
      "|                   26|          100|\n",
      "|                   29|           61|\n",
      "|                   65|            5|\n",
      "|                   19|          274|\n",
      "|                   54|            9|\n",
      "|                  112|            1|\n",
      "|                  113|            1|\n",
      "|                   22|          170|\n",
      "|                    7|         6092|\n",
      "|                   77|            5|\n",
      "+---------------------+-------------+\n",
      "only showing top 10 rows\n",
      "\n"
     ]
    }
   ],
   "source": [
    "#Exercise 2.1 c)\n",
    "paperRatingInfoDF = userLibDF.select(\"paper\")\\\n",
    "                                .groupBy(\"paper\")\\\n",
    "                                .agg(func.count(\"paper\").alias(\"num_ratings_per_paper\"))\\\n",
    "                                .groupBy(\"num_ratings_per_paper\")\\\n",
    "                                .agg(func.count(\"num_ratings_per_paper\").alias(\"num_of_papers\"))\n",
    "\n",
    "paperRatingInfoRDD = paperRatingInfoDF.rdd.map(lambda row: (row.num_ratings_per_paper, row.num_of_papers))\n",
    "totRatingsPerPaperArray = paperRatingInfoRDD.map(lambda row: row[0]).collect()\n",
    "numOfPapersArray = paperRatingInfoRDD.map(lambda row: row[1]).collect()\n",
    "\n",
    "paperRatingInfoDF.show(10, truncate=True)"
   ]
  },
  {
   "cell_type": "code",
   "execution_count": 12,
   "metadata": {},
   "outputs": [
    {
     "data": {
      "image/png": "[encoded data removed]",
      "text/plain": [
       "<Figure size 1080x360 with 1 Axes>"
      ]
     },
     "metadata": {
      "needs_background": "light"
     },
     "output_type": "display_data"
    }
   ],
   "source": [
    "#Exercise 2.1 c)\n",
    "plt.figure(figsize=(15,5))\n",
    "plt.bar(totRatingsPerPaperArray, numOfPapersArray, width=0.5, align='edge')\n",
    "# plt.axis([-5, 100, 0, 40000])\n",
    "plt.yscale(\"log\")\n",
    "plt.xlabel(\"Number of ratings\")\n",
    "plt.ylabel(\"Number of papers\")\n",
    "plt.title(\"Paper Rating Frequency Distribution\")\n",
    "plt.show()"
   ]
  },
  {
   "cell_type": "markdown",
   "metadata": {},
   "source": [
    "From the (number of items, number of ratings) rank frequency distribution, we observe that it forms a power law with a long tail distribution."
   ]
  },
  {
   "cell_type": "markdown",
   "metadata": {},
   "source": [
    "## Exercise 2.2 (Rating matrix preparation)\n",
    "\n",
    "Building the ratings matrix as a Dataframe with the following columns:<br>\n",
    "1) user_id: a unique positive integer ID for each user.<br>\n",
    "2) paper_id: a unique positive integer ID for each item.<br>\n",
    "3) rating: a number (0 or 1) that represents the ratings given by the user to the item.<br>"
   ]
  },
  {
   "cell_type": "code",
   "execution_count": 13,
   "metadata": {},
   "outputs": [
    {
     "name": "stdout",
     "output_type": "stream",
     "text": [
      "+--------------------+-------+\n",
      "|                user|user_id|\n",
      "+--------------------+-------+\n",
      "|f1e1cd4ff25018273...|      1|\n",
      "|188b2723f7349804c...|      2|\n",
      "|fc0d51c63591e5b0b...|      3|\n",
      "|236ef17c11f7f43ac...|      4|\n",
      "|9b87c5cc8095466b4...|      5|\n",
      "|5e117499b0c8001c9...|      6|\n",
      "|5b0c4c6f84f09ea85...|      7|\n",
      "|c1f57a368451d12e2...|      8|\n",
      "|4ae30712c901a64fd...|      9|\n",
      "|0d875b8672933b9a5...|     10|\n",
      "+--------------------+-------+\n",
      "only showing top 10 rows\n",
      "\n"
     ]
    }
   ],
   "source": [
    "#Exercise 2.2\n",
    "#Generate a unique integer ID for the user hash values.\n",
    "mapIDToUserHashDF = userLibDF.select(\"user\")\\\n",
    "                                .distinct()\\\n",
    "                                .withColumn(\"user_id\", func.monotonically_increasing_id())\n",
    "\n",
    "userWinSpec = Window.orderBy(\"user_id\")\n",
    "\n",
    "mapIDToUserHashDF = mapIDToUserHashDF.withColumn(\"user_id\",\\\n",
    "                                                 func.row_number().over(userWinSpec))\n",
    "mapIDToUserHashDF.show(10, truncate=True)"
   ]
  },
  {
   "cell_type": "code",
   "execution_count": 14,
   "metadata": {},
   "outputs": [
    {
     "name": "stdout",
     "output_type": "stream",
     "text": [
      "+-------+--------+\n",
      "|  paper|paper_id|\n",
      "+-------+--------+\n",
      "|2706950|       1|\n",
      "|1843282|       2|\n",
      "|7065512|       3|\n",
      "|5910752|       4|\n",
      "|3042094|       5|\n",
      "|1794035|       6|\n",
      "|7319950|       7|\n",
      "| 439051|       8|\n",
      "|6577990|       9|\n",
      "|2032033|      10|\n",
      "+-------+--------+\n",
      "only showing top 10 rows\n",
      "\n"
     ]
    }
   ],
   "source": [
    "#Exercise 2.2\n",
    "#Generate a unique integer ID for the papers.\n",
    "mapIDToPaperDF = userLibDF.select(\"paper\")\\\n",
    "                            .distinct()\\\n",
    "                            .withColumn(\"paper_id\", func.monotonically_increasing_id())\n",
    "\n",
    "paperWinSpec = Window.orderBy(\"paper_id\")\n",
    "\n",
    "mapIDToPaperDF = mapIDToPaperDF.withColumn(\"paper_id\",\\\n",
    "                                           func.row_number().over(paperWinSpec))\n",
    "mapIDToPaperDF.show(10, truncate=True)"
   ]
  },
  {
   "cell_type": "code",
   "execution_count": 15,
   "metadata": {},
   "outputs": [
    {
     "name": "stdout",
     "output_type": "stream",
     "text": [
      "+-------+--------+\n",
      "|user_id|paper_id|\n",
      "+-------+--------+\n",
      "|    716|     120|\n",
      "|   1332|     120|\n",
      "|   1569|     120|\n",
      "|   4347|     120|\n",
      "|   4675|     120|\n",
      "|   6651|     120|\n",
      "|   7640|     120|\n",
      "|   8707|     120|\n",
      "|   8923|     120|\n",
      "|  10635|     120|\n",
      "|  11191|     120|\n",
      "|  11970|     120|\n",
      "|  13205|     120|\n",
      "|  14295|     120|\n",
      "|  15259|     120|\n",
      "|  15379|     120|\n",
      "|  15602|     120|\n",
      "|  16239|     120|\n",
      "|  16750|     120|\n",
      "|  16949|     120|\n",
      "+-------+--------+\n",
      "only showing top 20 rows\n",
      "\n"
     ]
    }
   ],
   "source": [
    "#Exercise 2.2\n",
    "#Mapping the the generated user ID to its respective paper ID.\n",
    "mapUseIDtoPaperIDDF = mapIDToUserHashDF.join(userLibDF, \"user\", \"inner\")\\\n",
    "                                            .join(mapIDToPaperDF, \"paper\", \"inner\")\\\n",
    "                                            .select(\"user_id\", \"paper_id\")\n",
    "mapUseIDtoPaperIDDF.show(20, truncate=True)"
   ]
  },
  {
   "cell_type": "code",
   "execution_count": 16,
   "metadata": {},
   "outputs": [
    {
     "name": "stdout",
     "output_type": "stream",
     "text": [
      "+-------+--------------------+\n",
      "|user_id|       paper_id_list|\n",
      "+-------+--------------------+\n",
      "|    148|[70152, 79681, 11...|\n",
      "|    463|     [163644, 28556]|\n",
      "|    471|[77424, 88985, 13...|\n",
      "|    496|             [69042]|\n",
      "|    833|[84598, 88328, 90...|\n",
      "|   1088|[88594, 146262, 2...|\n",
      "|   1238|      [64078, 86140]|\n",
      "|   1342|[85875, 105212, 1...|\n",
      "|   1580|[64518, 67922, 85...|\n",
      "|   1591|[82657, 115071, 1...|\n",
      "+-------+--------------------+\n",
      "only showing top 10 rows\n",
      "\n"
     ]
    }
   ],
   "source": [
    "#Exercise 2.2\n",
    "#Creating a dataframe that has a list of all the paper IDs rated by each user.\n",
    "paperListPerUserDF = mapUseIDtoPaperIDDF.groupBy(\"user_id\")\\\n",
    "                                         .agg(func.collect_list(\"paper_id\").alias(\"paper_id_list\"))\n",
    "\n",
    "paperListPerUserDF.show(10, truncate=True)"
   ]
  },
  {
   "cell_type": "code",
   "execution_count": 18,
   "metadata": {},
   "outputs": [],
   "source": [
    "#Exercise 2.2\n",
    "#Function getList returns a list of unrated paper IDS for a specific user.\n",
    "#The number of paper IDs in the output list is determined by the number of papers that the user has rated.\n",
    "def getList(ratedPaperList, paperCount):\n",
    "    \n",
    "    #Generate a list of paper IDs between 1 and the max paper ID.\n",
    "    genPaperList = list(range(1, paperCount+1))\n",
    "    \n",
    "    #randomly shuffle the list of broadcast values.\n",
    "    ran.shuffle(genPaperList)\n",
    "\n",
    "    ratedPaperSet = set(ratedPaperList)\n",
    "    #generating a list of unrated paper list.\n",
    "    unratedPaperList = [paperID for paperID in genPaperList if paperID not in ratedPaperSet]\n",
    "    \n",
    "    #Get the lengths of the rated and unrated lists.\n",
    "    unratedListLength = len(unratedPaperList)\n",
    "    ratedListLength = len(ratedPaperList)\n",
    "    \n",
    "    #if length of unrated list is less than the rated list.\n",
    "    if unratedListLength < ratedListLength:\n",
    "        #return the whole unrated papers lists.\n",
    "        return unratedPaperList[0:unratedListLength]\n",
    "    else:\n",
    "        #else return a list of same length as the rated papers list.\n",
    "        return unratedPaperList[0:ratedListLength]\n",
    "    \n",
    "#Creating a user defined function\n",
    "udf_getList = udf(getList, ArrayType(StringType()))"
   ]
  },
  {
   "cell_type": "code",
   "execution_count": 19,
   "metadata": {},
   "outputs": [
    {
     "data": {
      "text/plain": [
       "172079"
      ]
     },
     "execution_count": 19,
     "metadata": {},
     "output_type": "execute_result"
    }
   ],
   "source": [
    "#Exercise 2.2\n",
    "#Count the number of unique papers\n",
    "uniqPaperCount = userLibDF.select(userLibDF.paper).distinct().count()\n",
    "uniqPaperCount"
   ]
  },
  {
   "cell_type": "code",
   "execution_count": 20,
   "metadata": {},
   "outputs": [
    {
     "name": "stdout",
     "output_type": "stream",
     "text": [
      "+-------+--------------------+---------------------+\n",
      "|user_id|       paper_id_list|unrated_paper_id_list|\n",
      "+-------+--------------------+---------------------+\n",
      "|    148|[70152, 79681, 11...| [123705, 62040, 8...|\n",
      "|    463|     [163644, 28556]|     [134475, 113708]|\n",
      "|    471|[77424, 88985, 13...| [145945, 19178, 1...|\n",
      "|    496|             [69042]|              [26795]|\n",
      "|    833|[84598, 88328, 90...| [44498, 12401, 76...|\n",
      "|   1088|[88594, 146262, 2...| [2712, 164472, 38...|\n",
      "|   1238|      [64078, 86140]|      [144020, 85941]|\n",
      "|   1342|[85875, 105212, 1...| [24038, 48642, 17...|\n",
      "|   1580|[64518, 67922, 85...| [131259, 154018, ...|\n",
      "|   1591|[82657, 115071, 1...| [124166, 163291, ...|\n",
      "+-------+--------------------+---------------------+\n",
      "only showing top 10 rows\n",
      "\n"
     ]
    }
   ],
   "source": [
    "#Exercise 2.2\n",
    "\n",
    "#Creating a dataframe containing both list of rated and unrated papers.\n",
    "ratedAndUnratedDF = paperListPerUserDF.select(paperListPerUserDF.user_id,\\\n",
    "                                              paperListPerUserDF.paper_id_list,\\\n",
    "                                              func.lit(udf_getList(paperListPerUserDF.paper_id_list,\\\n",
    "                                                                   func.lit(uniqPaperCount)\\\n",
    "                                                                  )).alias(\"unrated_paper_id_list\"))\n",
    "\n",
    "ratedAndUnratedDF.show(10, truncate=True)"
   ]
  },
  {
   "cell_type": "code",
   "execution_count": 21,
   "metadata": {},
   "outputs": [
    {
     "name": "stdout",
     "output_type": "stream",
     "text": [
      "+-------+--------+------+\n",
      "|user_id|paper_id|rating|\n",
      "+-------+--------+------+\n",
      "|    716|     120|     1|\n",
      "|   1332|     120|     1|\n",
      "|   1569|     120|     1|\n",
      "|   4347|     120|     1|\n",
      "|   4675|     120|     1|\n",
      "|   6651|     120|     1|\n",
      "|   7640|     120|     1|\n",
      "|   8707|     120|     1|\n",
      "|   8923|     120|     1|\n",
      "|  10635|     120|     1|\n",
      "+-------+--------+------+\n",
      "only showing top 10 rows\n",
      "\n"
     ]
    }
   ],
   "source": [
    "#Exercise 2.2\n",
    "#Adding a rating value of \"1\" to the rated papers.\n",
    "explodedRatedPaperDF = mapUseIDtoPaperIDDF.withColumn(\"rating\", func.lit(1))\n",
    "explodedRatedPaperDF.show(10, truncate=True)"
   ]
  },
  {
   "cell_type": "code",
   "execution_count": 22,
   "metadata": {},
   "outputs": [
    {
     "name": "stdout",
     "output_type": "stream",
     "text": [
      "+-------+--------+------+\n",
      "|user_id|paper_id|rating|\n",
      "+-------+--------+------+\n",
      "|    148|  123705|     0|\n",
      "|    148|   62040|     0|\n",
      "|    148|   83323|     0|\n",
      "|    148|   55490|     0|\n",
      "|    148|  126803|     0|\n",
      "|    148|  102391|     0|\n",
      "|    148|      81|     0|\n",
      "|    463|  134475|     0|\n",
      "|    463|  113708|     0|\n",
      "|    471|  145945|     0|\n",
      "+-------+--------+------+\n",
      "only showing top 10 rows\n",
      "\n"
     ]
    }
   ],
   "source": [
    "#Exercise 2.2\n",
    "#Exploding the dataframe to get a row for each paper id in the unrated_paper_id_list.\n",
    "#Adding a rating value of \"0\" to the unrated papers\n",
    "explodedUnratedPaperDF = ratedAndUnratedDF.select(\"user_id\",\\\n",
    "                                        \"unrated_paper_id_list\")\\\n",
    "                                    .withColumn(\"paper_id\",\\\n",
    "                                               func.explode(ratedAndUnratedDF.unrated_paper_id_list))\\\n",
    "                                    .drop(\"unrated_paper_id_list\")\\\n",
    "                                    .withColumn(\"rating\", func.lit(0))\n",
    "explodedUnratedPaperDF.show(10, truncate=True)"
   ]
  },
  {
   "cell_type": "code",
   "execution_count": 23,
   "metadata": {},
   "outputs": [
    {
     "name": "stdout",
     "output_type": "stream",
     "text": [
      "+-------+--------+------+\n",
      "|user_id|paper_id|rating|\n",
      "+-------+--------+------+\n",
      "|    716|     120|     1|\n",
      "|   1332|     120|     1|\n",
      "|   1569|     120|     1|\n",
      "|   4347|     120|     1|\n",
      "|   4675|     120|     1|\n",
      "|   6651|     120|     1|\n",
      "|   7640|     120|     1|\n",
      "|   8707|     120|     1|\n",
      "|   8923|     120|     1|\n",
      "|  10635|     120|     1|\n",
      "|  11191|     120|     1|\n",
      "|  11970|     120|     1|\n",
      "|  13205|     120|     1|\n",
      "|  14295|     120|     1|\n",
      "|  15259|     120|     1|\n",
      "|  15379|     120|     1|\n",
      "|  15602|     120|     1|\n",
      "|  16239|     120|     1|\n",
      "|  16750|     120|     1|\n",
      "|  16949|     120|     1|\n",
      "+-------+--------+------+\n",
      "only showing top 20 rows\n",
      "\n"
     ]
    }
   ],
   "source": [
    "#Exercise 2.2\n",
    "#Creating the rating matrix by the union of rated papers and unrated papers dataframes.\n",
    "tempRatingMatrixDF = explodedRatedPaperDF.union(explodedUnratedPaperDF)\n",
    "\n",
    "ratingMatrixDF = tempRatingMatrixDF.withColumn(\"paper_id\", tempRatingMatrixDF.paper_id.cast(IntegerType()))\n",
    "#ratingMatrixDF.orderBy(\"user_id\", \"paper_id\").show(20, truncate=True)\n",
    "ratingMatrixDF.show(20, truncate=True)"
   ]
  },
  {
   "cell_type": "markdown",
   "metadata": {},
   "source": [
    "## Exercise 2.3 (ALS algorithm)\n",
    "Program that employs ALS to fit a model for the user-paper ratings matrix.<br>\n",
    "The learned model is used to generate top 10 recommendations for all users using the recommendForAllUsers method.<br>\n",
    "Outputting the top 10 recommendations for user with user_hash_id = 1eac022a97d683eace8815545ce3153f."
   ]
  },
  {
   "cell_type": "code",
   "execution_count": 24,
   "metadata": {},
   "outputs": [],
   "source": [
    "#Exercise 2.3\n",
    "#Build the recommendation model using ALS on the user-paper dataset.\n",
    "als = ALS(userCol=\"user_id\", itemCol=\"paper_id\", ratingCol=\"rating\", coldStartStrategy=\"drop\")\n",
    "#Fit a model to the input dataset.\n",
    "model = als.fit(ratingMatrixDF)\n"
   ]
  },
  {
   "cell_type": "code",
   "execution_count": 25,
   "metadata": {},
   "outputs": [
    {
     "name": "stdout",
     "output_type": "stream",
     "text": [
      "+-------+--------------------+\n",
      "|user_id|     recommendations|\n",
      "+-------+--------------------+\n",
      "|    148|[[82249, 1.055421...|\n",
      "|    463|[[4503, 1.0834513...|\n",
      "|    471|[[9106, 0.9980407...|\n",
      "|    496|[[69042, 0.846117...|\n",
      "|    833|[[50155, 1.021502...|\n",
      "|   1088|[[18617, 0.950473...|\n",
      "|   1238|[[128632, 1.01860...|\n",
      "|   1342|[[73359, 1.050505...|\n",
      "|   1580|[[155046, 1.05147...|\n",
      "|   1591|[[61596, 0.945298...|\n",
      "+-------+--------------------+\n",
      "only showing top 10 rows\n",
      "\n"
     ]
    }
   ],
   "source": [
    "#Exercise 2.3\n",
    "#Get the top 10 papers recommended for each user, for all users.\n",
    "top10UserRecommendations = model.recommendForAllUsers(10)\n",
    "top10UserRecommendations.show(10, truncate=True)\n"
   ]
  },
  {
   "cell_type": "code",
   "execution_count": 26,
   "metadata": {},
   "outputs": [
    {
     "name": "stdout",
     "output_type": "stream",
     "text": [
      "+-------+--------------------+--------+--------+----------+\n",
      "|user_id|                user|paper_id|   paper|    rating|\n",
      "+-------+--------------------+--------+--------+----------+\n",
      "|      1|f1e1cd4ff25018273...|   12407| 2584166|0.96801186|\n",
      "|      1|f1e1cd4ff25018273...|   18188| 2870248|0.95741355|\n",
      "|      1|f1e1cd4ff25018273...|   38855| 4073431| 0.9823489|\n",
      "|      1|f1e1cd4ff25018273...|   38862|  115153| 0.9744787|\n",
      "|      1|f1e1cd4ff25018273...|   42241|10010527|0.95699257|\n",
      "|      1|f1e1cd4ff25018273...|  145299| 2286653|0.99369365|\n",
      "|      1|f1e1cd4ff25018273...|  150913| 7203667|0.95481914|\n",
      "|      1|f1e1cd4ff25018273...|  165841| 1506799| 1.0324435|\n",
      "|      1|f1e1cd4ff25018273...|  166287| 2190154| 0.9574067|\n",
      "|      1|f1e1cd4ff25018273...|  171598| 3008518|  0.965914|\n",
      "|      2|188b2723f7349804c...|   33320|  531866|0.87082744|\n",
      "|      2|188b2723f7349804c...|   56490|  691656| 0.8822719|\n",
      "|      2|188b2723f7349804c...|   63062|  591547|0.86869156|\n",
      "|      2|188b2723f7349804c...|   81337|  361099| 0.8874064|\n",
      "|      2|188b2723f7349804c...|   82249|  563915| 0.8695109|\n",
      "|      2|188b2723f7349804c...|   93423|  352077|0.87949854|\n",
      "|      2|188b2723f7349804c...|  112726|  404974| 0.8812238|\n",
      "|      2|188b2723f7349804c...|  114563|  200762| 0.9018696|\n",
      "|      2|188b2723f7349804c...|  115339|  838804|0.88221765|\n",
      "|      2|188b2723f7349804c...|  157485|  439320|0.86971986|\n",
      "+-------+--------------------+--------+--------+----------+\n",
      "only showing top 20 rows\n",
      "\n"
     ]
    }
   ],
   "source": [
    "#Exercise 2.3\n",
    "#Displaying the papers recommended for all users.\n",
    "tempAllUserRecDF = top10UserRecommendations.select(\"user_id\",\\\n",
    "                                                   func.explode(top10UserRecommendations.recommendations)\\\n",
    "                                                   .alias(\"recommendation\"))\\\n",
    "                                            .join(mapIDToUserHashDF, \"user_id\", \"inner\")\n",
    "\n",
    "allUserRecDF = tempAllUserRecDF.select(\"user_id\",\"user\",\"recommendation.*\")\\\n",
    "                                .join(mapIDToPaperDF,\"paper_id\",\"inner\")\\\n",
    "                                .select(\"user_id\", \"user\", \"paper_id\", \"paper\", \"rating\")\\\n",
    "                                .orderBy(\"user_id\", \"paper_id\")\n",
    "allUserRecDF.show()"
   ]
  },
  {
   "cell_type": "code",
   "execution_count": 27,
   "metadata": {},
   "outputs": [
    {
     "name": "stdout",
     "output_type": "stream",
     "text": [
      "+-------+--------------------+\n",
      "|user_id|     recommendations|\n",
      "+-------+--------------------+\n",
      "|  15945|[[72066, 0.971466...|\n",
      "+-------+--------------------+\n",
      "\n"
     ]
    }
   ],
   "source": [
    "#Exercise 2.3\n",
    "#Getting the user_id of the specific user with user hash = 1eac022a97d683eace8815545ce3153f.\n",
    "specUserId = mapIDToUserHashDF.filter(mapIDToUserHashDF.user==\"1eac022a97d683eace8815545ce3153f\").select(\"user_id\")\n",
    "\n",
    "#Get the top 10 papers recommended for the user (user hash = 1eac022a97d683eace8815545ce3153f).\n",
    "rawSpecUserRecDF = model.recommendForUserSubset(specUserId, 10)\n",
    "rawSpecUserRecDF.show(10, truncate=True)\n"
   ]
  },
  {
   "cell_type": "code",
   "execution_count": 28,
   "metadata": {},
   "outputs": [
    {
     "name": "stdout",
     "output_type": "stream",
     "text": [
      "+-------+--------------------+--------+--------+----------+\n",
      "|user_id|                user|paper_id|   paper|    rating|\n",
      "+-------+--------------------+--------+--------+----------+\n",
      "|  15945|1eac022a97d683eac...|    6894| 9434869| 0.9529541|\n",
      "|  15945|1eac022a97d683eac...|   11474| 5431985|0.94648147|\n",
      "|  15945|1eac022a97d683eac...|   11622| 6099970|  0.955648|\n",
      "|  15945|1eac022a97d683eac...|   27164| 7724780|0.94272155|\n",
      "|  15945|1eac022a97d683eac...|   39268|10394786|0.95726615|\n",
      "|  15945|1eac022a97d683eac...|   55942| 9425250|0.94563717|\n",
      "|  15945|1eac022a97d683eac...|   72066| 2675581| 0.9714663|\n",
      "|  15945|1eac022a97d683eac...|  103766|  234387| 0.9422456|\n",
      "|  15945|1eac022a97d683eac...|  145653| 6509824|0.95265687|\n",
      "|  15945|1eac022a97d683eac...|  154578| 2334090|0.94797176|\n",
      "+-------+--------------------+--------+--------+----------+\n",
      "\n"
     ]
    }
   ],
   "source": [
    "#Exercise 2.3\n",
    "#Displaying the papers recommended for user with user hash value = 1eac022a97d683eace8815545ce3153f.\n",
    "tempSpecUserRecDF = rawSpecUserRecDF.join(mapIDToUserHashDF,\"user_id\",\"inner\")\\\n",
    "                                    .select(\"user_id\",\\\n",
    "                                            mapIDToUserHashDF.user,\\\n",
    "                                            func.explode(rawSpecUserRecDF.recommendations)\\\n",
    "                                            .alias(\"recommendation\"))\n",
    "\n",
    "specUserDF = tempSpecUserRecDF.select(\"user_id\",\"user\",\"recommendation.*\")\\\n",
    "                            .join(mapIDToPaperDF,\"paper_id\",\"inner\")\\\n",
    "                            .select(\"user_id\", \"user\", \"paper_id\", \"paper\", \"rating\")\\\n",
    "                            .orderBy(\"paper_id\")\n",
    "\n",
    "specUserDF.show()\n"
   ]
  },
  {
   "cell_type": "markdown",
   "metadata": {},
   "source": [
    "## Exercise 2.4 (Recommender System Evaluation)\n",
    "Using Spark to evaluate ALS-based recommender built in previous exercise.<br>\n",
    "a) Split the ratings randomly into training set and test set with 70% and 30% of the dataset.<br>\n",
    "b) Fit a model on the training set.<br>\n",
    "c) Calculate the Root Mean Squared Error (RMSE) over the test set.<br>\n",
    "d) Generate top 10 recommendations over the test set:<br>\n",
    "&emsp;&emsp;1) Apply the learned model over the test set.<br>\n",
    "&emsp;&emsp;2) For each user, order the papers by the predicted ratings descendingly.<br>\n",
    "&emsp;&emsp;3) Choose the top 10 papers to be the recommendations for that user.<br>"
   ]
  },
  {
   "cell_type": "code",
   "execution_count": 29,
   "metadata": {},
   "outputs": [
    {
     "name": "stdout",
     "output_type": "stream",
     "text": [
      "Root Mean Square Error of the test data =  0.3825062004843821\n"
     ]
    }
   ],
   "source": [
    "#Exercise 2.4\n",
    "#Randomly splitting the ratings matrix into training and test sets with 0.7 and 0.3 as weights.\n",
    "(trainingDF, testDF) = ratingMatrixDF.randomSplit([0.7, 0.3])\n",
    "\n",
    "#Building the recommendation model using ALS.\n",
    "alsEval = ALS(userCol=\"user_id\", itemCol=\"paper_id\", ratingCol=\"rating\", coldStartStrategy=\"drop\")\n",
    "#Fitting a model to the input dataset.\n",
    "modelEval = alsEval.fit(trainingDF)\n",
    "\n",
    "#Transforming the test dataset over the trained model.\n",
    "predictionsDF = modelEval.transform(testDF)\n",
    "#Evaluation of the model by calculating the RMSE on the test dataset.\n",
    "evaluator = RegressionEvaluator(metricName=\"rmse\", labelCol=\"rating\", predictionCol=\"prediction\")\n",
    "rmse = evaluator.evaluate(predictionsDF)\n",
    "print(\"Root Mean Square Error of the test data = \" ,str(rmse))"
   ]
  },
  {
   "cell_type": "code",
   "execution_count": 30,
   "metadata": {},
   "outputs": [
    {
     "name": "stdout",
     "output_type": "stream",
     "text": [
      "+-------+--------+------+------------+-------+\n",
      "|user_id|paper_id|rating|  prediction|ranking|\n",
      "+-------+--------+------+------------+-------+\n",
      "|    148|   70152|     1|   0.2025077|      1|\n",
      "|    148|  171678|     1|  0.16067846|      2|\n",
      "|    148|   55490|     0|  0.12665106|      3|\n",
      "|    148|  133693|     1|-0.014195418|      4|\n",
      "|    463|  163644|     1|  0.14639947|      1|\n",
      "|    471|  112992|     0|  0.12123313|      1|\n",
      "|    496|   69042|     1|         0.0|      1|\n",
      "|    833|   18255|     1|   0.9023204|      1|\n",
      "|    833|   27195|     1|   0.5614372|      2|\n",
      "|    833|  145570|     0| -0.06599192|      3|\n",
      "|    833|  105524|     0| -0.21002784|      4|\n",
      "|   1088|   40550|     1|         0.0|      1|\n",
      "|   1088|   68376|     0| -0.16001967|      2|\n",
      "|   1238|   86140|     1|   0.9680807|      1|\n",
      "|   1238|   85941|     0|  0.06895757|      2|\n",
      "|   1238|  144020|     0| -0.35656902|      3|\n",
      "|   1342|   24038|     0| 0.007301946|      1|\n",
      "|   1580|  104084|     1|   0.7386773|      1|\n",
      "|   1580|  126293|     1|   0.5016364|      2|\n",
      "|   1580|   38523|     0|   0.2767478|      3|\n",
      "+-------+--------+------+------------+-------+\n",
      "only showing top 20 rows\n",
      "\n"
     ]
    }
   ],
   "source": [
    "#Exercise 2.4\n",
    "#For each user, order the papers by the predicted ratings descendingly.\n",
    "predictWindow = Window.partitionBy(\"user_id\").orderBy(func.desc(\"prediction\"))\n",
    "\n",
    "#Adding a rank to the papers according to their prediction value.\n",
    "rankedPredictionDF = predictionsDF.withColumn(\"ranking\", func.row_number().over(predictWindow))\n",
    "\n",
    "#Top 10 papers with highest prediction value for each user.\n",
    "top10rankedPredictionDF = rankedPredictionDF.filter(rankedPredictionDF.ranking<=10)\n",
    "top10rankedPredictionDF.show(20, truncate=True)"
   ]
  },
  {
   "cell_type": "code",
   "execution_count": 31,
   "metadata": {},
   "outputs": [
    {
     "name": "stdout",
     "output_type": "stream",
     "text": [
      "+-------+--------------------+--------+-------+------------+-------+\n",
      "|user_id|                user|paper_id|  paper|  prediction|ranking|\n",
      "+-------+--------------------+--------+-------+------------+-------+\n",
      "|      1|f1e1cd4ff25018273...|   62923| 455895|   0.8979271|      1|\n",
      "|      1|f1e1cd4ff25018273...|   93698| 281580|   0.8608447|      2|\n",
      "|      1|f1e1cd4ff25018273...|    7948|1067275|   0.7858701|      3|\n",
      "|      1|f1e1cd4ff25018273...|  154868| 163438|   0.7627699|      4|\n",
      "|      1|f1e1cd4ff25018273...|  118635|2663722|   0.7439508|      5|\n",
      "|      1|f1e1cd4ff25018273...|   93699|8222303|   0.7429907|      6|\n",
      "|      1|f1e1cd4ff25018273...|   80144|7191140|   0.7409953|      7|\n",
      "|      1|f1e1cd4ff25018273...|   13133| 470320|   0.7404673|      8|\n",
      "|      1|f1e1cd4ff25018273...|  161704| 686087|  0.73775625|      9|\n",
      "|      1|f1e1cd4ff25018273...|  112659| 486808|  0.72156346|     10|\n",
      "|      2|188b2723f7349804c...|  125578| 200744|   0.5968506|      1|\n",
      "|      2|188b2723f7349804c...|  141925| 705088|   0.1199555|      2|\n",
      "|      2|188b2723f7349804c...|   45110|4401831|0.0062588677|      3|\n",
      "|      3|fc0d51c63591e5b0b...|  115330| 638098|   0.8345657|      1|\n",
      "|      3|fc0d51c63591e5b0b...|  153978| 321786|   0.8218585|      2|\n",
      "|      3|fc0d51c63591e5b0b...|   47422| 904241|   0.8205271|      3|\n",
      "|      3|fc0d51c63591e5b0b...|   72377| 970674|   0.8205271|      4|\n",
      "|      3|fc0d51c63591e5b0b...|  167830| 749633|   0.8123714|      5|\n",
      "|      3|fc0d51c63591e5b0b...|   96380| 611010|   0.7975064|      6|\n",
      "|      3|fc0d51c63591e5b0b...|  118717| 638162|   0.7904838|      7|\n",
      "+-------+--------------------+--------+-------+------------+-------+\n",
      "only showing top 20 rows\n",
      "\n"
     ]
    }
   ],
   "source": [
    "#Exercise 2.4\n",
    "#retrieving the paper and user\n",
    "top10rankedPredictionDF.join(mapIDToUserHashDF,\"user_id\",\"inner\")\\\n",
    "                        .join(mapIDToPaperDF,\"paper_id\",\"inner\")\\\n",
    "                        .orderBy([\"user_id\", \"ranking\"], ascending=[1, 1])\\\n",
    "                        .select(\"user_id\", \"user\", \"paper_id\", \"paper\", \"prediction\", \"ranking\").show()"
   ]
  },
  {
   "cell_type": "markdown",
   "metadata": {},
   "source": [
    "## Exercise 2.5\n",
    "2 of ALS parameters are:<br>\n",
    "&emsp;&emsp;a) rank - is the number of latent factors in the model (defaults to 10)<br>\n",
    "&emsp;&emsp;b) maxIter - is the maximum number of iterations to run (defaults to 10)<br>"
   ]
  },
  {
   "cell_type": "code",
   "execution_count": 32,
   "metadata": {},
   "outputs": [],
   "source": [
    "#Exercise 2.5\n",
    "#Building the recommendation model using ALS.\n",
    "alsRank = ALS(userCol=\"user_id\", itemCol=\"paper_id\", ratingCol=\"rating\", coldStartStrategy=\"drop\")\n",
    "#Build ParamGridBuilder to construct a grid of parameters to search over.\n",
    "paramRank = ParamGridBuilder().addGrid(alsRank.rank, [10, 25, 50]).build()\n",
    "\n",
    "#Create an instance of CrossValidator.\n",
    "crossValidatorRank = CrossValidator(estimator=alsRank,\\\n",
    "                                    estimatorParamMaps=paramRank,\\\n",
    "                                    evaluator=evaluator,\\\n",
    "                                    numFolds=2)\n",
    "#Create a CrossValidator model and fit with the rating matrix.\n",
    "CVRankModel = crossValidatorRank.fit(ratingMatrixDF)\n"
   ]
  },
  {
   "cell_type": "code",
   "execution_count": 33,
   "metadata": {},
   "outputs": [
    {
     "data": {
      "text/plain": [
       "50"
      ]
     },
     "execution_count": 33,
     "metadata": {},
     "output_type": "execute_result"
    }
   ],
   "source": [
    "#Exercise 2.5\n",
    "#Optimal value for Rank that optimises RMSE\n",
    "CVRankModel.bestModel.rank"
   ]
  },
  {
   "cell_type": "code",
   "execution_count": 34,
   "metadata": {},
   "outputs": [
    {
     "data": {
      "text/plain": [
       "0.40613491272939517"
      ]
     },
     "execution_count": 34,
     "metadata": {},
     "output_type": "execute_result"
    }
   ],
   "source": [
    "#Exercise 2.5\n",
    "#RMSE value obtained with the optimal value for Rank\n",
    "CVRankModel.avgMetrics[1]"
   ]
  },
  {
   "cell_type": "code",
   "execution_count": 35,
   "metadata": {},
   "outputs": [],
   "source": [
    "#Building the recommendation model using ALS.\n",
    "alsMaxIter = ALS(userCol=\"user_id\", itemCol=\"paper_id\", ratingCol=\"rating\", coldStartStrategy=\"drop\")\n",
    "#Build ParamGridBuilder to construct a grid of parameters to search over.\n",
    "paramMaxIter = ParamGridBuilder().addGrid(alsRank.maxIter, [5, 10, 15, 20, 25]).build()\n",
    "\n",
    "#Create an instance of CrossValidator.\n",
    "crossValidatorMaxIter = CrossValidator(estimator=alsMaxIter,\\\n",
    "                                       estimatorParamMaps=paramMaxIter,\\\n",
    "                                       evaluator=evaluator,\\\n",
    "                                       numFolds=2)\n",
    "#Create a CrossValidator model and fit with the rating matrix.\n",
    "CVMaxIterModel = crossValidatorMaxIter.fit(ratingMatrixDF)"
   ]
  },
  {
   "cell_type": "code",
   "execution_count": 36,
   "metadata": {},
   "outputs": [
    {
     "data": {
      "image/png": "[encoded data removed]",
      "text/plain": [
       "<Figure size 432x288 with 1 Axes>"
      ]
     },
     "metadata": {
      "needs_background": "light"
     },
     "output_type": "display_data"
    }
   ],
   "source": [
    "#Plotting maxIter parameters values against the RMSE\n",
    "plt.plot([5, 10, 15, 20, 25],CVMaxIterModel.avgMetrics)\n",
    "plt.ylabel(\"Root Mean Square Error\")\n",
    "plt.xlabel(\"Max Iteration values\")\n",
    "plt.show()"
   ]
  },
  {
   "cell_type": "code",
   "execution_count": null,
   "metadata": {},
   "outputs": [],
   "source": []
  }
 ],
 "metadata": {
  "kernelspec": {
   "display_name": "Python 3",
   "language": "python",
   "name": "python3"
  },
  "language_info": {
   "codemirror_mode": {
    "name": "ipython",
    "version": 3
   },
   "file_extension": ".py",
   "mimetype": "text/x-python",
   "name": "python",
   "nbconvert_exporter": "python",
   "pygments_lexer": "ipython3",
   "version": "3.6.6"
  }
 },
 "nbformat": 4,
 "nbformat_minor": 2
}
