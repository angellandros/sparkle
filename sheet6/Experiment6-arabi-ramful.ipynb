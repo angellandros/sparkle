{
 "cells": [
  {
   "cell_type": "code",
   "execution_count": 90,
   "metadata": {},
   "outputs": [],
   "source": [
    "%matplotlib inline\n",
    "\n",
    "from pyspark.sql import SparkSession, functions\n",
    "\n",
    "import numpy as np\n",
    "import scipy\n",
    "import scipy.linalg as la\n",
    "import doctest\n",
    "import re\n",
    "import random\n",
    "import matplotlib.pyplot as plt\n",
    "\n",
    "spark = SparkSession.builder.appName(\"Experiment6\").getOrCreate()\n",
    "sc = spark.sparkContext"
   ]
  },
  {
   "cell_type": "markdown",
   "metadata": {},
   "source": [
    "# Load the Data"
   ]
  },
  {
   "cell_type": "code",
   "execution_count": 2,
   "metadata": {},
   "outputs": [
    {
     "data": {
      "text/plain": [
       "[('28d3f81251d94b09735497477a5e4e02',\n",
       "  ['3929762',\n",
       "   '503574',\n",
       "   '5819422',\n",
       "   '4238883',\n",
       "   '5788061',\n",
       "   '462949',\n",
       "   '635215',\n",
       "   '635216',\n",
       "   '4810441',\n",
       "   '3481823',\n",
       "   '4165233',\n",
       "   '3366480',\n",
       "   '5984302',\n",
       "   '4238942',\n",
       "   '5490453',\n",
       "   '4636156',\n",
       "   '5996865',\n",
       "   '4194836',\n",
       "   '5828780',\n",
       "   '4450195'])]"
      ]
     },
     "execution_count": 2,
     "metadata": {},
     "output_type": "execute_result"
    }
   ],
   "source": [
    "userLibrariesRDD = \\\n",
    "    sc.textFile('/home/jovyan/work/users_libraries.txt') \\\n",
    "        .map(lambda l: l.split(';')) \\\n",
    "        .mapValues(lambda value: value.split(','))\n",
    "\n",
    "userLibrariesRDD.take(1)"
   ]
  },
  {
   "cell_type": "code",
   "execution_count": 3,
   "metadata": {},
   "outputs": [
    {
     "data": {
      "text/plain": [
       "Row(id='80546', type='article', journal='biology and philosophy', book=None, series=None, publisher=None, pages='17', volume='19', number='2', year='2004', month='mar', postedate='2005-01-26 21:35:21', address=None, title='the arbitrariness of the genetic code', abstract=\"the genetic code has been regarded as arbitrary in the sense that the codon-amino acid assignments could be different than they actually are. this general idea has been spelled out differently by previous, often rather implicit accounts of arbitrariness. they have drawn on the frozen accident theory, on evolutionary contingency, on alternative causal pathways, and on the absence of direct stereochemical interactions between codons and amino acids. it has also been suggested that the arbitrariness of the genetic code justifies attributing semantic information to macromolecules, notably to {dna}. i argue that these accounts of arbitrariness are unsatisfactory. i propose that the code is arbitrary in the sense of jacques monod's concept of chemical arbitrariness: the genetic code is arbitrary in that any codon requires certain chemical and structural properties to specify a particular amino acid, but these properties are not required in virtue of a principle of chemistry. this notion of arbitrariness is compatible with several recent hypotheses about code evolution. i maintain that the code's chemical arbitrariness is neither sufficient nor necessary for attributing semantic information to nucleic acids.\")"
      ]
     },
     "execution_count": 3,
     "metadata": {},
     "output_type": "execute_result"
    }
   ],
   "source": [
    "paperColumns = ['id', 'type', 'journal', 'book', 'series', 'publisher', 'pages', 'volume', \n",
    "                 'number', 'year', 'month', 'postedate', 'address', 'title', 'abstract']\n",
    "papersDF = \\\n",
    "    spark.read.csv('/home/jovyan/work/papers.csv') \\\n",
    "        .toDF(*paperColumns)\n",
    "\n",
    "papersDF.first()"
   ]
  },
  {
   "cell_type": "markdown",
   "metadata": {},
   "source": [
    "# Exercise 6.1"
   ]
  },
  {
   "cell_type": "markdown",
   "metadata": {},
   "source": [
    "a) Here we create a dataset of triples `(user_id, paper_id, label)`. Creating the positive labels to the dataset is straightforward:"
   ]
  },
  {
   "cell_type": "code",
   "execution_count": 10,
   "metadata": {},
   "outputs": [
    {
     "data": {
      "text/plain": [
       "[(('28d3f81251d94b09735497477a5e4e02', '3929762'), 1),\n",
       " (('28d3f81251d94b09735497477a5e4e02', '503574'), 1),\n",
       " (('28d3f81251d94b09735497477a5e4e02', '5819422'), 1),\n",
       " (('28d3f81251d94b09735497477a5e4e02', '4238883'), 1)]"
      ]
     },
     "execution_count": 10,
     "metadata": {},
     "output_type": "execute_result"
    }
   ],
   "source": [
    "triplesDatasetPositives = \\\n",
    "    userLibrariesRDD.flatMapValues(lambda l: l) \\\n",
    "        .map(lambda pair: (pair, 1))\n",
    "\n",
    "triplesDatasetPositives.take(4)"
   ]
  },
  {
   "cell_type": "markdown",
   "metadata": {},
   "source": [
    "Creating the negative labels requires more computation. To do so, we need all the paper IDs, as well as a function to sample from papers outside the library randomly."
   ]
  },
  {
   "cell_type": "code",
   "execution_count": 32,
   "metadata": {},
   "outputs": [
    {
     "data": {
      "text/plain": [
       "['80546', '5842862', '1242600', '3467077']"
      ]
     },
     "execution_count": 32,
     "metadata": {},
     "output_type": "execute_result"
    }
   ],
   "source": [
    "paperIDsBC = sc.broadcast(papersDF.select('id').rdd.map(lambda x: x.id).collect())\n",
    "\n",
    "paperIDsBC.value[:4]"
   ]
  },
  {
   "cell_type": "code",
   "execution_count": 38,
   "metadata": {},
   "outputs": [
    {
     "data": {
      "text/plain": [
       "['118570',\n",
       " '1468550',\n",
       " '9091517',\n",
       " '1387568',\n",
       " '4369920',\n",
       " '841568',\n",
       " '950610',\n",
       " '3815481',\n",
       " '3494700',\n",
       " '1350937',\n",
       " '6398238',\n",
       " '3111684',\n",
       " '745197',\n",
       " '2468627',\n",
       " '6391463',\n",
       " '6930514',\n",
       " '1870365',\n",
       " '6963142',\n",
       " '1811386',\n",
       " '445587']"
      ]
     },
     "execution_count": 38,
     "metadata": {},
     "output_type": "execute_result"
    }
   ],
   "source": [
    "def sampleNegatives(positives):\n",
    "    positivesSet = set(positives)\n",
    "    filtered = list(filter(lambda i: i not in positivesSet, paperIDsBC.value))\n",
    "    return random.sample(filtered, len(positives))\n",
    "\n",
    "# sampleNegatives(paperIDsRDD.take(4))\n",
    "sampleNegatives(userLibrariesRDD.first()[1])"
   ]
  },
  {
   "cell_type": "markdown",
   "metadata": {},
   "source": [
    "Now, with the function defined, we can create the negative (`0`) labels."
   ]
  },
  {
   "cell_type": "code",
   "execution_count": 39,
   "metadata": {},
   "outputs": [
    {
     "data": {
      "text/plain": [
       "[(('28d3f81251d94b09735497477a5e4e02', '2805215'), 0),\n",
       " (('28d3f81251d94b09735497477a5e4e02', '4992552'), 0),\n",
       " (('28d3f81251d94b09735497477a5e4e02', '6356642'), 0),\n",
       " (('28d3f81251d94b09735497477a5e4e02', '821356'), 0)]"
      ]
     },
     "execution_count": 39,
     "metadata": {},
     "output_type": "execute_result"
    }
   ],
   "source": [
    "triplesDatasetNegatives = \\\n",
    "    userLibrariesRDD.flatMapValues(lambda l: sampleNegatives(l)) \\\n",
    "    .map(lambda pair: (pair, 0))\n",
    "\n",
    "triplesDatasetNegatives.take(4)"
   ]
  },
  {
   "cell_type": "code",
   "execution_count": 41,
   "metadata": {},
   "outputs": [],
   "source": [
    "triplesDataset = sc.union([triplesDatasetPositives, triplesDatasetNegatives])"
   ]
  },
  {
   "cell_type": "markdown",
   "metadata": {},
   "source": [
    "b) With the dataset ready, we can now extract the features."
   ]
  },
  {
   "cell_type": "code",
   "execution_count": 149,
   "metadata": {},
   "outputs": [
    {
     "data": {
      "text/plain": [
       "[('dfe220b4efb90d9715b5bb63ade6e8a7', [3, 6.333333333333333])]"
      ]
     },
     "execution_count": 149,
     "metadata": {},
     "output_type": "execute_result"
    }
   ],
   "source": [
    "# First, we extract the user features.\n",
    "def extractUserFeatures(articlePagesList):\n",
    "    lengths = [int(x[1][0]) for x in articlePagesList]\n",
    "    return [len(articlePagesList), np.mean(lengths)]\n",
    "\n",
    "userLibrariesInvertedRDD = userLibrariesRDD.flatMapValues(lambda l: l).map(lambda pair: (pair[1], pair[0]))\n",
    "\n",
    "usersFeaturesMapRDD = \\\n",
    "    papersDF.select('id', 'pages') \\\n",
    "        .rdd \\\n",
    "        .map(lambda paper: (paper.id, paper.pages)) \\\n",
    "        .filter(lambda pair: pair[1] is not None and pair[1].isnumeric()) \\\n",
    "        .join(userLibrariesInvertedRDD) \\\n",
    "        .groupBy(lambda pair: pair[1][1]) \\\n",
    "        .mapValues(extractUserFeatures)\n",
    "\n",
    "usersFeaturesMapRDD.take(1)"
   ]
  },
  {
   "cell_type": "markdown",
   "metadata": {},
   "source": [
    "# Exercise 6.2"
   ]
  },
  {
   "cell_type": "markdown",
   "metadata": {},
   "source": [
    "To be able to filter the data correcly, we need to observe it first."
   ]
  },
  {
   "cell_type": "code",
   "execution_count": 65,
   "metadata": {},
   "outputs": [
    {
     "name": "stdout",
     "output_type": "stream",
     "text": [
      "Number of null pages: 53126\n",
      "Number of null years: 19\n",
      "Number of null types: 0\n"
     ]
    }
   ],
   "source": [
    "print('no. of null pages:', papersDF.filter('pages is null').count())\n",
    "print('no. of null years:', papersDF.filter('year is null').count())\n",
    "print('no. of null types:', papersDF.filter('type is null').count())"
   ]
  },
  {
   "cell_type": "markdown",
   "metadata": {},
   "source": [
    "## 6.2.1 Pages"
   ]
  },
  {
   "cell_type": "markdown",
   "metadata": {},
   "source": [
    "The observation above shows that the field `pages` has a lot of anomality. Some 30% of the papers are missing this field, and some of them have malformed data for that field:"
   ]
  },
  {
   "cell_type": "code",
   "execution_count": 129,
   "metadata": {},
   "outputs": [
    {
     "name": "stdout",
     "output_type": "stream",
     "text": [
      "no. of papers: 172079\n",
      "no. of papers pages = null: 53126\n",
      "no. of papers pages = NaN : 244\n",
      "no. of papers pages = zero: 0\n"
     ]
    }
   ],
   "source": [
    "# Observe anomalities in the field pages\n",
    "print('no. of papers:', papersDF.count())\n",
    "print('no. of papers pages = null:', papersDF.filter('pages is null').count())\n",
    "print('no. of papers pages = NaN :', \n",
    "      papersDF.filter('pages is not null').rdd.map(lambda r: r.pages).filter(lambda x: not x.isnumeric()).count())\n",
    "print('no. of papers pages = zero:', papersDF.filter(\"pages = '0'\").count())"
   ]
  },
  {
   "cell_type": "markdown",
   "metadata": {},
   "source": [
    "In addition to the unclean data, there are some outliers in the data. There are four enormous number in these fields, affect the _mean_ big time. We can also discard the last two percent of the data in our calculations as the outliers."
   ]
  },
  {
   "cell_type": "code",
   "execution_count": 130,
   "metadata": {},
   "outputs": [
    {
     "name": "stdout",
     "output_type": "stream",
     "text": [
      "[4748.0, 5602.0, 6607.0, 6700.0, 8999.0, 9293.0, 12428999.0, 15000939.0, 19815531.0, 20109963.0]\n",
      "1.0 9.0 42.0\n",
      "10.455230226146407\n",
      "12.635533465313172\n"
     ]
    },
    {
     "data": {
      "image/png": "[encoded data removed]",
      "text/plain": [
       "<Figure size 432x288 with 2 Axes>"
      ]
     },
     "metadata": {
      "needs_background": "light"
     },
     "output_type": "display_data"
    }
   ],
   "source": [
    "# Collect the numerical pages from the dataframe\n",
    "papersPagesList = \\\n",
    "    papersDF.filter('pages is not null') \\\n",
    "        .rdd \\\n",
    "        .map(lambda row: row.pages) \\\n",
    "        .filter(lambda pages: pages.isnumeric()) \\\n",
    "        .map(lambda pages: float(pages)) \\\n",
    "        .collect()\n",
    "\n",
    "# To find possible outliers, print the 10 largest numbers\n",
    "sortedPapersPagesList = sorted(papersPagesList)\n",
    "print(sortedPapersPagesList[-10:])\n",
    "\n",
    "# Plot the distribution and the boxplot\n",
    "from scipy.stats import gaussian_kde as KDE\n",
    "papersPagesDensity = KDE(sortedPapersPagesList[:-4])\n",
    "xs = np.linspace(1,10000,200)\n",
    "\n",
    "plt.subplot(121)\n",
    "plt.xscale('log')\n",
    "plt.plot(xs, papersPagesDensity(xs))\n",
    "\n",
    "plt.subplot(122)\n",
    "plt.yscale('log')\n",
    "plt.boxplot(sortedPapersPagesList[:-4])\n",
    "\n",
    "# Find the 2nd, 50th, and 98th percentiles, as well as mean in the middle part (2—98)\n",
    "print(np.percentile(sortedPapersPagesList, 2), \n",
    "      np.median(sortedPapersPagesList),\n",
    "      np.percentile(sortedPapersPagesList, 98))\n",
    "print(np.mean(list(filter(lambda x: x < 43, sortedPapersPagesList))))\n",
    "print(np.mean(sortedPapersPagesList[:-4]))"
   ]
  },
  {
   "cell_type": "markdown",
   "metadata": {},
   "source": [
    "The median of `pages` is $9$. The mean after removing the outliers rounds up to $10$, and without rounds up to $13$. It shows that using _median_ instead of _mean_ would have been advantageous from the beginning."
   ]
  },
  {
   "cell_type": "markdown",
   "metadata": {},
   "source": [
    "# 6.2.2 Year"
   ]
  },
  {
   "cell_type": "code",
   "execution_count": 131,
   "metadata": {},
   "outputs": [
    {
     "name": "stdout",
     "output_type": "stream",
     "text": [
      "years mean  : 2003.9430744466324\n",
      "years median: 2006.0\n"
     ]
    }
   ],
   "source": [
    "papersYearRDD = \\\n",
    "    papersDF.filter('year is not null') \\\n",
    "        .rdd \\\n",
    "        .map(lambda row: row.year) \\\n",
    "        .filter(lambda year: year.isnumeric()) \\\n",
    "        .map(lambda year: float(year)) \\\n",
    "        .filter(lambda year: 1400 < year < 2020)  # without this, mean would be 3212.38\n",
    "print('years mean  :', papersYearRDD.mean())\n",
    "print('years median:', np.median(papersYearRDD.collect()))"
   ]
  },
  {
   "cell_type": "markdown",
   "metadata": {},
   "source": [
    "# 6.2.3 Type"
   ]
  },
  {
   "cell_type": "code",
   "execution_count": 137,
   "metadata": {},
   "outputs": [
    {
     "data": {
      "text/plain": [
       "[('booklet', 46),\n",
       " ('manual', 69),\n",
       " ('mastersthesis', 119),\n",
       " ('phdthesis', 375),\n",
       " ('inbook', 665),\n",
       " ('techreport', 1130),\n",
       " ('unpublished', 1491),\n",
       " ('electronic', 1659),\n",
       " ('proceedings', 2204),\n",
       " ('incollection', 3612),\n",
       " ('misc', 5365),\n",
       " ('book', 9553),\n",
       " ('inproceedings', 17019),\n",
       " ('article', 128772)]"
      ]
     },
     "execution_count": 137,
     "metadata": {},
     "output_type": "execute_result"
    }
   ],
   "source": [
    "papersTypeCount = \\\n",
    "    papersDF.select('type') \\\n",
    "        .rdd \\\n",
    "        .map(lambda row: (row.type, 1)) \\\n",
    "        .reduceByKey(lambda x, y: x+y) \\\n",
    "        .sortBy(lambda pair: pair[1]) \\\n",
    "        .collect()\n",
    "\n",
    "papersTypeDict = [pair[0] for pair in papersTypeCount]\n",
    "\n",
    "papersTypeCount"
   ]
  },
  {
   "cell_type": "markdown",
   "metadata": {},
   "source": [
    "# 6.2.4 Imputer\n",
    "There is a fancy Spark imputer, but it requires numerical values to be able to use _mean_. To be able to use it, we should transform the DF, and if we must transform the DF, we can impute manually, althogether. Furthermore, we need to round up the final value of the mean, which does not seem like Spark does automatically."
   ]
  },
  {
   "cell_type": "code",
   "execution_count": 147,
   "metadata": {},
   "outputs": [
    {
     "data": {
      "text/plain": [
       "[17, 2004, 0, 0, 0, 0, 0, 0, 0, 0, 0, 0, 0, 0, 0, 1]"
      ]
     },
     "execution_count": 147,
     "metadata": {},
     "output_type": "execute_result"
    }
   ],
   "source": [
    "def extractPaperFeatures(row):\n",
    "    pages = int(row.pages) if row.pages is not None and row.pages.isnumeric() else 10\n",
    "    year = int(row.year) if row.year is not None and row.year.isnumeric() else 2004\n",
    "    hotType = [1 if row.type == cat else 0 for cat in papersTypeDict]\n",
    "    return [pages, year] + hotType\n",
    "\n",
    "extractPaperFeatures(papersDF.first())"
   ]
  },
  {
   "cell_type": "markdown",
   "metadata": {},
   "source": [
    "# 6.2.5 Transform Data\n",
    "Now we are ready to generate the dataset. To do so, we create two local hashmaps to transform the id-id-label dataset into a vector-label data."
   ]
  },
  {
   "cell_type": "code",
   "execution_count": 150,
   "metadata": {},
   "outputs": [],
   "source": [
    "usersFeaturesMap = usersFeaturesMapRDD.collectAsMap()\n",
    "papersFeaturesMap = \\\n",
    "    papersDF.rdd \\\n",
    "        .map(lambda row: (row.id, extractPaperFeatures(row))) \\\n",
    "        .collectAsMap()"
   ]
  },
  {
   "cell_type": "code",
   "execution_count": 152,
   "metadata": {},
   "outputs": [
    {
     "data": {
      "text/plain": [
       "[([1, 54.0, 10, 2007, 0, 0, 0, 0, 0, 0, 0, 0, 0, 0, 0, 0, 0, 1], 1),\n",
       " ([1, 54.0, 10, 2006, 0, 0, 0, 0, 0, 0, 0, 1, 0, 0, 0, 0, 0, 0], 1),\n",
       " ([1, 54.0, 10, 2009, 0, 0, 0, 0, 0, 0, 0, 0, 0, 0, 0, 0, 0, 1], 1),\n",
       " ([1, 54.0, 54, 2009, 0, 0, 0, 0, 0, 0, 0, 0, 0, 0, 0, 0, 0, 1], 1)]"
      ]
     },
     "execution_count": 152,
     "metadata": {},
     "output_type": "execute_result"
    }
   ],
   "source": [
    "labledDataSet = \\\n",
    "    triplesDataset.map(lambda pair: (usersFeaturesMap[pair[0][0]] + papersFeaturesMap[pair[0][1]], pair[1]))\n",
    "\n",
    "labledDataSet.take(4)"
   ]
  },
  {
   "cell_type": "code",
   "execution_count": null,
   "metadata": {},
   "outputs": [],
   "source": []
  }
 ],
 "metadata": {
  "kernelspec": {
   "display_name": "Python 3",
   "language": "python",
   "name": "python3"
  },
  "language_info": {
   "codemirror_mode": {
    "name": "ipython",
    "version": 3
   },
   "file_extension": ".py",
   "mimetype": "text/x-python",
   "name": "python",
   "nbconvert_exporter": "python",
   "pygments_lexer": "ipython3",
   "version": "3.6.6"
  }
 },
 "nbformat": 4,
 "nbformat_minor": 2
}
